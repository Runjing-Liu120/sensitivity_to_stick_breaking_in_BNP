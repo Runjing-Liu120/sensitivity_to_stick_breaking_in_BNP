{
 "cells": [
  {
   "cell_type": "markdown",
   "metadata": {},
   "source": [
    "This notebook demonstrates use of our linear approximation for a multiplicative functional perturbation "
   ]
  },
  {
   "cell_type": "code",
   "execution_count": 41,
   "metadata": {
    "collapsed": false
   },
   "outputs": [],
   "source": [
    "from autograd import numpy as np\n",
    "from autograd import scipy as sp\n",
    "\n",
    "from numpy.polynomial.hermite import hermgauss\n",
    "\n",
    "np.random.seed(453453)\n",
    "\n",
    "\n",
    "import paragami\n",
    "\n",
    "# BNP sensitivity libraries\n",
    "import sys\n",
    "sys.path.insert(0, '../libraries/')\n",
    "import gmm_clustering_lib as gmm_lib\n",
    "import modeling_lib \n",
    "import functional_sensitivity_lib as fun_sens_lib \n",
    "import utils_lib\n",
    "import optimization_lib \n",
    "import cluster_quantities_lib as cluster_lib\n",
    "\n",
    "\n",
    "import matplotlib.pyplot as plt\n",
    "%matplotlib inline\n",
    "\n",
    "from sklearn.decomposition import PCA\n",
    "\n",
    "from copy import deepcopy\n",
    "\n",
    "from tqdm import tqdm\n",
    "\n",
    "import json "
   ]
  },
  {
   "cell_type": "code",
   "execution_count": 2,
   "metadata": {
    "collapsed": true
   },
   "outputs": [],
   "source": [
    "# colors for plotting\n",
    "import matplotlib.cm as cm\n",
    "\n",
    "cmap = cm.get_cmap(name='gist_rainbow')\n",
    "colors1 = [cmap(k * 50) for k in range(12)]\n",
    "colors2 = [cmap(k * 25) for k in range(12)]"
   ]
  },
  {
   "cell_type": "markdown",
   "metadata": {},
   "source": [
    "# Load data"
   ]
  },
  {
   "cell_type": "markdown",
   "metadata": {},
   "source": [
    "We load and plot the iris dataset"
   ]
  },
  {
   "cell_type": "code",
   "execution_count": 3,
   "metadata": {
    "collapsed": true
   },
   "outputs": [],
   "source": [
    "# load iris data\n",
    "dataset_name = 'iris'\n",
    "features, iris_species = utils_lib.load_data()\n",
    "dim = features.shape[1]\n",
    "n_obs = len(iris_species)    "
   ]
  },
  {
   "cell_type": "code",
   "execution_count": 4,
   "metadata": {
    "collapsed": false
   },
   "outputs": [
    {
     "data": {
      "text/plain": [
       "<matplotlib.text.Text at 0x7f8e875994e0>"
      ]
     },
     "execution_count": 4,
     "metadata": {},
     "output_type": "execute_result"
    },
    {
     "data": {
      "image/png": "[encoded data removed]",
      "text/plain": [
       "<matplotlib.figure.Figure at 0x7f8e875ed588>"
      ]
     },
     "metadata": {},
     "output_type": "display_data"
    }
   ],
   "source": [
    "# run PCA\n",
    "pca_fit = PCA()\n",
    "pca_fit.fit(features)\n",
    "pc_features = pca_fit.transform(features)\n",
    "\n",
    "# plot\n",
    "cmap = cm.get_cmap(name='gist_rainbow')\n",
    "colors1 = [cmap(k * 50) for k in range(30)]\n",
    "\n",
    "fig1 = plt.figure(1)\n",
    "fig = fig1.add_subplot(111)\n",
    "utils_lib.plot_clusters(pc_features[:, 0], pc_features[:, 1], iris_species, colors1, fig)\n",
    "fig.set_xlabel('PC1')\n",
    "fig.set_ylabel('PC2')\n"
   ]
  },
  {
   "cell_type": "markdown",
   "metadata": {},
   "source": [
    "# Load model"
   ]
  },
  {
   "cell_type": "markdown",
   "metadata": {},
   "source": [
    "### Get prior "
   ]
  },
  {
   "cell_type": "code",
   "execution_count": 5,
   "metadata": {
    "collapsed": true
   },
   "outputs": [],
   "source": [
    "prior_params_dict, prior_params_paragami = gmm_lib.get_default_prior_params(dim)"
   ]
  },
  {
   "cell_type": "code",
   "execution_count": 6,
   "metadata": {
    "collapsed": false
   },
   "outputs": [
    {
     "name": "stdout",
     "output_type": "stream",
     "text": [
      "{'alpha': array([3.]), 'prior_centroid_mean': array([0.]), 'prior_centroid_info': array([0.1]), 'prior_gamma_df': array([8.]), 'prior_gamma_inv_scale': array([[0.62, 0.  , 0.  , 0.  ],\n",
      "       [0.  , 0.62, 0.  , 0.  ],\n",
      "       [0.  , 0.  , 0.62, 0.  ],\n",
      "       [0.  , 0.  , 0.  , 0.62]])}\n"
     ]
    }
   ],
   "source": [
    "print(prior_params_dict)"
   ]
  },
  {
   "cell_type": "code",
   "execution_count": 7,
   "metadata": {
    "collapsed": true
   },
   "outputs": [],
   "source": [
    "# DP prior parameter \n",
    "prior_params_dict['alpha'] = 12"
   ]
  },
  {
   "cell_type": "markdown",
   "metadata": {},
   "source": [
    "### Variational parameters"
   ]
  },
  {
   "cell_type": "code",
   "execution_count": 8,
   "metadata": {
    "collapsed": true
   },
   "outputs": [],
   "source": [
    "k_approx = 30"
   ]
  },
  {
   "cell_type": "code",
   "execution_count": 9,
   "metadata": {
    "collapsed": true
   },
   "outputs": [],
   "source": [
    "# Gauss-Hermite points\n",
    "gh_deg = 20\n",
    "gh_loc, gh_weights = hermgauss(gh_deg)\n"
   ]
  },
  {
   "cell_type": "code",
   "execution_count": 10,
   "metadata": {
    "collapsed": false
   },
   "outputs": [],
   "source": [
    "# get vb parameters\n",
    "vb_params_dict, vb_params_paragami = gmm_lib.get_vb_params_paragami_object(dim, k_approx)"
   ]
  },
  {
   "cell_type": "code",
   "execution_count": 11,
   "metadata": {
    "collapsed": false
   },
   "outputs": [
    {
     "data": {
      "text/plain": [
       "1726.545646040481"
      ]
     },
     "execution_count": 11,
     "metadata": {},
     "output_type": "execute_result"
    }
   ],
   "source": [
    "# the objective \n",
    "gmm_lib.get_kl(features, vb_params_dict, prior_params_dict, gh_loc, gh_weights)"
   ]
  },
  {
   "cell_type": "markdown",
   "metadata": {},
   "source": [
    "# Optimize"
   ]
  },
  {
   "cell_type": "markdown",
   "metadata": {},
   "source": [
    "### Kmeans"
   ]
  },
  {
   "cell_type": "code",
   "execution_count": 12,
   "metadata": {
    "collapsed": false
   },
   "outputs": [],
   "source": [
    "n_kmeans_init = 50\n",
    "init_vb_free_params, init_vb_params_dict, init_ez = \\\n",
    "    optimization_lib.cluster_and_get_k_means_inits(features, vb_params_paragami, \n",
    "                                                n_kmeans_init = n_kmeans_init, \n",
    "                                                seed = 32423)"
   ]
  },
  {
   "cell_type": "markdown",
   "metadata": {},
   "source": [
    "### Newton"
   ]
  },
  {
   "cell_type": "markdown",
   "metadata": {},
   "source": [
    "### Set up KL objective as a function of unconstrained VB parameters"
   ]
  },
  {
   "cell_type": "code",
   "execution_count": 13,
   "metadata": {
    "collapsed": true
   },
   "outputs": [],
   "source": [
    "# get loss as a function of vb parameters\n",
    "get_vb_params_loss = paragami.Functor(original_fun=gmm_lib.get_kl, argnums=1)\n",
    "get_vb_params_loss.cache_args(features, None, prior_params_dict,\n",
    "                                gh_loc, gh_weights)\n",
    "\n",
    "# Get loss as a function vb_free_params\n",
    "get_loss = paragami.FlattenedFunction(original_fun=get_vb_params_loss,\n",
    "                                        patterns=vb_params_paragami,\n",
    "                                        free=True)\n"
   ]
  },
  {
   "cell_type": "code",
   "execution_count": 14,
   "metadata": {
    "collapsed": false
   },
   "outputs": [
    {
     "name": "stdout",
     "output_type": "stream",
     "text": [
      "running bfgs ... \n",
      "Warning: Desired error not necessarily achieved due to precision loss.\n",
      "         Current function value: -310.486279\n",
      "         Iterations: 375\n",
      "         Function evaluations: 472\n",
      "         Gradient evaluations: 462\n",
      "\n",
      " running preconditioned newton; iter =  0\n",
      "computing preconditioner \n",
      "running newton steps\n",
      "Warning: A bad approximation caused failure to predict improvement.\n",
      "         Current function value: -310.486279\n",
      "         Iterations: 12\n",
      "         Function evaluations: 14\n",
      "         Gradient evaluations: 1\n",
      "         Hessian evaluations: 0\n",
      "Iter 0: x_diff = 2.3454122237606386e-12, f_diff = 3.410605131648481e-13, grad_l1 = 6.137277154443365e-06\n",
      "done. \n"
     ]
    }
   ],
   "source": [
    "vb_opt = optimization_lib.optimize_full(get_loss, init_vb_free_params,\n",
    "                    bfgs_max_iter = 500, netwon_max_iter = 50,\n",
    "                    max_precondition_iter = 10,\n",
    "                    gtol=1e-8, ftol=1e-8, xtol=1e-8)"
   ]
  },
  {
   "cell_type": "code",
   "execution_count": 15,
   "metadata": {
    "collapsed": true
   },
   "outputs": [],
   "source": [
    "def plot_results_from_vb_params_dict(pca_fit, vb_params_dict, e_z, fig): \n",
    "    # we plot in PCA space\n",
    "    bnp_centroids_pc, bnp_cluster_covs_pc = \\\n",
    "        utils_lib.transform_params_to_pc_space(pca_fit, vb_params_dict['centroids'], \n",
    "                                               np.linalg.inv(vb_params_dict['gamma']))\n",
    "    \n",
    "    bnp_clusters = np.argmax(e_z, axis = 1)\n",
    "\n",
    "    utils_lib.plot_clusters(pc_features[:, 0], pc_features[:, 1], bnp_clusters, \\\n",
    "                  colors1, fig, \\\n",
    "                  centroids = bnp_centroids_pc[:, np.unique(bnp_clusters)], \n",
    "                cov = bnp_cluster_covs_pc[np.unique(bnp_clusters)])\n"
   ]
  },
  {
   "cell_type": "code",
   "execution_count": 16,
   "metadata": {
    "collapsed": true
   },
   "outputs": [],
   "source": [
    "vb_opt_dict = vb_params_paragami.fold(vb_opt, free = True)\n",
    "e_z_opt = gmm_lib.get_optimal_z_from_vb_params_dict(features, vb_opt_dict, gh_loc, gh_weights)"
   ]
  },
  {
   "cell_type": "code",
   "execution_count": 17,
   "metadata": {
    "collapsed": false
   },
   "outputs": [
    {
     "data": {
      "image/png": "[encoded data removed]",
      "text/plain": [
       "<matplotlib.figure.Figure at 0x7f8e84352ac8>"
      ]
     },
     "metadata": {},
     "output_type": "display_data"
    }
   ],
   "source": [
    "# Newton results\n",
    "fig1 = plt.figure(1)\n",
    "fig = fig1.add_subplot(111)\n",
    "\n",
    "plot_results_from_vb_params_dict(pca_fit, vb_opt_dict, e_z_opt, fig)"
   ]
  },
  {
   "cell_type": "code",
   "execution_count": null,
   "metadata": {
    "collapsed": true
   },
   "outputs": [],
   "source": []
  },
  {
   "cell_type": "markdown",
   "metadata": {},
   "source": [
    "# Define a perturbation in the logit v space."
   ]
  },
  {
   "cell_type": "code",
   "execution_count": 22,
   "metadata": {
    "collapsed": false
   },
   "outputs": [],
   "source": [
    "def log_phi(logit_v):\n",
    "    return(sp.special.expit(logit_v))\n",
    "\n",
    "def phi(logit_v):\n",
    "    return np.exp(log_phi(logit_v))\n"
   ]
  },
  {
   "cell_type": "code",
   "execution_count": 23,
   "metadata": {
    "collapsed": false
   },
   "outputs": [
    {
     "name": "stdout",
     "output_type": "stream",
     "text": [
      "phi max:  2.717370405124736\n",
      "log phi max:  0.9996646498695336\n"
     ]
    }
   ],
   "source": [
    "logit_v_grid = np.linspace(-8, 8, 200)\n",
    "\n",
    "v_grid = np.exp(logit_v_grid) / (1 + np.exp(logit_v_grid))\n",
    "\n",
    "print('phi max: ', np.max(phi(logit_v_grid)))\n",
    "log_phi_max = np.max(np.abs(np.log(phi(logit_v_grid))))\n",
    "print('log phi max: ', log_phi_max)\n",
    "\n",
    "def rescaled_log_phi(logit_v):\n",
    "    return 10 * log_phi(logit_v) / log_phi_max\n"
   ]
  },
  {
   "cell_type": "code",
   "execution_count": 24,
   "metadata": {
    "collapsed": false
   },
   "outputs": [
    {
     "name": "stdout",
     "output_type": "stream",
     "text": [
      "-2.4849066497879995 1.1634968823127927 -2.4889315240780148 1.1662640532746475\n"
     ]
    }
   ],
   "source": [
    "prior_perturbation = fun_sens_lib.PriorPerturbation(vb_params_dict = vb_opt_dict, \n",
    "                                                    alpha0 = prior_params_dict['alpha'],\n",
    "                                                    gh_loc = gh_loc, \n",
    "                                                    gh_weights = gh_weights, \n",
    "                                                    log_phi = rescaled_log_phi, logit_v_ub=8, logit_v_lb = -8)\n",
    "print(\n",
    "    prior_perturbation.log_norm_p0,\n",
    "    prior_perturbation.log_norm_pc,\n",
    "    prior_perturbation.log_norm_p0_logit,\n",
    "    prior_perturbation.log_norm_pc_logit)"
   ]
  },
  {
   "cell_type": "code",
   "execution_count": 25,
   "metadata": {
    "collapsed": false
   },
   "outputs": [
    {
     "data": {
      "text/plain": [
       "<matplotlib.text.Text at 0x7f8e8400aeb8>"
      ]
     },
     "execution_count": 25,
     "metadata": {},
     "output_type": "execute_result"
    },
    {
     "data": {
      "image/png": "[encoded data removed]",
      "text/plain": [
       "<matplotlib.figure.Figure at 0x7f8e841eaef0>"
      ]
     },
     "metadata": {},
     "output_type": "display_data"
    }
   ],
   "source": [
    "prior_perturbation.set_epsilon(1.0)\n",
    "\n",
    "plt.figure(1, figsize=(18, 5))\n",
    "\n",
    "plt.subplot(141)\n",
    "plt.plot(logit_v_grid, prior_perturbation.get_log_p0_logit(logit_v_grid))\n",
    "plt.plot(logit_v_grid, prior_perturbation.get_log_pc_logit(logit_v_grid))\n",
    "plt.title('Log priors in logit space')\n",
    "\n",
    "plt.subplot(142)\n",
    "plt.plot(logit_v_grid, prior_perturbation.log_phi(logit_v_grid))\n",
    "plt.title('log phi in logit space')\n",
    "\n",
    "plt.subplot(143)\n",
    "plt.plot(v_grid, np.exp(prior_perturbation.get_log_p0(v_grid)))\n",
    "plt.plot(v_grid, np.exp(prior_perturbation.get_log_pc(v_grid)))\n",
    "plt.title('Priors in stick space')\n",
    "\n",
    "plt.subplot(144)\n",
    "plt.plot(logit_v_grid, np.exp(prior_perturbation.get_log_p0_logit(logit_v_grid)))\n",
    "plt.plot(logit_v_grid, np.exp(prior_perturbation.get_log_pc_logit(logit_v_grid)))\n",
    "plt.title('Priors in logit space')\n"
   ]
  },
  {
   "cell_type": "markdown",
   "metadata": {
    "collapsed": true
   },
   "source": [
    "# Define prior perturbation"
   ]
  },
  {
   "cell_type": "code",
   "execution_count": 30,
   "metadata": {
    "collapsed": false
   },
   "outputs": [],
   "source": [
    "epsilon_param_dict = {'epsilon': np.array([1.0])}\n",
    "\n",
    "epsilon_param_paragami = paragami.PatternDict() \n",
    "epsilon_param_paragami['epsilon'] = \\\n",
    "        paragami.NumericArrayPattern(shape=(1, ))"
   ]
  },
  {
   "cell_type": "code",
   "execution_count": 31,
   "metadata": {
    "collapsed": false
   },
   "outputs": [],
   "source": [
    "# we will use this for the sensitivity class\n",
    "get_epsilon_vb_loss = paragami.Functor(\n",
    "    original_fun=fun_sens_lib.get_perturbed_kl, argnums=[1, 2])\n",
    "\n",
    "# the kl as a function of both the vb parameters and the hyperparameter\n",
    "get_epsilon_vb_loss.cache_args(features, None, None, rescaled_log_phi, \n",
    "                     prior_params_dict, gh_loc, gh_weights)"
   ]
  },
  {
   "cell_type": "code",
   "execution_count": 32,
   "metadata": {
    "collapsed": true
   },
   "outputs": [],
   "source": [
    "# the only part of the kl that depends on epsilon\n",
    "hyper_par_objective_fun = \\\n",
    "    paragami.Functor(fun_sens_lib.get_e_log_perturbation, argnums = [1, 2])\n",
    "    \n",
    "hyper_par_objective_fun.cache_args(rescaled_log_phi, None, None, \n",
    "                           gh_loc, gh_weights)"
   ]
  },
  {
   "cell_type": "code",
   "execution_count": 33,
   "metadata": {
    "code_folding": [],
    "collapsed": false
   },
   "outputs": [],
   "source": [
    "# Compute hyper sensitivity object\n",
    "epsilon_sens = \\\n",
    "    paragami.HyperparameterSensitivityLinearApproximation(\n",
    "        objective_fun=           get_epsilon_vb_loss,\n",
    "        opt_par_pattern=         vb_params_paragami,\n",
    "        hyper_par_pattern=       epsilon_param_paragami,\n",
    "        opt_par_folded_value=    vb_params_paragami.fold(vb_opt, free = True),\n",
    "        hyper_par_folded_value=  epsilon_param_paragami.fold(0.0, free = False),\n",
    "        opt_par_is_free=         True,\n",
    "        hyper_par_is_free=       False,\n",
    "        hyper_par_objective_fun = hyper_par_objective_fun,\n",
    "        grad_tol=                1e-5)\n"
   ]
  },
  {
   "cell_type": "markdown",
   "metadata": {},
   "source": [
    "## Fit with perturbation"
   ]
  },
  {
   "cell_type": "code",
   "execution_count": 35,
   "metadata": {
    "collapsed": false
   },
   "outputs": [
    {
     "name": "stdout",
     "output_type": "stream",
     "text": [
      "Epsilon:  1.0\n",
      "Predicted differences:  3.7833884900250947\n"
     ]
    }
   ],
   "source": [
    "epsilon = 1.0 \n",
    "print('Epsilon: ', epsilon)\n",
    "\n",
    "vb_pert_pred = \\\n",
    "    epsilon_sens.predict_opt_par_from_hyper_par(epsilon_param_dict, fold_output = False)\n",
    "\n",
    "print('Predicted differences: ', np.linalg.norm(vb_pert_pred - vb_opt))"
   ]
  },
  {
   "cell_type": "code",
   "execution_count": 36,
   "metadata": {
    "collapsed": false,
    "scrolled": true
   },
   "outputs": [],
   "source": [
    "vb_pert_pred_dict = vb_params_paragami.fold(vb_pert_pred, free = True)\n",
    "e_z_pert_pred = gmm_lib.get_optimal_z_from_vb_params_dict(features, vb_pert_pred_dict, gh_loc, gh_weights)"
   ]
  },
  {
   "cell_type": "code",
   "execution_count": 37,
   "metadata": {
    "collapsed": false
   },
   "outputs": [],
   "source": [
    "# get flattened perturbed KL\n",
    "get_perturbed_vb_loss = paragami.Functor(\n",
    "    original_fun=fun_sens_lib.get_perturbed_kl, argnums=[1])\n",
    "\n",
    "get_perturbed_vb_loss.cache_args(features, None, epsilon_param_dict, rescaled_log_phi, \n",
    "                     prior_params_dict, gh_loc, gh_weights)\n",
    "\n",
    "get_perturbed_vb_loss_flattened = \\\n",
    "    paragami.FlattenedFunction(original_fun=get_perturbed_vb_loss,\n",
    "                                patterns=vb_params_paragami,\n",
    "                                free=True)\n"
   ]
  },
  {
   "cell_type": "code",
   "execution_count": 38,
   "metadata": {
    "collapsed": false
   },
   "outputs": [
    {
     "name": "stdout",
     "output_type": "stream",
     "text": [
      "running bfgs ... \n",
      "Warning: Desired error not necessarily achieved due to precision loss.\n",
      "         Current function value: -354.268093\n",
      "         Iterations: 115\n",
      "         Function evaluations: 197\n",
      "         Gradient evaluations: 185\n",
      "\n",
      " running preconditioned newton; iter =  0\n",
      "computing preconditioner \n",
      "running newton steps\n",
      "Optimization terminated successfully.\n",
      "         Current function value: -354.268093\n",
      "         Iterations: 1\n",
      "         Function evaluations: 2\n",
      "         Gradient evaluations: 2\n",
      "         Hessian evaluations: 0\n",
      "Iter 0: x_diff = 3.137939113575811e-05, f_diff = 2.8421709430404007e-13, grad_l1 = 2.0710556547102563e-11\n",
      "done. \n"
     ]
    }
   ],
   "source": [
    "vb_pert_opt = optimization_lib.optimize_full(get_perturbed_vb_loss_flattened, deepcopy(vb_opt),\n",
    "                    bfgs_max_iter = 500, netwon_max_iter = 50,\n",
    "                    max_precondition_iter = 10,\n",
    "                    gtol=1e-8, ftol=1e-8, xtol=1e-8)"
   ]
  },
  {
   "cell_type": "code",
   "execution_count": 42,
   "metadata": {
    "collapsed": true
   },
   "outputs": [],
   "source": [
    "vb_pert_opt_dict = vb_params_paragami.fold(vb_pert_opt, free = True)\n",
    "e_z_pert_opt = gmm_lib.get_optimal_z_from_vb_params_dict(features, vb_pert_opt_dict, gh_loc, gh_weights)"
   ]
  },
  {
   "cell_type": "code",
   "execution_count": 43,
   "metadata": {
    "collapsed": false
   },
   "outputs": [
    {
     "name": "stdout",
     "output_type": "stream",
     "text": [
      "Epsilon: 1.0\n"
     ]
    },
    {
     "data": {
      "text/plain": [
       "[<matplotlib.lines.Line2D at 0x7f8e83d57a58>]"
      ]
     },
     "execution_count": 43,
     "metadata": {},
     "output_type": "execute_result"
    },
    {
     "data": {
      "image/png": "[encoded data removed]",
      "text/plain": [
       "<matplotlib.figure.Figure at 0x7f8e83f009b0>"
      ]
     },
     "metadata": {},
     "output_type": "display_data"
    }
   ],
   "source": [
    "print('Epsilon:', epsilon)\n",
    "\n",
    "plt.figure()\n",
    "plt.subplot(1, 2, 1)\n",
    "plt.plot(vb_pert_opt - vb_opt, vb_pert_pred - vb_opt, 'k.')\n",
    "plt.plot(vb_pert_opt - vb_opt, vb_pert_opt - vb_opt, 'r')\n"
   ]
  },
  {
   "cell_type": "code",
   "execution_count": 44,
   "metadata": {
    "collapsed": false
   },
   "outputs": [
    {
     "name": "stdout",
     "output_type": "stream",
     "text": [
      "original expected number of clusters:  14.659312586797276\n",
      "perturbed expected number of clusters:  12.76397981208649\n",
      "predicted expected number of clusters:  12.618653968043285\n"
     ]
    }
   ],
   "source": [
    "print('original expected number of clusters: ',\n",
    "    cluster_lib.get_e_number_clusters_from_logit_sticks(vb_opt_dict['stick_propn_mean'], \n",
    "                                                        vb_opt_dict['stick_propn_info'], \n",
    "                                                        n_obs = 150, \n",
    "                                                        n_samples = 10000))\n",
    "\n",
    "print('perturbed expected number of clusters: ',\n",
    "    cluster_lib.get_e_number_clusters_from_logit_sticks(vb_pert_opt_dict['stick_propn_mean'], \n",
    "                                                        vb_pert_opt_dict['stick_propn_info'], \n",
    "                                                        n_obs = 150, \n",
    "                                                        n_samples = 10000))\n",
    "\n",
    "print('predicted expected number of clusters: ',\n",
    "    cluster_lib.get_e_number_clusters_from_logit_sticks(vb_pert_pred_dict['stick_propn_mean'], \n",
    "                                                        vb_pert_pred_dict['stick_propn_info'], \n",
    "                                                        n_obs = 150, \n",
    "                                                        n_samples = 10000))\n",
    "\n",
    "\n",
    "      "
   ]
  },
  {
   "cell_type": "code",
   "execution_count": null,
   "metadata": {
    "collapsed": true
   },
   "outputs": [],
   "source": []
  },
  {
   "cell_type": "markdown",
   "metadata": {
    "collapsed": true
   },
   "source": [
    "# Predict for a range of perturbations"
   ]
  },
  {
   "cell_type": "code",
   "execution_count": 48,
   "metadata": {
    "collapsed": false
   },
   "outputs": [
    {
     "name": "stdout",
     "output_type": "stream",
     "text": [
      "[0.   0.04 0.16 0.36 0.64 1.  ]\n"
     ]
    }
   ],
   "source": [
    "# The range of epsilons we shall consider\n",
    "epsilon_vec = np.linspace(0, 1, 6) ** 2 # Square to get more points close to 0\n",
    "print(epsilon_vec)"
   ]
  },
  {
   "cell_type": "code",
   "execution_count": 49,
   "metadata": {
    "collapsed": true
   },
   "outputs": [],
   "source": [
    "def refit_with_epsilon(epsilon_param_dict, init_vb_opt):\n",
    "    # sets new epsilon, returns new vb optimum\n",
    "        \n",
    "    # set up new objective, with the prior changed\n",
    "    get_perturbed_vb_loss = paragami.Functor(\n",
    "        original_fun=fun_sens_lib.get_perturbed_kl, argnums=[1])\n",
    "    \n",
    "    get_perturbed_vb_loss.cache_args(features, None, epsilon_param_dict, rescaled_log_phi, \n",
    "                         prior_params_dict, gh_loc, gh_weights)\n",
    "\n",
    "    get_perturbed_vb_loss_flattened = \\\n",
    "        paragami.FlattenedFunction(original_fun=get_perturbed_vb_loss,\n",
    "                                    patterns=vb_params_paragami,\n",
    "                                    free=True)\n",
    "    \n",
    "    # optimize\n",
    "    vb_opt_pert = optimization_lib.optimize_full(get_perturbed_vb_loss_flattened, deepcopy(init_vb_opt),\n",
    "                    bfgs_max_iter = 0, netwon_max_iter = 50,\n",
    "                    max_precondition_iter = 10,\n",
    "                    gtol=1e-8, ftol=1e-8, xtol=1e-8)\n",
    "    \n",
    "    return vb_opt_pert"
   ]
  },
  {
   "cell_type": "code",
   "execution_count": 50,
   "metadata": {
    "collapsed": true
   },
   "outputs": [],
   "source": [
    "best_param_phi_array = []\n",
    "best_param_phi_pred_array = []"
   ]
  },
  {
   "cell_type": "code",
   "execution_count": 51,
   "metadata": {
    "collapsed": false
   },
   "outputs": [
    {
     "name": "stdout",
     "output_type": "stream",
     "text": [
      "\n",
      "\n",
      "Epsilon:  0.0\n",
      "Predicted differences:  1.982903115427194e-15\n",
      "running bfgs ... \n",
      "Warning: Maximum number of iterations has been exceeded.\n",
      "         Current function value: -310.486279\n",
      "         Iterations: 0\n",
      "         Function evaluations: 1\n",
      "         Gradient evaluations: 1\n",
      "\n",
      " running preconditioned newton; iter =  0\n",
      "computing preconditioner \n",
      "running newton steps\n",
      "Optimization terminated successfully.\n",
      "         Current function value: -310.486279\n",
      "         Iterations: 1\n",
      "         Function evaluations: 2\n",
      "         Gradient evaluations: 2\n",
      "         Hessian evaluations: 0\n",
      "Iter 0: x_diff = 7.366492724465816e-06, f_diff = 1.1368683772161603e-13, grad_l1 = 1.3076019016397309e-11\n",
      "done. \n",
      "Done. \n",
      "Predicted differences:  1.982903115427194e-15\n",
      "Actual differences: (This is nonzero if phi did anything): 1.082065183428973e-06\n",
      "\n",
      "\n",
      "Epsilon:  0.04000000000000001\n",
      "Predicted differences:  0.15133553960100377\n",
      "running bfgs ... \n",
      "Warning: Maximum number of iterations has been exceeded.\n",
      "         Current function value: -311.852130\n",
      "         Iterations: 0\n",
      "         Function evaluations: 1\n",
      "         Gradient evaluations: 1\n",
      "\n",
      " running preconditioned newton; iter =  0\n",
      "computing preconditioner \n",
      "running newton steps\n",
      "Warning: A bad approximation caused failure to predict improvement.\n",
      "         Current function value: -311.862742\n",
      "         Iterations: 3\n",
      "         Function evaluations: 5\n",
      "         Gradient evaluations: 4\n",
      "         Hessian evaluations: 0\n",
      "Iter 0: x_diff = 1.2065898072673278, f_diff = 0.010611760382175817, grad_l1 = 1.3362509415797962e-06\n",
      "\n",
      " running preconditioned newton; iter =  1\n",
      "computing preconditioner \n",
      "running newton steps\n",
      "Warning: A bad approximation caused failure to predict improvement.\n",
      "         Current function value: -311.862742\n",
      "         Iterations: 0\n",
      "         Function evaluations: 2\n",
      "         Gradient evaluations: 1\n",
      "         Hessian evaluations: 0\n",
      "Iter 1: x_diff = 2.232159119000543e-12, f_diff = 8.526512829121202e-13, grad_l1 = 1.336256264886783e-06\n",
      "done. \n",
      "Done. \n",
      "Predicted differences:  0.15133553960100377\n",
      "Actual differences: (This is nonzero if phi did anything): 0.15304944576886614\n",
      "\n",
      "\n",
      "Epsilon:  0.16000000000000003\n",
      "Predicted differences:  0.605342158404015\n",
      "running bfgs ... \n",
      "Warning: Maximum number of iterations has been exceeded.\n",
      "         Current function value: -315.949684\n",
      "         Iterations: 0\n",
      "         Function evaluations: 1\n",
      "         Gradient evaluations: 1\n",
      "\n",
      " running preconditioned newton; iter =  0\n",
      "computing preconditioner \n",
      "running newton steps\n",
      "Warning: A bad approximation caused failure to predict improvement.\n",
      "         Current function value: -316.125768\n",
      "         Iterations: 4\n",
      "         Function evaluations: 6\n",
      "         Gradient evaluations: 5\n",
      "         Hessian evaluations: 0\n",
      "Iter 0: x_diff = 4.986081630867459, f_diff = 0.17608431780956835, grad_l1 = 5.203893434285302e-06\n",
      "\n",
      " running preconditioned newton; iter =  1\n",
      "computing preconditioner \n",
      "running newton steps\n",
      "Warning: A bad approximation caused failure to predict improvement.\n",
      "         Current function value: -316.125768\n",
      "         Iterations: 0\n",
      "         Function evaluations: 2\n",
      "         Gradient evaluations: 1\n",
      "         Hessian evaluations: 0\n",
      "Iter 1: x_diff = 2.1931565111622635e-12, f_diff = 7.958078640513122e-13, grad_l1 = 5.203891631939771e-06\n",
      "done. \n",
      "Done. \n",
      "Predicted differences:  0.605342158404015\n",
      "Actual differences: (This is nonzero if phi did anything): 0.6339962683194262\n",
      "\n",
      "\n",
      "Epsilon:  0.3600000000000001\n",
      "Predicted differences:  1.3620198564090342\n",
      "running bfgs ... \n",
      "Warning: Maximum number of iterations has been exceeded.\n",
      "         Current function value: -322.778940\n",
      "         Iterations: 0\n",
      "         Function evaluations: 1\n",
      "         Gradient evaluations: 1\n",
      "\n",
      " running preconditioned newton; iter =  0\n",
      "computing preconditioner \n",
      "running newton steps\n",
      "Warning: A bad approximation caused failure to predict improvement.\n",
      "         Current function value: -323.730354\n",
      "         Iterations: 6\n",
      "         Function evaluations: 8\n",
      "         Gradient evaluations: 7\n",
      "         Hessian evaluations: 0\n",
      "Iter 0: x_diff = 11.883549644314972, f_diff = 0.9514148443757335, grad_l1 = 2.661203869680186e-07\n",
      "\n",
      " running preconditioned newton; iter =  1\n",
      "computing preconditioner \n",
      "running newton steps\n",
      "Warning: A bad approximation caused failure to predict improvement.\n",
      "         Current function value: -323.730354\n",
      "         Iterations: 0\n",
      "         Function evaluations: 2\n",
      "         Gradient evaluations: 1\n",
      "         Hessian evaluations: 0\n",
      "Iter 1: x_diff = 2.0957301920341426e-12, f_diff = 1.7053025658242404e-12, grad_l1 = 2.661256823530243e-07\n",
      "done. \n",
      "Done. \n",
      "Predicted differences:  1.3620198564090342\n",
      "Actual differences: (This is nonzero if phi did anything): 1.520265885213855\n",
      "\n",
      "\n",
      "Epsilon:  0.6400000000000001\n",
      "Predicted differences:  2.4213686336160607\n",
      "running bfgs ... \n",
      "Warning: Maximum number of iterations has been exceeded.\n",
      "         Current function value: -332.339898\n",
      "         Iterations: 0\n",
      "         Function evaluations: 1\n",
      "         Gradient evaluations: 1\n",
      "\n",
      " running preconditioned newton; iter =  0\n",
      "computing preconditioner \n",
      "running newton steps\n",
      "Warning: A bad approximation caused failure to predict improvement.\n",
      "         Current function value: -335.927175\n",
      "         Iterations: 16\n",
      "         Function evaluations: 18\n",
      "         Gradient evaluations: 14\n",
      "         Hessian evaluations: 0\n",
      "Iter 0: x_diff = 25.20639553997443, f_diff = 3.5872765326960803, grad_l1 = 1.9756379692074585e-06\n",
      "\n",
      " running preconditioned newton; iter =  1\n",
      "computing preconditioner \n",
      "running newton steps\n",
      "Warning: A bad approximation caused failure to predict improvement.\n",
      "         Current function value: -335.927175\n",
      "         Iterations: 0\n",
      "         Function evaluations: 2\n",
      "         Gradient evaluations: 1\n",
      "         Hessian evaluations: 0\n",
      "Iter 1: x_diff = 2.074643513488286e-12, f_diff = 1.0231815394945443e-12, grad_l1 = 1.9756291001947137e-06\n",
      "done. \n",
      "Done. \n",
      "Predicted differences:  2.4213686336160607\n",
      "Actual differences: (This is nonzero if phi did anything): 3.604639942893358\n",
      "\n",
      "\n",
      "Epsilon:  1.0\n",
      "Predicted differences:  3.7833884900250947\n",
      "running bfgs ... \n",
      "Warning: Maximum number of iterations has been exceeded.\n",
      "         Current function value: -344.632559\n",
      "         Iterations: 0\n",
      "         Function evaluations: 1\n",
      "         Gradient evaluations: 1\n",
      "\n",
      " running preconditioned newton; iter =  0\n",
      "computing preconditioner \n",
      "running newton steps\n",
      "Optimization terminated successfully.\n",
      "         Current function value: -354.268093\n",
      "         Iterations: 15\n",
      "         Function evaluations: 16\n",
      "         Gradient evaluations: 15\n",
      "         Hessian evaluations: 0\n",
      "Iter 0: x_diff = 45.57710606008981, f_diff = 9.63553402710545, grad_l1 = 4.5585550142191226e-08\n",
      "done. \n",
      "Done. \n",
      "Predicted differences:  3.7833884900250947\n",
      "Actual differences: (This is nonzero if phi did anything): 5.929848469253239\n"
     ]
    }
   ],
   "source": [
    "vb_pert_opt_array = []\n",
    "vb_pert_pred_array = []\n",
    "\n",
    "\n",
    "for i in range(len(epsilon_vec)): \n",
    "    epsilon = epsilon_vec[i]\n",
    "    print('\\n\\nEpsilon: ', epsilon)\n",
    "    \n",
    "    epsilon_param_dict = {'epsilon': np.array([epsilon])}\n",
    "    \n",
    "    # get linear predictions\n",
    "    vb_pert_pred = \\\n",
    "        epsilon_sens.predict_opt_par_from_hyper_par(epsilon_param_dict, fold_output = False)\n",
    "\n",
    "    print('Predicted differences: ', np.linalg.norm(vb_pert_pred - vb_opt))\n",
    "    \n",
    "    # Then fit with the perturbation.\n",
    "    vb_pert_opt = refit_with_epsilon(epsilon_param_dict, vb_opt)\n",
    "    \n",
    "    print('Done. ')\n",
    "\n",
    "    print('Predicted differences: ', np.linalg.norm(vb_pert_pred - vb_opt))\n",
    "    print('Actual differences: (This is nonzero if phi did anything):',\n",
    "          np.linalg.norm(vb_pert_opt - vb_opt))\n",
    "    \n",
    "    # save results: \n",
    "    vb_pert_opt_array.append(vb_pert_opt)\n",
    "    vb_pert_pred_array.append(vb_pert_pred)\n",
    "    \n"
   ]
  },
  {
   "cell_type": "markdown",
   "metadata": {},
   "source": [
    "# Lets look at the expected number of clusters"
   ]
  },
  {
   "cell_type": "markdown",
   "metadata": {},
   "source": [
    "### Number of in sample clusters"
   ]
  },
  {
   "cell_type": "code",
   "execution_count": 56,
   "metadata": {
    "collapsed": false
   },
   "outputs": [
    {
     "name": "stderr",
     "output_type": "stream",
     "text": [
      "100%|██████████| 6/6 [00:29<00:00,  4.93s/it]\n"
     ]
    }
   ],
   "source": [
    "threshold = 0\n",
    "\n",
    "lr_e_num_clusters_vec = np.zeros(len(epsilon_vec))\n",
    "refit_e_num_clusters_vec = np.zeros(len(epsilon_vec))\n",
    "\n",
    "for i in tqdm(range(len(epsilon_vec))): \n",
    "    # number of clusters as predicted by linear response\n",
    "    lr_e_num_clusters, _ = gmm_lib.get_e_num_clusters_from_free_par(features, vb_params_paragami, \n",
    "                                    vb_pert_pred_array[i],\n",
    "                                    gh_loc, gh_weights,\n",
    "                                    threshold = threshold,\n",
    "                                    n_samples = 100000)\n",
    "    \n",
    "    lr_e_num_clusters_vec[i] = lr_e_num_clusters\n",
    "    \n",
    "    # number of clusters after refitting \n",
    "    refit_e_num_clusters, _ = gmm_lib.get_e_num_clusters_from_free_par(features, vb_params_paragami, \n",
    "                                    vb_pert_opt_array[i],\n",
    "                                    gh_loc, gh_weights,\n",
    "                                    threshold = threshold,\n",
    "                                    n_samples = 100000)\n",
    "    \n",
    "    refit_e_num_clusters_vec[i] = refit_e_num_clusters\n",
    "    \n"
   ]
  },
  {
   "cell_type": "code",
   "execution_count": 57,
   "metadata": {
    "collapsed": false
   },
   "outputs": [
    {
     "data": {
      "text/plain": [
       "<matplotlib.legend.Legend at 0x7f8e803a0240>"
      ]
     },
     "execution_count": 57,
     "metadata": {},
     "output_type": "execute_result"
    },
    {
     "data": {
      "image/png": "[encoded data removed]",
      "text/plain": [
       "<matplotlib.figure.Figure at 0x7f8e803f22e8>"
      ]
     },
     "metadata": {},
     "output_type": "display_data"
    }
   ],
   "source": [
    "plt.plot(epsilon_vec, lr_e_num_clusters_vec, '+--')\n",
    "plt.plot(epsilon_vec, refit_e_num_clusters_vec, '+-')\n",
    "\n",
    "plt.xlabel('epsilon')\n",
    "plt.ylabel('num posterior clusters')\n",
    "plt.legend(('lr', 'refit'))\n"
   ]
  },
  {
   "cell_type": "markdown",
   "metadata": {},
   "source": [
    "### Number of predicted clusters"
   ]
  },
  {
   "cell_type": "code",
   "execution_count": 58,
   "metadata": {
    "collapsed": false
   },
   "outputs": [
    {
     "name": "stderr",
     "output_type": "stream",
     "text": [
      "100%|██████████| 6/6 [00:07<00:00,  1.30s/it]\n"
     ]
    }
   ],
   "source": [
    "threshold = 0\n",
    "\n",
    "lr_e_num_pred_clusters_vec = np.zeros(len(epsilon_vec))\n",
    "refit_e_num_pred_clusters_vec = np.zeros(len(epsilon_vec))\n",
    "\n",
    "for i in tqdm(range(len(epsilon_vec))): \n",
    "     # number of clusters as predicted by linear response\n",
    "    lr_e_num_pred_clusters = gmm_lib.get_e_num_pred_clusters_from_vb_free_params(vb_params_paragami, \n",
    "                                    vb_pert_pred_array[i],\n",
    "                                    n_obs = np.shape(features)[0], \n",
    "                                    threshold = threshold,\n",
    "                                    n_samples = 100000)\n",
    "    \n",
    "    lr_e_num_pred_clusters_vec[i] = lr_e_num_pred_clusters\n",
    "    \n",
    "    # number of clusters after refitting \n",
    "    refit_e_num_pred_clusters = gmm_lib.get_e_num_pred_clusters_from_vb_free_params(vb_params_paragami, \n",
    "                                    vb_pert_opt_array[i],\n",
    "                                    n_obs = np.shape(features)[0], \n",
    "                                    threshold = threshold,\n",
    "                                    n_samples = 100000)\n",
    "    \n",
    "    refit_e_num_pred_clusters_vec[i] = refit_e_num_pred_clusters\n",
    "    \n"
   ]
  },
  {
   "cell_type": "code",
   "execution_count": 59,
   "metadata": {
    "collapsed": false
   },
   "outputs": [
    {
     "data": {
      "text/plain": [
       "<matplotlib.legend.Legend at 0x7f8e80318d30>"
      ]
     },
     "execution_count": 59,
     "metadata": {},
     "output_type": "execute_result"
    },
    {
     "data": {
      "image/png": "[encoded data removed]",
      "text/plain": [
       "<matplotlib.figure.Figure at 0x7f8e803af1d0>"
      ]
     },
     "metadata": {},
     "output_type": "display_data"
    }
   ],
   "source": [
    "plt.plot(epsilon_vec, lr_e_num_pred_clusters_vec, '+--')\n",
    "plt.plot(epsilon_vec, refit_e_num_pred_clusters_vec, '+-')\n",
    "\n",
    "plt.xlabel('alpha')\n",
    "plt.ylabel('num posterior clusters')\n",
    "plt.legend(('lr', 'refit'))"
   ]
  },
  {
   "cell_type": "code",
   "execution_count": null,
   "metadata": {
    "collapsed": true
   },
   "outputs": [],
   "source": []
  }
 ],
 "metadata": {
  "kernelspec": {
   "display_name": "Python 3",
   "language": "python",
   "name": "python3"
  },
  "language_info": {
   "codemirror_mode": {
    "name": "ipython",
    "version": 3
   },
   "file_extension": ".py",
   "mimetype": "text/x-python",
   "name": "python",
   "nbconvert_exporter": "python",
   "pygments_lexer": "ipython3",
   "version": "3.6.0"
  }
 },
 "nbformat": 4,
 "nbformat_minor": 2
}
