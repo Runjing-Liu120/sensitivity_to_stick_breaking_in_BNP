{
 "cells": [
  {
   "cell_type": "code",
   "execution_count": 1,
   "metadata": {
    "collapsed": false
   },
   "outputs": [
    {
     "name": "stderr",
     "output_type": "stream",
     "text": [
      "/home/runjing_liu/Documents/BNP/autograd/autograd/core.py:290: UserWarning: \n",
      "The defvjp method is deprecated. See the update guide and tutorial:\n",
      "https://github.com/HIPS/autograd/blob/master/docs/updateguide.md\n",
      "https://github.com/HIPS/autograd/blob/master/docs/tutorial.md\n",
      "  warnings.warn(deprecation_msg)\n"
     ]
    }
   ],
   "source": [
    "from autograd import numpy as np\n",
    "from autograd import scipy as sp\n",
    "\n",
    "from numpy.polynomial.hermite import hermgauss\n",
    "\n",
    "np.random.seed(453453)\n",
    "\n",
    "import paragami\n",
    "\n",
    "# BNP sensitivity libraries\n",
    "import sys\n",
    "sys.path.insert(0, '../../libraries/')\n",
    "import gmm_clustering_lib as gmm_lib\n",
    "import modeling_lib \n",
    "import utils_lib\n",
    "import cluster_quantities_lib as cluster_lib\n",
    "import optimization_lib\n",
    "\n",
    "import matplotlib.pyplot as plt\n",
    "%matplotlib inline\n",
    "import matplotlib.cm as cm\n",
    "\n",
    "from sklearn.decomposition import PCA\n",
    "\n",
    "from copy import deepcopy\n",
    "\n",
    "import json "
   ]
  },
  {
   "cell_type": "markdown",
   "metadata": {},
   "source": [
    "# Load data"
   ]
  },
  {
   "cell_type": "markdown",
   "metadata": {},
   "source": [
    "We load and plot the iris dataset"
   ]
  },
  {
   "cell_type": "code",
   "execution_count": 2,
   "metadata": {
    "collapsed": true
   },
   "outputs": [],
   "source": [
    "# load iris data\n",
    "dataset_name = 'iris'\n",
    "features, iris_species = utils_lib.load_data()\n",
    "dim = features.shape[1]\n",
    "n_obs = len(iris_species)    "
   ]
  },
  {
   "cell_type": "code",
   "execution_count": 3,
   "metadata": {
    "collapsed": false
   },
   "outputs": [
    {
     "data": {
      "text/plain": [
       "<matplotlib.text.Text at 0x7f57f501c4a8>"
      ]
     },
     "execution_count": 3,
     "metadata": {},
     "output_type": "execute_result"
    },
    {
     "data": {
      "image/png": "[encoded data removed]",
      "text/plain": [
       "<matplotlib.figure.Figure at 0x7f57f526d4a8>"
      ]
     },
     "metadata": {},
     "output_type": "display_data"
    }
   ],
   "source": [
    "# run PCA\n",
    "pca_fit = PCA()\n",
    "pca_fit.fit(features)\n",
    "pc_features = pca_fit.transform(features)\n",
    "\n",
    "# plot\n",
    "cmap = cm.get_cmap(name='gist_rainbow')\n",
    "colors1 = [cmap(k * 50) for k in range(30)]\n",
    "\n",
    "fig1 = plt.figure(1)\n",
    "fig = fig1.add_subplot(111)\n",
    "utils_lib.plot_clusters(pc_features[:, 0], pc_features[:, 1], iris_species, colors1, fig)\n",
    "fig.set_xlabel('PC1')\n",
    "fig.set_ylabel('PC2')\n"
   ]
  },
  {
   "cell_type": "markdown",
   "metadata": {},
   "source": [
    "# Set up model"
   ]
  },
  {
   "cell_type": "markdown",
   "metadata": {},
   "source": [
    "### Prior parameters"
   ]
  },
  {
   "cell_type": "code",
   "execution_count": 4,
   "metadata": {
    "collapsed": false
   },
   "outputs": [
    {
     "name": "stdout",
     "output_type": "stream",
     "text": [
      "{'alpha': 3.5, 'prior_centroid_mean': array([0.]), 'prior_centroid_info': array([0.1]), 'prior_gamma_df': array([8.]), 'prior_gamma_inv_scale': array([[0.62, 0.  , 0.  , 0.  ],\n",
      "       [0.  , 0.62, 0.  , 0.  ],\n",
      "       [0.  , 0.  , 0.62, 0.  ],\n",
      "       [0.  , 0.  , 0.  , 0.62]])}\n"
     ]
    }
   ],
   "source": [
    "# Get priors\n",
    "prior_params_dict, prior_params_paragami = gmm_lib.get_default_prior_params(dim)\n",
    "prior_params_dict['alpha'] = 3.5\n",
    "print(prior_params_dict)"
   ]
  },
  {
   "cell_type": "markdown",
   "metadata": {},
   "source": [
    "### Variational parameters"
   ]
  },
  {
   "cell_type": "code",
   "execution_count": 5,
   "metadata": {
    "collapsed": true
   },
   "outputs": [],
   "source": [
    "# number of clusters in variational distribution \n",
    "k_approx = 30"
   ]
  },
  {
   "cell_type": "code",
   "execution_count": 6,
   "metadata": {
    "collapsed": false
   },
   "outputs": [],
   "source": [
    "# Gauss-Hermite points for integrating logitnormal stick-breaking prior\n",
    "gh_deg = 8\n",
    "gh_loc, gh_weights = hermgauss(gh_deg)"
   ]
  },
  {
   "cell_type": "code",
   "execution_count": 7,
   "metadata": {
    "collapsed": false
   },
   "outputs": [],
   "source": [
    "# get vb parameters\n",
    "vb_params_dict, vb_params_paragami = gmm_lib.get_vb_params_paragami_object(dim, k_approx)"
   ]
  },
  {
   "cell_type": "code",
   "execution_count": 8,
   "metadata": {
    "collapsed": false
   },
   "outputs": [
    {
     "data": {
      "text/plain": [
       "1460.205125758913"
      ]
     },
     "execution_count": 8,
     "metadata": {},
     "output_type": "execute_result"
    }
   ],
   "source": [
    "# the objective \n",
    "gmm_lib.get_kl(features, vb_params_dict, prior_params_dict, gh_loc, gh_weights)"
   ]
  },
  {
   "cell_type": "markdown",
   "metadata": {},
   "source": [
    "# Optimize the KL objective"
   ]
  },
  {
   "cell_type": "markdown",
   "metadata": {},
   "source": [
    "### Initialize with k-means"
   ]
  },
  {
   "cell_type": "code",
   "execution_count": 9,
   "metadata": {
    "collapsed": false
   },
   "outputs": [
    {
     "data": {
      "text/plain": [
       "450.9718947107098"
      ]
     },
     "execution_count": 9,
     "metadata": {},
     "output_type": "execute_result"
    }
   ],
   "source": [
    "# run a kmeans init\n",
    "n_kmeans_init = 50\n",
    "init_vb_free_params, init_vb_params_dict, init_ez = \\\n",
    "    optimization_lib.cluster_and_get_k_means_inits(features, vb_params_paragami, \n",
    "                                                n_kmeans_init = n_kmeans_init, \n",
    "                                                  seed = 453453)\n",
    "\n",
    "gmm_lib.get_kl(features, init_vb_params_dict, prior_params_dict, gh_loc, gh_weights)"
   ]
  },
  {
   "cell_type": "markdown",
   "metadata": {},
   "source": [
    "### Set up KL objective "
   ]
  },
  {
   "cell_type": "code",
   "execution_count": 10,
   "metadata": {
    "collapsed": true
   },
   "outputs": [],
   "source": [
    "# get loss as a function of vb parameters\n",
    "get_vb_params_loss = paragami.Functor(original_fun=gmm_lib.get_kl, argnums=1)\n",
    "get_vb_params_loss.cache_args(features, None, prior_params_dict,\n",
    "                                gh_loc, gh_weights)\n",
    "\n",
    "# Get loss as a function vb_free_params\n",
    "get_loss = paragami.FlattenedFunction(original_fun=get_vb_params_loss,\n",
    "                                        patterns=vb_params_paragami,\n",
    "                                        free=True)\n"
   ]
  },
  {
   "cell_type": "code",
   "execution_count": 11,
   "metadata": {
    "collapsed": false
   },
   "outputs": [
    {
     "name": "stdout",
     "output_type": "stream",
     "text": [
      "running bfgs ... \n",
      "Warning: Desired error not necessarily achieved due to precision loss.\n",
      "         Current function value: -371.915284\n",
      "         Iterations: 160\n",
      "         Function evaluations: 331\n",
      "         Gradient evaluations: 317\n",
      "\n",
      " running preconditioned newton; iter =  0\n",
      "computing preconditioner \n",
      "running newton steps\n",
      "Warning: A bad approximation caused failure to predict improvement.\n",
      "         Current function value: -371.915284\n",
      "         Iterations: 13\n",
      "         Function evaluations: 15\n",
      "         Gradient evaluations: 1\n",
      "         Hessian evaluations: 0\n",
      "Iter 0: x_diff = 2.1593815795779452e-12, f_diff = 4.547473508864641e-13, grad_l1 = 3.174373405431219e-05\n",
      "done. \n"
     ]
    }
   ],
   "source": [
    "vb_opt = optimization_lib.optimize_full(get_loss, init_vb_free_params,\n",
    "                    bfgs_max_iter = 500, netwon_max_iter = 50,\n",
    "                    max_precondition_iter = 10,\n",
    "                    gtol=1e-8, ftol=1e-8, xtol=1e-8)"
   ]
  },
  {
   "cell_type": "code",
   "execution_count": 12,
   "metadata": {
    "collapsed": false
   },
   "outputs": [],
   "source": [
    "vb_opt_dict = vb_params_paragami.fold(vb_opt, free = True)\n",
    "e_z_opt = gmm_lib.get_optimal_z_from_vb_params_dict(features, vb_opt_dict, gh_loc, gh_weights)"
   ]
  },
  {
   "cell_type": "code",
   "execution_count": 13,
   "metadata": {
    "collapsed": true
   },
   "outputs": [],
   "source": [
    "# plot check results\n",
    "def plot_results_from_vb_params_dict(pca_fit, vb_params_dict, e_z, fig): \n",
    "    # we plot in PCA space\n",
    "    bnp_centroids_pc, bnp_cluster_covs_pc = \\\n",
    "        utils_lib.transform_params_to_pc_space(pca_fit, vb_params_dict['centroids'], \n",
    "                                               np.linalg.inv(vb_params_dict['gamma']))\n",
    "    \n",
    "    bnp_clusters = np.argmax(e_z, axis = 1)\n",
    "    \n",
    "    cmap = cm.get_cmap(name='gist_rainbow')\n",
    "    colors1 = [cmap(k * 50) for k in range(30)]\n",
    "\n",
    "    utils_lib.plot_clusters(pc_features[:, 0], pc_features[:, 1], bnp_clusters, \\\n",
    "                  colors1, fig, \\\n",
    "                  centroids = bnp_centroids_pc[:, np.unique(bnp_clusters)], \n",
    "                cov = bnp_cluster_covs_pc[np.unique(bnp_clusters)])\n"
   ]
  },
  {
   "cell_type": "code",
   "execution_count": 14,
   "metadata": {
    "collapsed": false
   },
   "outputs": [
    {
     "data": {
      "text/plain": [
       "<matplotlib.text.Text at 0x7f57f1e01ba8>"
      ]
     },
     "execution_count": 14,
     "metadata": {},
     "output_type": "execute_result"
    },
    {
     "data": {
      "image/png": "[encoded data removed]",
      "text/plain": [
       "<matplotlib.figure.Figure at 0x7f57f1dd1c88>"
      ]
     },
     "metadata": {},
     "output_type": "display_data"
    }
   ],
   "source": [
    "# Newton results\n",
    "fig1 = plt.figure(1)\n",
    "fig = fig1.add_subplot(111)\n",
    "\n",
    "plot_results_from_vb_params_dict(pca_fit, vb_opt_dict, e_z_opt, fig)\n",
    "fig.set_xlabel('PC1', fontsize = 18)\n",
    "fig.set_ylabel('PC2', fontsize = 18)\n"
   ]
  },
  {
   "cell_type": "code",
   "execution_count": 20,
   "metadata": {
    "collapsed": false,
    "scrolled": true
   },
   "outputs": [],
   "source": [
    "paragami.save_folded('./iris_fits/iris_fits_alpha{}'.format(prior_params_dict['alpha']), \n",
    "                     vb_opt_dict,\n",
    "                     vb_params_paragami, \n",
    "                     alpha = prior_params_dict['alpha'], \n",
    "                    gh_deg = gh_deg)"
   ]
  },
  {
   "cell_type": "code",
   "execution_count": null,
   "metadata": {
    "collapsed": true
   },
   "outputs": [],
   "source": []
  },
  {
   "cell_type": "markdown",
   "metadata": {
    "collapsed": true
   },
   "source": [
    "# Fit for a range of alpha "
   ]
  },
  {
   "cell_type": "code",
   "execution_count": 21,
   "metadata": {
    "collapsed": false
   },
   "outputs": [],
   "source": [
    "alpha_list = np.arange(start=0.5, stop=16, step=0.5)\n",
    "\n",
    "print(alpha_list)"
   ]
  },
  {
   "cell_type": "code",
   "execution_count": 22,
   "metadata": {
    "collapsed": true
   },
   "outputs": [],
   "source": [
    "def refit_with_alpha(alpha, vb_opt): \n",
    "    new_alpha = np.array([alpha])\n",
    "\n",
    "    prior_params_pert_dict = deepcopy(prior_params_dict)\n",
    "    prior_params_pert_dict['alpha'] = new_alpha\n",
    "    \n",
    "    # set up new objective, witht the prior changed\n",
    "    get_vb_params_loss.cache_args(features, None, prior_params_pert_dict, gh_loc, gh_weights)\n",
    "    get_pert_loss = paragami.FlattenedFunction(original_fun=get_vb_params_loss,\n",
    "                                            patterns=vb_params_paragami,\n",
    "                                            free=True)\n",
    "    vb_opt_pert = optimization_lib.optimize_full(get_pert_loss,deepcopy(vb_opt),\n",
    "                    bfgs_max_iter = 500, netwon_max_iter = 50,\n",
    "                    max_precondition_iter = 10,\n",
    "                    gtol=1e-8, ftol=1e-8, xtol=1e-8)\n",
    "    \n",
    "    return vb_opt_pert"
   ]
  },
  {
   "cell_type": "code",
   "execution_count": 24,
   "metadata": {
    "collapsed": false,
    "scrolled": true
   },
   "outputs": [
    {
     "name": "stdout",
     "output_type": "stream",
     "text": [
      "re-optimzing with alpha =  0.5\n",
      "running bfgs ... \n",
      "Warning: Desired error not necessarily achieved due to precision loss.\n",
      "         Current function value: -431.370960\n",
      "         Iterations: 91\n",
      "         Function evaluations: 173\n",
      "         Gradient evaluations: 161\n",
      "\n",
      " running preconditioned newton; iter =  0\n",
      "computing preconditioner \n",
      "running newton steps\n",
      "Optimization terminated successfully.\n",
      "         Current function value: -431.370960\n",
      "         Iterations: 1\n",
      "         Function evaluations: 2\n",
      "         Gradient evaluations: 2\n",
      "         Hessian evaluations: 0\n",
      "Iter 0: x_diff = 3.332187013926469e-05, f_diff = 9.663381206337363e-13, grad_l1 = 2.7010944904854276e-11\n",
      "done. \n",
      "saving results to  ./iris_fits/iris_fits_alpha0.5\n",
      "re-optimzing with alpha =  1.0\n",
      "running bfgs ... \n",
      "Warning: Desired error not necessarily achieved due to precision loss.\n",
      "         Current function value: -412.668542\n",
      "         Iterations: 101\n",
      "         Function evaluations: 182\n",
      "         Gradient evaluations: 173\n",
      "\n",
      " running preconditioned newton; iter =  0\n",
      "computing preconditioner \n",
      "running newton steps\n",
      "Optimization terminated successfully.\n",
      "         Current function value: -412.668542\n",
      "         Iterations: 1\n",
      "         Function evaluations: 2\n",
      "         Gradient evaluations: 2\n",
      "         Hessian evaluations: 0\n",
      "Iter 0: x_diff = 2.0951476926889545e-05, f_diff = 1.4210854715202004e-12, grad_l1 = 1.318982304656087e-11\n",
      "done. \n",
      "saving results to  ./iris_fits/iris_fits_alpha1.0\n",
      "re-optimzing with alpha =  1.5\n",
      "running bfgs ... \n",
      "Warning: Desired error not necessarily achieved due to precision loss.\n",
      "         Current function value: -400.573799\n",
      "         Iterations: 102\n",
      "         Function evaluations: 214\n",
      "         Gradient evaluations: 203\n",
      "\n",
      " running preconditioned newton; iter =  0\n",
      "computing preconditioner \n",
      "running newton steps\n",
      "Warning: A bad approximation caused failure to predict improvement.\n",
      "         Current function value: -400.573799\n",
      "         Iterations: 14\n",
      "         Function evaluations: 16\n",
      "         Gradient evaluations: 2\n",
      "         Hessian evaluations: 0\n",
      "Iter 0: x_diff = 4.128016543712902e-06, f_diff = 5.684341886080802e-14, grad_l1 = 6.067916258483304e-06\n",
      "done. \n",
      "saving results to  ./iris_fits/iris_fits_alpha1.5\n",
      "re-optimzing with alpha =  2.0\n",
      "running bfgs ... \n",
      "Warning: Desired error not necessarily achieved due to precision loss.\n",
      "         Current function value: -391.456873\n",
      "         Iterations: 107\n",
      "         Function evaluations: 135\n",
      "         Gradient evaluations: 134\n",
      "\n",
      " running preconditioned newton; iter =  0\n",
      "computing preconditioner \n",
      "running newton steps\n",
      "Optimization terminated successfully.\n",
      "         Current function value: -391.456873\n",
      "         Iterations: 1\n",
      "         Function evaluations: 2\n",
      "         Gradient evaluations: 2\n",
      "         Hessian evaluations: 0\n",
      "Iter 0: x_diff = 2.0417099693573595e-05, f_diff = 1.1368683772161603e-13, grad_l1 = 1.797003113610129e-11\n",
      "done. \n",
      "saving results to  ./iris_fits/iris_fits_alpha2.0\n",
      "re-optimzing with alpha =  2.5\n",
      "running bfgs ... \n",
      "Warning: Desired error not necessarily achieved due to precision loss.\n",
      "         Current function value: -383.979699\n",
      "         Iterations: 103\n",
      "         Function evaluations: 224\n",
      "         Gradient evaluations: 211\n",
      "\n",
      " running preconditioned newton; iter =  0\n",
      "computing preconditioner \n",
      "running newton steps\n",
      "Warning: A bad approximation caused failure to predict improvement.\n",
      "         Current function value: -383.979699\n",
      "         Iterations: 16\n",
      "         Function evaluations: 18\n",
      "         Gradient evaluations: 3\n",
      "         Hessian evaluations: 0\n",
      "Iter 0: x_diff = 3.216031740010417e-06, f_diff = 1.3073986337985843e-12, grad_l1 = 8.81393077045925e-06\n",
      "done. \n",
      "saving results to  ./iris_fits/iris_fits_alpha2.5\n",
      "re-optimzing with alpha =  3.0\n",
      "running bfgs ... \n",
      "Warning: Desired error not necessarily achieved due to precision loss.\n",
      "         Current function value: -377.568719\n",
      "         Iterations: 94\n",
      "         Function evaluations: 194\n",
      "         Gradient evaluations: 183\n",
      "\n",
      " running preconditioned newton; iter =  0\n",
      "computing preconditioner \n",
      "running newton steps\n",
      "Optimization terminated successfully.\n",
      "         Current function value: -377.568719\n",
      "         Iterations: 1\n",
      "         Function evaluations: 2\n",
      "         Gradient evaluations: 2\n",
      "         Hessian evaluations: 0\n",
      "Iter 0: x_diff = 2.9729647862238923e-05, f_diff = 2.3874235921539366e-12, grad_l1 = 2.5976697322113465e-11\n",
      "done. \n",
      "saving results to  ./iris_fits/iris_fits_alpha3.0\n",
      "re-optimzing with alpha =  3.5\n",
      "running bfgs ... \n",
      "Warning: Desired error not necessarily achieved due to precision loss.\n",
      "         Current function value: -371.915284\n",
      "         Iterations: 0\n",
      "         Function evaluations: 56\n",
      "         Gradient evaluations: 44\n",
      "\n",
      " running preconditioned newton; iter =  0\n",
      "computing preconditioner \n",
      "running newton steps\n",
      "Optimization terminated successfully.\n",
      "         Current function value: -371.915284\n",
      "         Iterations: 1\n",
      "         Function evaluations: 2\n",
      "         Gradient evaluations: 2\n",
      "         Hessian evaluations: 0\n",
      "Iter 0: x_diff = 1.594356408441784e-05, f_diff = 7.389644451905042e-13, grad_l1 = 1.322788685406988e-11\n",
      "done. \n",
      "saving results to  ./iris_fits/iris_fits_alpha3.5\n",
      "re-optimzing with alpha =  4.0\n",
      "running bfgs ... \n",
      "Warning: Desired error not necessarily achieved due to precision loss.\n",
      "         Current function value: -366.830611\n",
      "         Iterations: 99\n",
      "         Function evaluations: 210\n",
      "         Gradient evaluations: 198\n",
      "\n",
      " running preconditioned newton; iter =  0\n",
      "computing preconditioner \n",
      "running newton steps\n",
      "Warning: A bad approximation caused failure to predict improvement.\n",
      "         Current function value: -366.830611\n",
      "         Iterations: 14\n",
      "         Function evaluations: 16\n",
      "         Gradient evaluations: 2\n",
      "         Hessian evaluations: 0\n",
      "Iter 0: x_diff = 5.431440105422952e-06, f_diff = 2.8421709430404007e-13, grad_l1 = 4.9077786689056315e-06\n",
      "done. \n",
      "saving results to  ./iris_fits/iris_fits_alpha4.0\n",
      "re-optimzing with alpha =  4.5\n",
      "running bfgs ... \n",
      "Warning: Desired error not necessarily achieved due to precision loss.\n",
      "         Current function value: -362.190550\n",
      "         Iterations: 100\n",
      "         Function evaluations: 179\n",
      "         Gradient evaluations: 167\n",
      "\n",
      " running preconditioned newton; iter =  0\n",
      "computing preconditioner \n",
      "running newton steps\n",
      "Optimization terminated successfully.\n",
      "         Current function value: -362.190550\n",
      "         Iterations: 1\n",
      "         Function evaluations: 2\n",
      "         Gradient evaluations: 2\n",
      "         Hessian evaluations: 0\n",
      "Iter 0: x_diff = 2.889768369843993e-05, f_diff = 3.979039320256561e-13, grad_l1 = 2.519413045935736e-11\n",
      "done. \n",
      "saving results to  ./iris_fits/iris_fits_alpha4.5\n",
      "re-optimzing with alpha =  5.0\n",
      "running bfgs ... \n",
      "Warning: Desired error not necessarily achieved due to precision loss.\n",
      "         Current function value: -357.909134\n",
      "         Iterations: 101\n",
      "         Function evaluations: 172\n",
      "         Gradient evaluations: 160\n",
      "\n",
      " running preconditioned newton; iter =  0\n",
      "computing preconditioner \n",
      "running newton steps\n",
      "Optimization terminated successfully.\n",
      "         Current function value: -357.909134\n",
      "         Iterations: 1\n",
      "         Function evaluations: 2\n",
      "         Gradient evaluations: 2\n",
      "         Hessian evaluations: 0\n",
      "Iter 0: x_diff = 3.537039085569471e-05, f_diff = 9.663381206337363e-13, grad_l1 = 2.1939951039042665e-11\n",
      "done. \n",
      "saving results to  ./iris_fits/iris_fits_alpha5.0\n",
      "re-optimzing with alpha =  5.5\n",
      "running bfgs ... \n",
      "Warning: Desired error not necessarily achieved due to precision loss.\n",
      "         Current function value: -353.924697\n",
      "         Iterations: 105\n",
      "         Function evaluations: 198\n",
      "         Gradient evaluations: 188\n",
      "\n",
      " running preconditioned newton; iter =  0\n",
      "computing preconditioner \n",
      "running newton steps\n",
      "Warning: A bad approximation caused failure to predict improvement.\n",
      "         Current function value: -353.924697\n",
      "         Iterations: 12\n",
      "         Function evaluations: 14\n",
      "         Gradient evaluations: 1\n",
      "         Hessian evaluations: 0\n",
      "Iter 0: x_diff = 2.1533951955843376e-12, f_diff = 5.684341886080802e-14, grad_l1 = 4.694723003805423e-06\n",
      "done. \n",
      "saving results to  ./iris_fits/iris_fits_alpha5.5\n",
      "re-optimzing with alpha =  6.0\n",
      "running bfgs ... \n",
      "Warning: Desired error not necessarily achieved due to precision loss.\n",
      "         Current function value: -350.192176\n",
      "         Iterations: 103\n",
      "         Function evaluations: 239\n",
      "         Gradient evaluations: 225\n",
      "\n",
      " running preconditioned newton; iter =  0\n",
      "computing preconditioner \n",
      "running newton steps\n",
      "Optimization terminated successfully.\n",
      "         Current function value: -350.192176\n",
      "         Iterations: 1\n",
      "         Function evaluations: 2\n",
      "         Gradient evaluations: 2\n",
      "         Hessian evaluations: 0\n",
      "Iter 0: x_diff = 3.429154116319787e-05, f_diff = 6.821210263296962e-13, grad_l1 = 2.3189309894687925e-11\n",
      "done. \n",
      "saving results to  ./iris_fits/iris_fits_alpha6.0\n",
      "re-optimzing with alpha =  6.5\n",
      "running bfgs ... \n",
      "Warning: Desired error not necessarily achieved due to precision loss.\n",
      "         Current function value: -346.678244\n",
      "         Iterations: 100\n",
      "         Function evaluations: 181\n",
      "         Gradient evaluations: 169\n",
      "\n",
      " running preconditioned newton; iter =  0\n",
      "computing preconditioner \n",
      "running newton steps\n",
      "Optimization terminated successfully.\n",
      "         Current function value: -346.678244\n",
      "         Iterations: 1\n",
      "         Function evaluations: 2\n",
      "         Gradient evaluations: 2\n",
      "         Hessian evaluations: 0\n",
      "Iter 0: x_diff = 4.604019489740711e-05, f_diff = 1.6484591469634324e-12, grad_l1 = 2.9037872852941082e-11\n",
      "done. \n",
      "saving results to  ./iris_fits/iris_fits_alpha6.5\n",
      "re-optimzing with alpha =  7.0\n",
      "running bfgs ... \n",
      "Warning: Desired error not necessarily achieved due to precision loss.\n",
      "         Current function value: -343.356869\n",
      "         Iterations: 104\n",
      "         Function evaluations: 193\n",
      "         Gradient evaluations: 181\n",
      "\n",
      " running preconditioned newton; iter =  0\n",
      "computing preconditioner \n",
      "running newton steps\n",
      "Optimization terminated successfully.\n",
      "         Current function value: -343.356869\n",
      "         Iterations: 1\n",
      "         Function evaluations: 2\n",
      "         Gradient evaluations: 2\n",
      "         Hessian evaluations: 0\n",
      "Iter 0: x_diff = 4.781146119720012e-05, f_diff = 1.0231815394945443e-12, grad_l1 = 5.5494152011853323e-11\n",
      "done. \n",
      "saving results to  ./iris_fits/iris_fits_alpha7.0\n",
      "re-optimzing with alpha =  7.5\n",
      "running bfgs ... \n",
      "Warning: Desired error not necessarily achieved due to precision loss.\n",
      "         Current function value: -340.206161\n",
      "         Iterations: 105\n",
      "         Function evaluations: 142\n",
      "         Gradient evaluations: 131\n",
      "\n",
      " running preconditioned newton; iter =  0\n",
      "computing preconditioner \n",
      "running newton steps\n",
      "Optimization terminated successfully.\n",
      "         Current function value: -340.206161\n",
      "         Iterations: 1\n",
      "         Function evaluations: 2\n",
      "         Gradient evaluations: 2\n",
      "         Hessian evaluations: 0\n",
      "Iter 0: x_diff = 3.034655605735699e-05, f_diff = 1.5347723092418164e-12, grad_l1 = 1.4111459327908942e-11\n",
      "done. \n",
      "saving results to  ./iris_fits/iris_fits_alpha7.5\n",
      "re-optimzing with alpha =  8.0\n",
      "running bfgs ... \n",
      "Warning: Desired error not necessarily achieved due to precision loss.\n",
      "         Current function value: -337.207527\n",
      "         Iterations: 105\n",
      "         Function evaluations: 161\n",
      "         Gradient evaluations: 149\n",
      "\n",
      " running preconditioned newton; iter =  0\n",
      "computing preconditioner \n",
      "running newton steps\n",
      "Warning: A bad approximation caused failure to predict improvement.\n",
      "         Current function value: -337.207527\n",
      "         Iterations: 13\n",
      "         Function evaluations: 15\n",
      "         Gradient evaluations: 1\n",
      "         Hessian evaluations: 0\n",
      "Iter 0: x_diff = 2.2387840415078256e-12, f_diff = 6.821210263296962e-13, grad_l1 = 1.824882394560286e-05\n",
      "done. \n",
      "saving results to  ./iris_fits/iris_fits_alpha8.0\n",
      "re-optimzing with alpha =  8.5\n",
      "running bfgs ... \n",
      "Warning: Desired error not necessarily achieved due to precision loss.\n",
      "         Current function value: -334.345710\n",
      "         Iterations: 108\n",
      "         Function evaluations: 198\n",
      "         Gradient evaluations: 186\n",
      "\n",
      " running preconditioned newton; iter =  0\n",
      "computing preconditioner \n",
      "running newton steps\n",
      "Optimization terminated successfully.\n",
      "         Current function value: -334.345710\n",
      "         Iterations: 1\n",
      "         Function evaluations: 2\n",
      "         Gradient evaluations: 2\n",
      "         Hessian evaluations: 0\n",
      "Iter 0: x_diff = 2.0998375441181282e-05, f_diff = 5.684341886080801e-13, grad_l1 = 1.4407427406894827e-11\n",
      "done. \n",
      "saving results to  ./iris_fits/iris_fits_alpha8.5\n",
      "re-optimzing with alpha =  9.0\n",
      "running bfgs ... \n",
      "Warning: Desired error not necessarily achieved due to precision loss.\n",
      "         Current function value: -331.608099\n",
      "         Iterations: 108\n",
      "         Function evaluations: 161\n",
      "         Gradient evaluations: 150\n",
      "\n",
      " running preconditioned newton; iter =  0\n",
      "computing preconditioner \n",
      "running newton steps\n",
      "Optimization terminated successfully.\n",
      "         Current function value: -331.608099\n",
      "         Iterations: 1\n",
      "         Function evaluations: 2\n",
      "         Gradient evaluations: 2\n",
      "         Hessian evaluations: 0\n",
      "Iter 0: x_diff = 2.029476670314679e-05, f_diff = 1.0800249583553523e-12, grad_l1 = 2.0161802249814744e-11\n",
      "done. \n",
      "saving results to  ./iris_fits/iris_fits_alpha9.0\n",
      "re-optimzing with alpha =  9.5\n",
      "running bfgs ... \n",
      "Warning: Desired error not necessarily achieved due to precision loss.\n",
      "         Current function value: -328.984132\n",
      "         Iterations: 113\n",
      "         Function evaluations: 246\n",
      "         Gradient evaluations: 232\n",
      "\n",
      " running preconditioned newton; iter =  0\n",
      "computing preconditioner \n",
      "running newton steps\n",
      "Optimization terminated successfully.\n",
      "         Current function value: -328.984132\n",
      "         Iterations: 1\n",
      "         Function evaluations: 2\n",
      "         Gradient evaluations: 2\n",
      "         Hessian evaluations: 0\n",
      "Iter 0: x_diff = 7.630912290001741e-06, f_diff = 1.5347723092418164e-12, grad_l1 = 1.802892248503091e-11\n",
      "done. \n",
      "saving results to  ./iris_fits/iris_fits_alpha9.5\n",
      "re-optimzing with alpha =  10.0\n",
      "running bfgs ... \n",
      "Warning: Desired error not necessarily achieved due to precision loss.\n",
      "         Current function value: -326.464874\n",
      "         Iterations: 110\n",
      "         Function evaluations: 211\n",
      "         Gradient evaluations: 201\n",
      "\n",
      " running preconditioned newton; iter =  0\n",
      "computing preconditioner \n",
      "running newton steps\n",
      "Optimization terminated successfully.\n",
      "         Current function value: -326.464874\n",
      "         Iterations: 1\n",
      "         Function evaluations: 2\n",
      "         Gradient evaluations: 2\n",
      "         Hessian evaluations: 0\n",
      "Iter 0: x_diff = 2.2238693493961648e-05, f_diff = 1.1368683772161603e-13, grad_l1 = 3.012287844844278e-11\n",
      "done. \n",
      "saving results to  ./iris_fits/iris_fits_alpha10.0\n",
      "re-optimzing with alpha =  10.5\n",
      "running bfgs ... \n",
      "Warning: Desired error not necessarily achieved due to precision loss.\n",
      "         Current function value: -324.042726\n",
      "         Iterations: 113\n",
      "         Function evaluations: 227\n",
      "         Gradient evaluations: 215\n",
      "\n",
      " running preconditioned newton; iter =  0\n",
      "computing preconditioner \n",
      "running newton steps\n",
      "Optimization terminated successfully.\n",
      "         Current function value: -324.042726\n",
      "         Iterations: 1\n",
      "         Function evaluations: 2\n",
      "         Gradient evaluations: 2\n",
      "         Hessian evaluations: 0\n",
      "Iter 0: x_diff = 1.247373371016523e-05, f_diff = 7.389644451905042e-13, grad_l1 = 2.6338924396404827e-11\n",
      "done. \n",
      "saving results to  ./iris_fits/iris_fits_alpha10.5\n",
      "re-optimzing with alpha =  11.0\n",
      "running bfgs ... \n",
      "Warning: Desired error not necessarily achieved due to precision loss.\n",
      "         Current function value: -321.711195\n",
      "         Iterations: 105\n",
      "         Function evaluations: 185\n",
      "         Gradient evaluations: 173\n",
      "\n",
      " running preconditioned newton; iter =  0\n",
      "computing preconditioner \n",
      "running newton steps\n",
      "Optimization terminated successfully.\n",
      "         Current function value: -321.711195\n",
      "         Iterations: 1\n",
      "         Function evaluations: 2\n",
      "         Gradient evaluations: 2\n",
      "         Hessian evaluations: 0\n",
      "Iter 0: x_diff = 8.073723299596437e-05, f_diff = 6.536993168992922e-12, grad_l1 = 1.4832247425873595e-10\n",
      "done. \n",
      "saving results to  ./iris_fits/iris_fits_alpha11.0\n",
      "re-optimzing with alpha =  11.5\n",
      "running bfgs ... \n",
      "Warning: Desired error not necessarily achieved due to precision loss.\n",
      "         Current function value: -319.464720\n",
      "         Iterations: 111\n",
      "         Function evaluations: 183\n",
      "         Gradient evaluations: 173\n",
      "\n",
      " running preconditioned newton; iter =  0\n",
      "computing preconditioner \n",
      "running newton steps\n",
      "Optimization terminated successfully.\n",
      "         Current function value: -319.464720\n",
      "         Iterations: 1\n",
      "         Function evaluations: 2\n",
      "         Gradient evaluations: 2\n",
      "         Hessian evaluations: 0\n",
      "Iter 0: x_diff = 2.0858511429944668e-05, f_diff = 2.2737367544323206e-13, grad_l1 = 2.3974159956595277e-11\n",
      "done. \n",
      "saving results to  ./iris_fits/iris_fits_alpha11.5\n",
      "re-optimzing with alpha =  12.0\n",
      "running bfgs ... \n",
      "Warning: Desired error not necessarily achieved due to precision loss.\n",
      "         Current function value: -317.298520\n",
      "         Iterations: 107\n",
      "         Function evaluations: 134\n",
      "         Gradient evaluations: 133\n",
      "\n",
      " running preconditioned newton; iter =  0\n",
      "computing preconditioner \n",
      "running newton steps\n",
      "Optimization terminated successfully.\n",
      "         Current function value: -317.298520\n",
      "         Iterations: 1\n",
      "         Function evaluations: 2\n",
      "         Gradient evaluations: 2\n",
      "         Hessian evaluations: 0\n",
      "Iter 0: x_diff = 4.2576352523679065e-05, f_diff = 2.1032064978498966e-12, grad_l1 = 5.402117618833528e-11\n",
      "done. \n",
      "saving results to  ./iris_fits/iris_fits_alpha12.0\n",
      "re-optimzing with alpha =  12.5\n",
      "running bfgs ... \n",
      "Warning: Desired error not necessarily achieved due to precision loss.\n",
      "         Current function value: -315.208455\n",
      "         Iterations: 111\n",
      "         Function evaluations: 213\n",
      "         Gradient evaluations: 203\n",
      "\n",
      " running preconditioned newton; iter =  0\n",
      "computing preconditioner \n",
      "running newton steps\n",
      "Optimization terminated successfully.\n",
      "         Current function value: -315.208455\n",
      "         Iterations: 1\n",
      "         Function evaluations: 2\n",
      "         Gradient evaluations: 2\n",
      "         Hessian evaluations: 0\n",
      "Iter 0: x_diff = 2.505979770146378e-05, f_diff = 1.0800249583553523e-12, grad_l1 = 2.54931320386854e-11\n",
      "done. \n",
      "saving results to  ./iris_fits/iris_fits_alpha12.5\n",
      "re-optimzing with alpha =  13.0\n",
      "running bfgs ... \n",
      "Warning: Desired error not necessarily achieved due to precision loss.\n",
      "         Current function value: -313.190931\n",
      "         Iterations: 108\n",
      "         Function evaluations: 135\n",
      "         Gradient evaluations: 134\n",
      "\n",
      " running preconditioned newton; iter =  0\n",
      "computing preconditioner \n",
      "running newton steps\n",
      "Optimization terminated successfully.\n",
      "         Current function value: -313.190931\n",
      "         Iterations: 1\n",
      "         Function evaluations: 2\n",
      "         Gradient evaluations: 2\n",
      "         Hessian evaluations: 0\n",
      "Iter 0: x_diff = 3.8421427670613296e-05, f_diff = 1.7621459846850485e-12, grad_l1 = 4.4147147801048896e-11\n",
      "done. \n",
      "saving results to  ./iris_fits/iris_fits_alpha13.0\n",
      "re-optimzing with alpha =  13.5\n",
      "running bfgs ... \n",
      "Warning: Desired error not necessarily achieved due to precision loss.\n",
      "         Current function value: -311.242842\n",
      "         Iterations: 113\n",
      "         Function evaluations: 207\n",
      "         Gradient evaluations: 196\n",
      "\n",
      " running preconditioned newton; iter =  0\n",
      "computing preconditioner \n",
      "running newton steps\n",
      "Optimization terminated successfully.\n",
      "         Current function value: -311.242842\n",
      "         Iterations: 1\n",
      "         Function evaluations: 2\n",
      "         Gradient evaluations: 2\n",
      "         Hessian evaluations: 0\n",
      "Iter 0: x_diff = 2.6375309919738535e-05, f_diff = 2.8421709430404007e-13, grad_l1 = 2.9894863722581694e-11\n",
      "done. \n",
      "saving results to  ./iris_fits/iris_fits_alpha13.5\n",
      "re-optimzing with alpha =  14.0\n",
      "running bfgs ... \n",
      "Warning: Desired error not necessarily achieved due to precision loss.\n",
      "         Current function value: -309.361613\n",
      "         Iterations: 114\n",
      "         Function evaluations: 173\n",
      "         Gradient evaluations: 162\n",
      "\n",
      " running preconditioned newton; iter =  0\n",
      "computing preconditioner \n",
      "running newton steps\n",
      "Optimization terminated successfully.\n",
      "         Current function value: -309.361613\n",
      "         Iterations: 1\n",
      "         Function evaluations: 2\n",
      "         Gradient evaluations: 2\n",
      "         Hessian evaluations: 0\n",
      "Iter 0: x_diff = 2.2220960349054963e-05, f_diff = 3.979039320256561e-13, grad_l1 = 2.989856117669791e-11\n",
      "done. \n",
      "saving results to  ./iris_fits/iris_fits_alpha14.0\n",
      "re-optimzing with alpha =  14.5\n",
      "running bfgs ... \n",
      "Warning: Desired error not necessarily achieved due to precision loss.\n",
      "         Current function value: -307.545406\n",
      "         Iterations: 111\n",
      "         Function evaluations: 136\n",
      "         Gradient evaluations: 135\n",
      "\n",
      " running preconditioned newton; iter =  0\n",
      "computing preconditioner \n",
      "running newton steps\n",
      "Warning: A bad approximation caused failure to predict improvement.\n",
      "         Current function value: -307.545406\n",
      "         Iterations: 14\n",
      "         Function evaluations: 16\n",
      "         Gradient evaluations: 1\n",
      "         Hessian evaluations: 0\n",
      "Iter 0: x_diff = 1.9915620530757544e-12, f_diff = 1.4210854715202004e-12, grad_l1 = 4.214377880405556e-05\n",
      "done. \n",
      "saving results to  ./iris_fits/iris_fits_alpha14.5\n",
      "re-optimzing with alpha =  15.0\n",
      "running bfgs ... \n",
      "Warning: Desired error not necessarily achieved due to precision loss.\n",
      "         Current function value: -305.793765\n",
      "         Iterations: 110\n",
      "         Function evaluations: 144\n",
      "         Gradient evaluations: 143\n",
      "\n",
      " running preconditioned newton; iter =  0\n",
      "computing preconditioner \n",
      "running newton steps\n",
      "Optimization terminated successfully.\n",
      "         Current function value: -305.793765\n",
      "         Iterations: 1\n",
      "         Function evaluations: 2\n",
      "         Gradient evaluations: 2\n",
      "         Hessian evaluations: 0\n",
      "Iter 0: x_diff = 3.629969745644536e-05, f_diff = 1.2505552149377763e-12, grad_l1 = 4.0800145214596614e-11\n",
      "done. \n",
      "saving results to  ./iris_fits/iris_fits_alpha15.0\n",
      "re-optimzing with alpha =  15.5\n",
      "running bfgs ... \n",
      "Warning: Desired error not necessarily achieved due to precision loss.\n",
      "         Current function value: -304.185296\n",
      "         Iterations: 149\n",
      "         Function evaluations: 211\n",
      "         Gradient evaluations: 201\n",
      "\n",
      " running preconditioned newton; iter =  0\n",
      "computing preconditioner \n",
      "running newton steps\n",
      "Optimization terminated successfully.\n",
      "         Current function value: -304.185296\n",
      "         Iterations: 1\n",
      "         Function evaluations: 2\n",
      "         Gradient evaluations: 2\n",
      "         Hessian evaluations: 0\n",
      "Iter 0: x_diff = 2.7875936585757368e-05, f_diff = 6.252776074688882e-13, grad_l1 = 2.935759078844591e-11\n",
      "done. \n",
      "saving results to  ./iris_fits/iris_fits_alpha15.5\n"
     ]
    }
   ],
   "source": [
    "for alpha in alpha_list: \n",
    "    print('re-optimzing with alpha = ', alpha)\n",
    "    \n",
    "    vb_opt_pert = refit_with_alpha(alpha, vb_opt)\n",
    "    \n",
    "    vb_pert_dict = vb_params_paragami.fold(vb_opt_pert, free = True)\n",
    "    \n",
    "    filename = './iris_fits/iris_fits_alpha{}'.format(alpha)\n",
    "    print('saving results to ', filename)\n",
    "    paragami.save_folded(filename, \n",
    "                     vb_pert_dict,\n",
    "                     vb_params_paragami, \n",
    "                     alpha = alpha, \n",
    "                    gh_deg = gh_deg)"
   ]
  },
  {
   "cell_type": "code",
   "execution_count": null,
   "metadata": {
    "collapsed": true
   },
   "outputs": [],
   "source": []
  },
  {
   "cell_type": "code",
   "execution_count": null,
   "metadata": {
    "collapsed": true
   },
   "outputs": [],
   "source": []
  }
 ],
 "metadata": {
  "kernelspec": {
   "display_name": "Python 3",
   "language": "python",
   "name": "python3"
  },
  "language_info": {
   "codemirror_mode": {
    "name": "ipython",
    "version": 3
   },
   "file_extension": ".py",
   "mimetype": "text/x-python",
   "name": "python",
   "nbconvert_exporter": "python",
   "pygments_lexer": "ipython3",
   "version": "3.6.0"
  }
 },
 "nbformat": 4,
 "nbformat_minor": 2
}
