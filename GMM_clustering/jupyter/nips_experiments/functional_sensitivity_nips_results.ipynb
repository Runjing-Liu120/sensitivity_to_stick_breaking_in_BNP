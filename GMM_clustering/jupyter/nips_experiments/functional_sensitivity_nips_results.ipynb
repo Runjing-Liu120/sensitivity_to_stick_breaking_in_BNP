{
 "cells": [
  {
   "cell_type": "markdown",
   "metadata": {},
   "source": [
    "This notebook reproduces the functional sensitivity results in the paper\n",
    "\n",
    "\"Evaluating Sensitivity to the Stick Breaking Prior in Bayesian Nonparametrics\"\n",
    "https://arxiv.org/abs/1810.06587\n",
    "\n",
    "\n",
    "It loads the model fits from './iris_fits/', so make sure to run the notebook `fit_base_model.ipynb` first. "
   ]
  },
  {
   "cell_type": "code",
   "execution_count": 1,
   "metadata": {
    "collapsed": false
   },
   "outputs": [
    {
     "name": "stderr",
     "output_type": "stream",
     "text": [
      "/home/runjing_liu/Documents/BNP/autograd/autograd/core.py:290: UserWarning: \n",
      "The defvjp method is deprecated. See the update guide and tutorial:\n",
      "https://github.com/HIPS/autograd/blob/master/docs/updateguide.md\n",
      "https://github.com/HIPS/autograd/blob/master/docs/tutorial.md\n",
      "  warnings.warn(deprecation_msg)\n"
     ]
    }
   ],
   "source": [
    "import autograd\n",
    "from autograd import numpy as np\n",
    "from autograd import scipy as sp\n",
    "\n",
    "from numpy.polynomial.hermite import hermgauss\n",
    "\n",
    "np.random.seed(453453)\n",
    "\n",
    "import paragami\n",
    "\n",
    "# BNP sensitivity libraries\n",
    "import sys\n",
    "sys.path.insert(0, '../../libraries/')\n",
    "import gmm_clustering_lib as gmm_lib\n",
    "import modeling_lib \n",
    "import utils_lib\n",
    "import cluster_quantities_lib as cluster_lib\n",
    "import optimization_lib\n",
    "import functional_sensitivity_lib as fun_sens_lib \n",
    "\n",
    "\n",
    "import matplotlib.pyplot as plt\n",
    "%matplotlib inline\n",
    "import matplotlib.cm as cm\n",
    "\n",
    "from sklearn.decomposition import PCA\n",
    "\n",
    "from copy import deepcopy\n",
    "\n",
    "import json \n",
    "\n",
    "from tqdm import tqdm"
   ]
  },
  {
   "cell_type": "markdown",
   "metadata": {},
   "source": [
    "# Load data"
   ]
  },
  {
   "cell_type": "code",
   "execution_count": 2,
   "metadata": {
    "collapsed": true
   },
   "outputs": [],
   "source": [
    "# load iris data\n",
    "dataset_name = 'iris'\n",
    "features, iris_species = utils_lib.load_data()\n",
    "dim = features.shape[1]\n",
    "n_obs = len(iris_species)    "
   ]
  },
  {
   "cell_type": "code",
   "execution_count": 3,
   "metadata": {
    "collapsed": false
   },
   "outputs": [
    {
     "data": {
      "text/plain": [
       "<matplotlib.text.Text at 0x7f8e586c4940>"
      ]
     },
     "execution_count": 3,
     "metadata": {},
     "output_type": "execute_result"
    },
    {
     "data": {
      "image/png": "[encoded data removed]",
      "text/plain": [
       "<matplotlib.figure.Figure at 0x7f8e58916668>"
      ]
     },
     "metadata": {},
     "output_type": "display_data"
    }
   ],
   "source": [
    "# run PCA\n",
    "pca_fit = PCA()\n",
    "pca_fit.fit(features)\n",
    "pc_features = pca_fit.transform(features)\n",
    "\n",
    "# plot\n",
    "cmap = cm.get_cmap(name='gist_rainbow')\n",
    "colors1 = [cmap(k * 50) for k in range(30)]\n",
    "\n",
    "fig1 = plt.figure(1)\n",
    "fig = fig1.add_subplot(111)\n",
    "utils_lib.plot_clusters(pc_features[:, 0], pc_features[:, 1], iris_species, colors1, fig)\n",
    "fig.set_xlabel('PC1')\n",
    "fig.set_ylabel('PC2')\n"
   ]
  },
  {
   "cell_type": "markdown",
   "metadata": {},
   "source": [
    "# Load results from previous fit."
   ]
  },
  {
   "cell_type": "code",
   "execution_count": 4,
   "metadata": {
    "collapsed": true
   },
   "outputs": [],
   "source": [
    "def assert_optimizer(features, vb_opt_dict, vb_params_paragami, prior_params_dict, gh_loc, gh_weights): \n",
    "    # this function checks that vb_opt_dict are at a kl optimum for the given \n",
    "    # prior parameters\n",
    "    \n",
    "    get_vb_params_loss = paragami.Functor(original_fun=gmm_lib.get_kl, argnums=1)\n",
    "    get_vb_params_loss.cache_args(features, None, prior_params_dict,\n",
    "                                    gh_loc, gh_weights)\n",
    "    get_loss = paragami.FlattenedFunction(original_fun=get_vb_params_loss,\n",
    "                                            patterns=vb_params_paragami,\n",
    "                                            free=True)\n",
    "    grad_get_loss = autograd.grad(get_loss)\n",
    "    linf_grad = np.max(np.abs(grad_get_loss(vb_params_paragami.flatten(vb_opt_dict, free = True))))\n",
    "    \n",
    "    assert  linf_grad < 1e-5, 'error: {}'.format(linf_grad)\n"
   ]
  },
  {
   "cell_type": "code",
   "execution_count": 5,
   "metadata": {
    "collapsed": false
   },
   "outputs": [],
   "source": [
    "init_alpha = 8.0\n",
    "\n",
    "# load optimal vb parameters at init_alpha\n",
    "vb_opt_dict, vb_params_paragami, data =\\\n",
    "    paragami.load_folded('./iris_fits/iris_fits_alpha{}.npz'.format(init_alpha))\n",
    "\n",
    "# free optimal vb_parameters\n",
    "vb_opt = vb_params_paragami.flatten(vb_opt_dict, free = True)\n",
    "\n",
    "# load prior parameters\n",
    "prior_params_dict, prior_params_paragami = \\\n",
    "    gmm_lib.get_default_prior_params(dim = vb_opt_dict['centroids'].shape[0])\n",
    "prior_params_dict['alpha'] = data['alpha']\n",
    "\n",
    "\n",
    "# other parameters\n",
    "gh_deg = int(data['gh_deg'])\n",
    "gh_loc, gh_weights = hermgauss(gh_deg)\n",
    "\n",
    "# optimal e_z\n",
    "e_z_opt = gmm_lib.get_optimal_z_from_vb_params_dict(features, vb_opt_dict, gh_loc, gh_weights)\n",
    "\n",
    "# assert we are at an optimum \n",
    "assert_optimizer(features, vb_opt_dict, vb_params_paragami, prior_params_dict, gh_loc, gh_weights)"
   ]
  },
  {
   "cell_type": "markdown",
   "metadata": {},
   "source": [
    "### Plot results"
   ]
  },
  {
   "cell_type": "code",
   "execution_count": 6,
   "metadata": {
    "collapsed": true
   },
   "outputs": [],
   "source": [
    "def plot_results_from_vb_params_dict(pca_fit, vb_params_dict, e_z, fig): \n",
    "    # we plot in PCA space\n",
    "    bnp_centroids_pc, bnp_cluster_covs_pc = \\\n",
    "        utils_lib.transform_params_to_pc_space(pca_fit, vb_params_dict['centroids'], \n",
    "                                               np.linalg.inv(vb_params_dict['gamma']))\n",
    "    \n",
    "    bnp_clusters = np.argmax(e_z, axis = 1)\n",
    "    \n",
    "    cmap = cm.get_cmap(name='gist_rainbow')\n",
    "    colors1 = [cmap(k * 50) for k in range(30)]\n",
    "\n",
    "    utils_lib.plot_clusters(pc_features[:, 0], pc_features[:, 1], bnp_clusters, \\\n",
    "                  colors1, fig, \\\n",
    "                  centroids = bnp_centroids_pc[:, np.unique(bnp_clusters)], \n",
    "                cov = bnp_cluster_covs_pc[np.unique(bnp_clusters)])\n"
   ]
  },
  {
   "cell_type": "code",
   "execution_count": 7,
   "metadata": {
    "collapsed": false
   },
   "outputs": [
    {
     "data": {
      "text/plain": [
       "<matplotlib.text.Text at 0x7f8e555c2f98>"
      ]
     },
     "execution_count": 7,
     "metadata": {},
     "output_type": "execute_result"
    },
    {
     "data": {
      "image/png": "[encoded data removed]",
      "text/plain": [
       "<matplotlib.figure.Figure at 0x7f8e555b8978>"
      ]
     },
     "metadata": {},
     "output_type": "display_data"
    }
   ],
   "source": [
    "# Newton results\n",
    "fig1 = plt.figure(1)\n",
    "fig = fig1.add_subplot(111)\n",
    "\n",
    "plot_results_from_vb_params_dict(pca_fit, vb_opt_dict, e_z_opt, fig)\n",
    "fig.set_xlabel('PC1', fontsize = 18)\n",
    "fig.set_ylabel('PC2', fontsize = 18)\n"
   ]
  },
  {
   "cell_type": "markdown",
   "metadata": {},
   "source": [
    "# Define a perturbation in the logit v space."
   ]
  },
  {
   "cell_type": "code",
   "execution_count": 8,
   "metadata": {
    "collapsed": false
   },
   "outputs": [
    {
     "name": "stdout",
     "output_type": "stream",
     "text": [
      "0.6931471805599453\n"
     ]
    }
   ],
   "source": [
    "# def log_phi(logit_v):\n",
    "#     return - logit_v - np.log1p(np.exp(-logit_v))\n",
    "\n",
    "# def phi(logit_v):\n",
    "#     return np.exp(log_phi(logit_v))\n",
    "\n",
    "# Define a perturbation in the logit v space.\n",
    "\n",
    "phi_center = 2\n",
    "#phi_log_rescale = stick_sens.get_log_p0_logit_stick(phi_center)\n",
    "phi_log_rescale = -np.log(0.5)\n",
    "print(phi_log_rescale)\n",
    "# def log_phi(logit_v):\n",
    "#     return(-0.5 * (logit_v - phi_center) ** 2 - phi_log_rescale)\n",
    "\n",
    "def log_phi(logit_v):\n",
    "    return(sp.special.expit(logit_v))\n",
    "\n",
    "def phi(logit_v):\n",
    "    return np.exp(log_phi(logit_v))\n"
   ]
  },
  {
   "cell_type": "code",
   "execution_count": 9,
   "metadata": {
    "collapsed": true
   },
   "outputs": [],
   "source": [
    "# def phi(logit_v):\n",
    "#     return 1 - np.exp(-sp.special.expit(logit_v))\n",
    "\n",
    "\n",
    "# def log_phi(logit_v):\n",
    "#      return(np.log(phi(logit_v)))"
   ]
  },
  {
   "cell_type": "markdown",
   "metadata": {},
   "source": [
    "This perturbation class is based on the contamination model\n",
    "\n",
    "$$\n",
    "p_c(\\theta | \\epsilon, \\phi) =  p_0(\\theta) \\left(1 + \\epsilon \\phi(\\theta) \\right)\n",
    "$$\n",
    "\n",
    "This corresponds to Gustafson's linear model.  One big problem is that you must take $\\epsilon \\rightarrow \\infty$.  Another is that, even if you set it up as a normalized mixture, the scale of the perturbation determines the derivative.  I think it is worth experimenting with the model\n",
    "\n",
    "\\begin{align}\n",
    "p_c(\\theta | \\epsilon, \\phi) &= p_0(\\theta)^{1 - \\epsilon} p_1(\\theta)^\\epsilon \\\\\n",
    "& = p_0(\\theta) \\left(\\frac{p_1(\\theta)}{p_0(\\theta)}\\right)^\\epsilon \\\\\n",
    "& =: p_0(\\theta) (C_1 \\phi(\\theta)) ^ \\epsilon\n",
    "\\end{align}\n",
    "\n",
    "because, among other things, it is invariant to the scaling $C_1$.\n"
   ]
  },
  {
   "cell_type": "code",
   "execution_count": 10,
   "metadata": {
    "collapsed": false
   },
   "outputs": [
    {
     "name": "stdout",
     "output_type": "stream",
     "text": [
      "phi max:  2.717370405124736\n",
      "log phi max:  0.9996646498695336\n"
     ]
    }
   ],
   "source": [
    "logit_v_grid = np.linspace(-8, 8, 200)\n",
    "\n",
    "v_grid = np.exp(logit_v_grid) / (1 + np.exp(logit_v_grid))\n",
    "\n",
    "print('phi max: ', np.max(phi(logit_v_grid)))\n",
    "log_phi_max = np.max(np.abs(np.log(phi(logit_v_grid))))\n",
    "print('log phi max: ', log_phi_max)\n",
    "\n",
    "def rescaled_log_phi(logit_v):\n",
    "    return 10 * log_phi(logit_v) / log_phi_max\n"
   ]
  },
  {
   "cell_type": "code",
   "execution_count": 11,
   "metadata": {
    "collapsed": true
   },
   "outputs": [],
   "source": [
    "quad_maxiter = 200"
   ]
  },
  {
   "cell_type": "code",
   "execution_count": 12,
   "metadata": {
    "collapsed": false
   },
   "outputs": [
    {
     "name": "stdout",
     "output_type": "stream",
     "text": [
      "-2.079441541679836 1.936236507197625 -2.0821248162554524 1.9385325300641851\n"
     ]
    }
   ],
   "source": [
    "prior_perturbation = fun_sens_lib.PriorPerturbation(vb_params_dict = vb_opt_dict, \n",
    "                                                    alpha0 = prior_params_dict['alpha'],\n",
    "                                                    gh_loc = gh_loc, \n",
    "                                                    gh_weights = gh_weights, \n",
    "                                                    log_phi = rescaled_log_phi, logit_v_ub=8, logit_v_lb = -8)\n",
    "print(\n",
    "    prior_perturbation.log_norm_p0,\n",
    "    prior_perturbation.log_norm_pc,\n",
    "    prior_perturbation.log_norm_p0_logit,\n",
    "    prior_perturbation.log_norm_pc_logit)"
   ]
  },
  {
   "cell_type": "code",
   "execution_count": 13,
   "metadata": {
    "collapsed": false
   },
   "outputs": [
    {
     "data": {
      "text/plain": [
       "<matplotlib.text.Text at 0x7f8e55381048>"
      ]
     },
     "execution_count": 13,
     "metadata": {},
     "output_type": "execute_result"
    },
    {
     "data": {
      "image/png": "[encoded data removed]",
      "text/plain": [
       "<matplotlib.figure.Figure at 0x7f8e55528b00>"
      ]
     },
     "metadata": {},
     "output_type": "display_data"
    }
   ],
   "source": [
    "prior_perturbation.set_epsilon(1.0)\n",
    "\n",
    "plt.figure(1, figsize=(18, 5))\n",
    "\n",
    "#plt.plot(v_grid, phi(logit_v_grid))\n",
    "plt.subplot(141)\n",
    "plt.plot(logit_v_grid, prior_perturbation.get_log_p0_logit(logit_v_grid))\n",
    "plt.plot(logit_v_grid, prior_perturbation.get_log_pc_logit(logit_v_grid))\n",
    "plt.title('Log priors in logit space')\n",
    "\n",
    "plt.subplot(142)\n",
    "plt.plot(logit_v_grid, prior_perturbation.log_phi(logit_v_grid))\n",
    "plt.title('log phi in logit space')\n",
    "\n",
    "plt.subplot(143)\n",
    "plt.plot(v_grid, np.exp(prior_perturbation.get_log_p0(v_grid)))\n",
    "plt.plot(v_grid, np.exp(prior_perturbation.get_log_pc(v_grid)))\n",
    "plt.title('Priors in stick space')\n",
    "\n",
    "plt.subplot(144)\n",
    "plt.plot(logit_v_grid, np.exp(prior_perturbation.get_log_p0_logit(logit_v_grid)))\n",
    "plt.plot(logit_v_grid, np.exp(prior_perturbation.get_log_pc_logit(logit_v_grid)))\n",
    "plt.title('Priors in logit space')\n"
   ]
  },
  {
   "cell_type": "code",
   "execution_count": 14,
   "metadata": {
    "collapsed": false
   },
   "outputs": [
    {
     "data": {
      "text/plain": [
       "<matplotlib.legend.Legend at 0x7f8e552b0898>"
      ]
     },
     "execution_count": 14,
     "metadata": {},
     "output_type": "execute_result"
    },
    {
     "data": {
      "image/png": "[encoded data removed]",
      "text/plain": [
       "<matplotlib.figure.Figure at 0x7f8e554b1cf8>"
      ]
     },
     "metadata": {},
     "output_type": "display_data"
    }
   ],
   "source": [
    "prior_perturbation.set_epsilon(1.0)\n",
    "plt.plot(v_grid, np.exp(prior_perturbation.get_log_p0(v_grid)), color = 'purple')\n",
    "plt.plot(v_grid, np.exp(prior_perturbation.get_log_pc(v_grid)), color = 'red')\n",
    "# plt.plot(v_grid, sp.stats.beta.pdf(v_grid, 1, 13), 'k--')\n",
    "\n",
    "plt.ylabel('$P(\\\\nu_k)$')\n",
    "plt.xlabel('$\\\\nu_k$')\n",
    "plt.legend(('original prior', 'perturbed prior'))\n",
    "\n",
    "# plt.savefig('../../../writing/NIPS_2018_BNP_workshop/functional_sens_results/perturbed_prior1_init3_5.png')"
   ]
  },
  {
   "cell_type": "markdown",
   "metadata": {},
   "source": [
    "# Increase number of Gauss-hermite points."
   ]
  },
  {
   "cell_type": "code",
   "execution_count": 15,
   "metadata": {
    "collapsed": false,
    "scrolled": true
   },
   "outputs": [
    {
     "name": "stdout",
     "output_type": "stream",
     "text": [
      "computing preconditioner \n",
      "running newton steps\n",
      "Optimization terminated successfully.\n",
      "         Current function value: -337.207548\n",
      "         Iterations: 1\n",
      "         Function evaluations: 2\n",
      "         Gradient evaluations: 2\n",
      "         Hessian evaluations: 0\n",
      "Done. \n"
     ]
    }
   ],
   "source": [
    "# First fit with no perturbation but the increased number of gh points.\n",
    "\n",
    "gh_loc, gh_weights = hermgauss(20)\n",
    "\n",
    "# get loss as a function of vb parameters\n",
    "get_vb_params_loss = paragami.Functor(original_fun=gmm_lib.get_kl, argnums=1)\n",
    "get_vb_params_loss.cache_args(features, None, prior_params_dict,\n",
    "                                gh_loc, gh_weights)\n",
    "\n",
    "# Get loss as a function vb_free_params\n",
    "get_loss = paragami.FlattenedFunction(original_fun=get_vb_params_loss,\n",
    "                                        patterns=vb_params_paragami,\n",
    "                                        free=True)\n",
    "\n",
    "init_vb_free_params = deepcopy(vb_opt)\n",
    "vb_opt, _ = optimization_lib.precondition_and_optimize(get_loss, init_vb_free_params,\n",
    "                    maxiter = 50, gtol=1e-8)\n",
    "\n",
    "print('Done. ')"
   ]
  },
  {
   "cell_type": "code",
   "execution_count": 16,
   "metadata": {
    "collapsed": false,
    "scrolled": true
   },
   "outputs": [],
   "source": [
    "vb_opt_dict = vb_params_paragami.fold(vb_opt, free = True)\n",
    "e_z_opt = gmm_lib.get_optimal_z_from_vb_params_dict(features, vb_opt_dict, gh_loc, gh_weights)"
   ]
  },
  {
   "cell_type": "code",
   "execution_count": 17,
   "metadata": {
    "collapsed": false
   },
   "outputs": [
    {
     "data": {
      "text/plain": [
       "<matplotlib.text.Text at 0x7f8e54e2f7f0>"
      ]
     },
     "execution_count": 17,
     "metadata": {},
     "output_type": "execute_result"
    },
    {
     "data": {
      "image/png": "[encoded data removed]",
      "text/plain": [
       "<matplotlib.figure.Figure at 0x7f8e54dc0240>"
      ]
     },
     "metadata": {},
     "output_type": "display_data"
    }
   ],
   "source": [
    "# plot results\n",
    "fig1 = plt.figure(1)\n",
    "fig = fig1.add_subplot(111)\n",
    "\n",
    "plot_results_from_vb_params_dict(pca_fit, vb_opt_dict, e_z_opt, fig)\n",
    "fig.set_xlabel('PC1', fontsize = 18)\n",
    "fig.set_ylabel('PC2', fontsize = 18)\n"
   ]
  },
  {
   "cell_type": "markdown",
   "metadata": {
    "collapsed": true
   },
   "source": [
    "# Define prior perturbation"
   ]
  },
  {
   "cell_type": "code",
   "execution_count": 18,
   "metadata": {
    "collapsed": true,
    "scrolled": true
   },
   "outputs": [],
   "source": [
    "epsilon_param_dict = {'epsilon': np.array([1.0])}\n",
    "\n",
    "epsilon_param_paragami = paragami.PatternDict() \n",
    "epsilon_param_paragami['epsilon'] = \\\n",
    "        paragami.NumericArrayPattern(shape=(1, ))"
   ]
  },
  {
   "cell_type": "code",
   "execution_count": 19,
   "metadata": {
    "collapsed": false
   },
   "outputs": [],
   "source": [
    "def get_e_log_perturbation(log_phi, vb_params_dict, epsilon_param_dict, \n",
    "                           gh_loc, gh_weights, sum_vector=True):\n",
    "    perturbation_fun = \\\n",
    "        lambda logit_v: log_phi(logit_v) * epsilon_param_dict['epsilon']\n",
    "\n",
    "    e_perturbation_vec = modeling_lib.get_e_func_logit_stick_vec(\n",
    "        vb_params_dict, gh_loc, gh_weights, perturbation_fun)\n",
    "\n",
    "    if sum_vector:\n",
    "        return -1 * np.sum(e_perturbation_vec)\n",
    "    else:\n",
    "        return -1 * e_perturbation_vec\n"
   ]
  },
  {
   "cell_type": "code",
   "execution_count": 20,
   "metadata": {
    "collapsed": true
   },
   "outputs": [],
   "source": [
    "def get_perturbed_kl(y, vb_params_dict, epsilon_param_dict, log_phi, \n",
    "                     prior_params_dict, gh_loc, gh_weights, prior_perturbation): \n",
    "    \n",
    "    e_log_pert = get_e_log_perturbation(log_phi, vb_params_dict, epsilon_param_dict, \n",
    "                           gh_loc, gh_weights, sum_vector=True)\n",
    "\n",
    "    return gmm_lib.get_kl(y, vb_params_dict, prior_params_dict, gh_loc, gh_weights) + e_log_pert"
   ]
  },
  {
   "cell_type": "code",
   "execution_count": 38,
   "metadata": {
    "collapsed": true
   },
   "outputs": [],
   "source": [
    "# we will use this for the sensitivity class\n",
    "get_epsilon_vb_loss = paragami.Functor(\n",
    "    original_fun=get_perturbed_kl, argnums=[1, 2])\n",
    "\n",
    "get_epsilon_vb_loss.cache_args(features, None, None, rescaled_log_phi, \n",
    "                     prior_params_dict, gh_loc, gh_weights, prior_perturbation)"
   ]
  },
  {
   "cell_type": "code",
   "execution_count": 39,
   "metadata": {
    "collapsed": true
   },
   "outputs": [],
   "source": [
    "# the only part of the kl that depends on epsilon\n",
    "hyper_par_objective_fun = \\\n",
    "    paragami.Functor(get_e_log_perturbation, argnums = [1, 2])\n",
    "    \n",
    "hyper_par_objective_fun.cache_args(rescaled_log_phi, None, None, \n",
    "                           gh_loc, gh_weights)"
   ]
  },
  {
   "cell_type": "code",
   "execution_count": 40,
   "metadata": {
    "collapsed": false
   },
   "outputs": [],
   "source": [
    "epsilon_sens = \\\n",
    "    paragami.HyperparameterSensitivityLinearApproximation(\n",
    "        objective_fun=           get_epsilon_vb_loss,\n",
    "        opt_par_pattern=         vb_params_paragami,\n",
    "        hyper_par_pattern=       epsilon_param_paragami,\n",
    "        opt_par_folded_value=    vb_params_paragami.fold(vb_opt, free = True),\n",
    "        hyper_par_folded_value=  epsilon_param_paragami.fold(0.0, free = False),\n",
    "        opt_par_is_free=         True,\n",
    "        hyper_par_is_free=       False,\n",
    "        hyper_par_objective_fun = hyper_par_objective_fun,\n",
    "        grad_tol=                1e-5)\n"
   ]
  },
  {
   "cell_type": "code",
   "execution_count": 42,
   "metadata": {
    "collapsed": false
   },
   "outputs": [
    {
     "data": {
      "text/plain": [
       "-46.44483903530594"
      ]
     },
     "execution_count": 42,
     "metadata": {},
     "output_type": "execute_result"
    }
   ],
   "source": [
    "get_e_log_perturbation(rescaled_log_phi, vb_opt_dict, epsilon_param_dict, \n",
    "                           gh_loc, gh_weights, sum_vector=True)"
   ]
  },
  {
   "cell_type": "markdown",
   "metadata": {},
   "source": [
    "## Fit with perturbation"
   ]
  },
  {
   "cell_type": "code",
   "execution_count": 61,
   "metadata": {
    "collapsed": false
   },
   "outputs": [
    {
     "name": "stdout",
     "output_type": "stream",
     "text": [
      "Epsilon:  1.0\n",
      "Predicted differences:  6.189662015685443\n"
     ]
    }
   ],
   "source": [
    "epsilon = 1.0 # prior_perturbation.epsilon_param.get()\n",
    "print('Epsilon: ', epsilon)\n",
    "\n",
    "vb_pert_pred = \\\n",
    "    epsilon_sens.predict_opt_par_from_hyper_par(epsilon_param_dict, fold_output = False)\n",
    "\n",
    "print('Predicted differences: ', np.linalg.norm(vb_pert_opt_pred - vb_opt))"
   ]
  },
  {
   "cell_type": "code",
   "execution_count": 63,
   "metadata": {
    "collapsed": false
   },
   "outputs": [],
   "source": [
    "vb_pert_pred_dict = vb_params_paragami.fold(vb_pert_pred, free = True)\n",
    "e_z_pert_pred = gmm_lib.get_optimal_z_from_vb_params_dict(features, vb_pert_pred_dict, gh_loc, gh_weights)"
   ]
  },
  {
   "cell_type": "code",
   "execution_count": 50,
   "metadata": {
    "collapsed": true
   },
   "outputs": [],
   "source": [
    "# we will use this for optimization\n",
    "get_perturbed_vb_loss = paragami.Functor(\n",
    "    original_fun=get_perturbed_kl, argnums=[1])\n",
    "\n",
    "get_perturbed_vb_loss.cache_args(features, None, epsilon_param_dict, rescaled_log_phi, \n",
    "                     prior_params_dict, gh_loc, gh_weights, prior_perturbation)\n",
    "\n",
    "get_perturbed_vb_loss_flattened = \\\n",
    "    paragami.FlattenedFunction(original_fun=get_perturbed_vb_loss,\n",
    "                                patterns=vb_params_paragami,\n",
    "                                free=True)\n"
   ]
  },
  {
   "cell_type": "code",
   "execution_count": 51,
   "metadata": {
    "collapsed": false,
    "scrolled": true
   },
   "outputs": [
    {
     "name": "stdout",
     "output_type": "stream",
     "text": [
      "running bfgs ... \n",
      "Warning: Desired error not necessarily achieved due to precision loss.\n",
      "         Current function value: -404.768417\n",
      "         Iterations: 113\n",
      "         Function evaluations: 136\n",
      "         Gradient evaluations: 135\n",
      "\n",
      " running preconditioned newton; iter =  0\n",
      "computing preconditioner \n",
      "running newton steps\n",
      "Warning: A bad approximation caused failure to predict improvement.\n",
      "         Current function value: -404.768417\n",
      "         Iterations: 15\n",
      "         Function evaluations: 17\n",
      "         Gradient evaluations: 3\n",
      "         Hessian evaluations: 0\n",
      "Iter 0: x_diff = 5.508261644908327e-06, f_diff = 7.958078640513122e-13, grad_l1 = 3.4438840124815486e-06\n",
      "done. \n"
     ]
    }
   ],
   "source": [
    "vb_pert_opt = optimization_lib.optimize_full(get_perturbed_vb_loss_flattened, deepcopy(vb_opt),\n",
    "                    bfgs_max_iter = 500, netwon_max_iter = 50,\n",
    "                    max_precondition_iter = 10,\n",
    "                    gtol=1e-8, ftol=1e-8, xtol=1e-8)"
   ]
  },
  {
   "cell_type": "code",
   "execution_count": 57,
   "metadata": {
    "collapsed": true
   },
   "outputs": [],
   "source": [
    "vb_pert_opt_dict = vb_params_paragami.fold(vb_pert_opt, free = True)\n",
    "e_z_pert_opt = gmm_lib.get_optimal_z_from_vb_params_dict(features, vb_pert_opt_dict, gh_loc, gh_weights)"
   ]
  },
  {
   "cell_type": "code",
   "execution_count": 64,
   "metadata": {
    "collapsed": false
   },
   "outputs": [
    {
     "name": "stdout",
     "output_type": "stream",
     "text": [
      "Epsilon: 1.0\n"
     ]
    },
    {
     "data": {
      "text/plain": [
       "[<matplotlib.lines.Line2D at 0x7f8e512055f8>]"
      ]
     },
     "execution_count": 64,
     "metadata": {},
     "output_type": "execute_result"
    },
    {
     "data": {
      "image/png": "[encoded data removed]",
      "text/plain": [
       "<matplotlib.figure.Figure at 0x7f8e54b281d0>"
      ]
     },
     "metadata": {},
     "output_type": "display_data"
    }
   ],
   "source": [
    "print('Epsilon:', epsilon)\n",
    "\n",
    "plt.figure()\n",
    "plt.subplot(1, 2, 1)\n",
    "plt.plot(vb_pert_opt - vb_opt, vb_pert_pred - vb_opt, 'k.')\n",
    "plt.plot(vb_pert_opt - vb_opt, vb_pert_opt - vb_opt, 'r')\n",
    "\n",
    "# plt.subplot(1, 2, 2)\n",
    "# plt.plot(output_phi - output_0, output_phi_pred - output_0, 'k.')\n",
    "# plt.plot(output_phi - output_0, output_phi - output_0, 'r')"
   ]
  },
  {
   "cell_type": "code",
   "execution_count": 67,
   "metadata": {
    "collapsed": false
   },
   "outputs": [
    {
     "name": "stdout",
     "output_type": "stream",
     "text": [
      "original expected number of clusters:  11.004051506192306\n",
      "perturbed expected number of clusters:  8.428314352301086\n",
      "predicted expected number of clusters:  8.216724412345858\n"
     ]
    }
   ],
   "source": [
    "print('original expected number of clusters: ',\n",
    "    cluster_lib.get_e_number_clusters_from_logit_sticks(vb_opt_dict['stick_propn_mean'], \n",
    "                                                        vb_opt_dict['stick_propn_info'], \n",
    "                                                        n_obs = 150, \n",
    "                                                        n_samples = 10000))\n",
    "\n",
    "print('perturbed expected number of clusters: ',\n",
    "    cluster_lib.get_e_number_clusters_from_logit_sticks(vb_pert_opt_dict['stick_propn_mean'], \n",
    "                                                        vb_pert_opt_dict['stick_propn_info'], \n",
    "                                                        n_obs = 150, \n",
    "                                                        n_samples = 10000))\n",
    "\n",
    "print('predicted expected number of clusters: ',\n",
    "    cluster_lib.get_e_number_clusters_from_logit_sticks(vb_pert_pred_dict['stick_propn_mean'], \n",
    "                                                        vb_pert_pred_dict['stick_propn_info'], \n",
    "                                                        n_obs = 150, \n",
    "                                                        n_samples = 10000))\n",
    "\n",
    "\n",
    "      "
   ]
  },
  {
   "cell_type": "markdown",
   "metadata": {
    "collapsed": true
   },
   "source": [
    "# Predict for a range of perturbations"
   ]
  },
  {
   "cell_type": "code",
   "execution_count": 68,
   "metadata": {
    "collapsed": false
   },
   "outputs": [
    {
     "name": "stdout",
     "output_type": "stream",
     "text": [
      "[0.   0.01 0.04 0.09 0.16 0.25 0.36 0.49 0.64 0.81 1.  ]\n"
     ]
    }
   ],
   "source": [
    "#epsilon_vec = np.append(np.linspace(0, 0.1, 6), np.linspace(0.2, 1.0, 6))\n",
    "epsilon_vec = np.linspace(0, 1, 11) ** 2 # Square to get more points close to 0\n",
    "# epsilon_vec = -np.linspace(0, 10, 11)\n",
    "print(epsilon_vec)"
   ]
  },
  {
   "cell_type": "code",
   "execution_count": 82,
   "metadata": {
    "collapsed": true
   },
   "outputs": [],
   "source": [
    "def refit_with_epsilon(epsilon_param_dict, vb_opt):\n",
    "        \n",
    "    # set up new objective, with the prior changed\n",
    "    get_perturbed_vb_loss = paragami.Functor(\n",
    "        original_fun=get_perturbed_kl, argnums=[1])\n",
    "    \n",
    "    get_perturbed_vb_loss.cache_args(features, None, epsilon_param_dict, rescaled_log_phi, \n",
    "                         prior_params_dict, gh_loc, gh_weights, prior_perturbation)\n",
    "\n",
    "    get_perturbed_vb_loss_flattened = \\\n",
    "        paragami.FlattenedFunction(original_fun=get_perturbed_vb_loss,\n",
    "                                    patterns=vb_params_paragami,\n",
    "                                    free=True)\n",
    "    \n",
    "    # optimize\n",
    "    vb_opt_pert = optimization_lib.optimize_full(get_perturbed_vb_loss_flattened, deepcopy(vb_opt),\n",
    "                    bfgs_max_iter = 0, netwon_max_iter = 50,\n",
    "                    max_precondition_iter = 10,\n",
    "                    gtol=1e-8, ftol=1e-8, xtol=1e-8)\n",
    "    \n",
    "    return vb_opt_pert"
   ]
  },
  {
   "cell_type": "code",
   "execution_count": 84,
   "metadata": {
    "collapsed": false,
    "scrolled": true
   },
   "outputs": [
    {
     "name": "stdout",
     "output_type": "stream",
     "text": [
      "\n",
      "\n",
      "Epsilon:  0.0\n",
      "Predicted differences:  1.9263381482332143e-15\n",
      "running bfgs ... \n",
      "Warning: Maximum number of iterations has been exceeded.\n",
      "         Current function value: -337.207548\n",
      "         Iterations: 0\n",
      "         Function evaluations: 1\n",
      "         Gradient evaluations: 1\n",
      "\n",
      " running preconditioned newton; iter =  0\n",
      "computing preconditioner \n",
      "running newton steps\n",
      "Optimization terminated successfully.\n",
      "         Current function value: -337.207548\n",
      "         Iterations: 0\n",
      "         Function evaluations: 1\n",
      "         Gradient evaluations: 1\n",
      "         Hessian evaluations: 0\n",
      "Iter 0: x_diff = 2.155554936476324e-12, f_diff = 1.5916157281026244e-12, grad_l1 = 1.5524431317524113e-08\n",
      "done. \n",
      "Done. \n",
      "Predicted differences:  1.9263381482332143e-15\n",
      "Actual differences: (This is nonzero if phi did anything): 1.8987962169481685e-13\n",
      "\n",
      "\n",
      "Epsilon:  0.010000000000000002\n",
      "Predicted differences:  0.061896620156854244\n",
      "running bfgs ... \n",
      "Warning: Maximum number of iterations has been exceeded.\n",
      "         Current function value: -337.671997\n",
      "         Iterations: 0\n",
      "         Function evaluations: 1\n",
      "         Gradient evaluations: 1\n",
      "\n",
      " running preconditioned newton; iter =  0\n",
      "computing preconditioner \n",
      "running newton steps\n",
      "Warning: A bad approximation caused failure to predict improvement.\n",
      "         Current function value: -337.673388\n",
      "         Iterations: 2\n",
      "         Function evaluations: 4\n",
      "         Gradient evaluations: 3\n",
      "         Hessian evaluations: 0\n",
      "Iter 0: x_diff = 0.5104709516778246, f_diff = 0.0013915356369693654, grad_l1 = 8.447492209039566e-07\n",
      "\n",
      " running preconditioned newton; iter =  1\n",
      "computing preconditioner \n",
      "running newton steps\n",
      "Warning: A bad approximation caused failure to predict improvement.\n",
      "         Current function value: -337.673388\n",
      "         Iterations: 0\n",
      "         Function evaluations: 2\n",
      "         Gradient evaluations: 1\n",
      "         Hessian evaluations: 0\n",
      "Iter 1: x_diff = 2.2867631453791365e-12, f_diff = 4.547473508864641e-13, grad_l1 = 8.447596050541028e-07\n",
      "done. \n",
      "Done. \n",
      "Predicted differences:  0.061896620156854244\n",
      "Actual differences: (This is nonzero if phi did anything): 0.06210207879809397\n",
      "\n",
      "\n",
      "Epsilon:  0.04000000000000001\n",
      "Predicted differences:  0.24758648062741762\n",
      "running bfgs ... \n",
      "Warning: Maximum number of iterations has been exceeded.\n",
      "         Current function value: -339.065342\n",
      "         Iterations: 0\n",
      "         Function evaluations: 1\n",
      "         Gradient evaluations: 1\n",
      "\n",
      " running preconditioned newton; iter =  0\n",
      "computing preconditioner \n",
      "running newton steps\n",
      "Warning: A bad approximation caused failure to predict improvement.\n",
      "         Current function value: -339.087857\n",
      "         Iterations: 3\n",
      "         Function evaluations: 5\n",
      "         Gradient evaluations: 4\n",
      "         Hessian evaluations: 0\n",
      "Iter 0: x_diff = 2.055710508476233, f_diff = 0.022514882607879372, grad_l1 = 1.4925365195165247e-07\n",
      "\n",
      " running preconditioned newton; iter =  1\n",
      "computing preconditioner \n",
      "running newton steps\n",
      "Warning: A bad approximation caused failure to predict improvement.\n",
      "         Current function value: -339.087857\n",
      "         Iterations: 0\n",
      "         Function evaluations: 2\n",
      "         Gradient evaluations: 1\n",
      "         Hessian evaluations: 0\n",
      "Iter 1: x_diff = 2.4083997193476495e-12, f_diff = 7.389644451905042e-13, grad_l1 = 1.4926491884153594e-07\n",
      "done. \n",
      "Done. \n",
      "Predicted differences:  0.24758648062741762\n",
      "Actual differences: (This is nonzero if phi did anything): 0.25096121132853083\n",
      "\n",
      "\n",
      "Epsilon:  0.09000000000000002\n",
      "Predicted differences:  0.55706958141169\n",
      "running bfgs ... \n",
      "Warning: Maximum number of iterations has been exceeded.\n",
      "         Current function value: -341.387584\n",
      "         Iterations: 0\n",
      "         Function evaluations: 1\n",
      "         Gradient evaluations: 1\n",
      "\n",
      " running preconditioned newton; iter =  0\n",
      "computing preconditioner \n",
      "running newton steps\n",
      "Warning: A bad approximation caused failure to predict improvement.\n",
      "         Current function value: -341.503751\n",
      "         Iterations: 18\n",
      "         Function evaluations: 20\n",
      "         Gradient evaluations: 6\n",
      "         Hessian evaluations: 0\n",
      "Iter 0: x_diff = 4.681810683954594, f_diff = 0.11616720720996909, grad_l1 = 7.776697130992322e-06\n",
      "\n",
      " running preconditioned newton; iter =  1\n",
      "computing preconditioner \n",
      "running newton steps\n",
      "Optimization terminated successfully.\n",
      "         Current function value: -341.503751\n",
      "         Iterations: 1\n",
      "         Function evaluations: 2\n",
      "         Gradient evaluations: 2\n",
      "         Hessian evaluations: 0\n",
      "Iter 1: x_diff = 1.3949110480390896e-05, f_diff = 1.3642420526593924e-12, grad_l1 = 2.946444816200525e-11\n",
      "done. \n",
      "Done. \n",
      "Predicted differences:  0.55706958141169\n",
      "Actual differences: (This is nonzero if phi did anything): 0.5750736669177735\n",
      "\n",
      "\n",
      "Epsilon:  0.16000000000000003\n",
      "Predicted differences:  0.9903459225096708\n",
      "running bfgs ... \n",
      "Warning: Maximum number of iterations has been exceeded.\n",
      "         Current function value: -344.638723\n",
      "         Iterations: 0\n",
      "         Function evaluations: 1\n",
      "         Gradient evaluations: 1\n",
      "\n",
      " running preconditioned newton; iter =  0\n",
      "computing preconditioner \n",
      "running newton steps\n",
      "Warning: A bad approximation caused failure to predict improvement.\n",
      "         Current function value: -345.016053\n",
      "         Iterations: 5\n",
      "         Function evaluations: 7\n",
      "         Gradient evaluations: 6\n",
      "         Hessian evaluations: 0\n",
      "Iter 0: x_diff = 8.489956829319684, f_diff = 0.37733084391732064, grad_l1 = 1.1302529982450898e-06\n",
      "\n",
      " running preconditioned newton; iter =  1\n",
      "computing preconditioner \n",
      "running newton steps\n",
      "Warning: A bad approximation caused failure to predict improvement.\n",
      "         Current function value: -345.016053\n",
      "         Iterations: 0\n",
      "         Function evaluations: 2\n",
      "         Gradient evaluations: 1\n",
      "         Hessian evaluations: 0\n",
      "Iter 1: x_diff = 2.0016039742548966e-12, f_diff = 3.979039320256561e-13, grad_l1 = 1.1302483108790401e-06\n",
      "done. \n",
      "Done. \n",
      "Predicted differences:  0.9903459225096708\n",
      "Actual differences: (This is nonzero if phi did anything): 1.0529841313431016\n",
      "\n",
      "\n",
      "Epsilon:  0.25\n",
      "Predicted differences:  1.5474155039213606\n",
      "running bfgs ... \n",
      "Warning: Maximum number of iterations has been exceeded.\n",
      "         Current function value: -348.818758\n",
      "         Iterations: 0\n",
      "         Function evaluations: 1\n",
      "         Gradient evaluations: 1\n",
      "\n",
      " running preconditioned newton; iter =  0\n",
      "computing preconditioner \n",
      "running newton steps\n",
      "Warning: A bad approximation caused failure to predict improvement.\n",
      "         Current function value: -349.773888\n",
      "         Iterations: 19\n",
      "         Function evaluations: 21\n",
      "         Gradient evaluations: 6\n",
      "         Hessian evaluations: 0\n",
      "Iter 0: x_diff = 13.616893936611024, f_diff = 0.9551301224043982, grad_l1 = 3.976900410946386e-05\n",
      "\n",
      " running preconditioned newton; iter =  1\n",
      "computing preconditioner \n",
      "running newton steps\n",
      "Optimization terminated successfully.\n",
      "         Current function value: -349.773888\n",
      "         Iterations: 1\n",
      "         Function evaluations: 2\n",
      "         Gradient evaluations: 2\n",
      "         Hessian evaluations: 0\n",
      "Iter 1: x_diff = 3.195842948875323e-05, f_diff = 9.663381206337363e-13, grad_l1 = 2.7025240876114722e-11\n",
      "done. \n",
      "Done. \n",
      "Predicted differences:  1.5474155039213606\n",
      "Actual differences: (This is nonzero if phi did anything): 1.7159566174565406\n",
      "\n",
      "\n",
      "Epsilon:  0.3600000000000001\n",
      "Predicted differences:  2.22827832564676\n",
      "running bfgs ... \n",
      "Warning: Maximum number of iterations has been exceeded.\n",
      "         Current function value: -353.927690\n",
      "         Iterations: 0\n",
      "         Function evaluations: 1\n",
      "         Gradient evaluations: 1\n",
      "\n",
      " running preconditioned newton; iter =  0\n",
      "computing preconditioner \n",
      "running newton steps\n",
      "Optimization terminated successfully.\n",
      "         Current function value: -355.997641\n",
      "         Iterations: 7\n",
      "         Function evaluations: 8\n",
      "         Gradient evaluations: 8\n",
      "         Hessian evaluations: 0\n",
      "Iter 0: x_diff = 19.985702739052286, f_diff = 2.0699507337381533, grad_l1 = 1.4660843461310873e-07\n",
      "done. \n",
      "Done. \n",
      "Predicted differences:  2.22827832564676\n",
      "Actual differences: (This is nonzero if phi did anything): 2.5560636253142257\n",
      "\n",
      "\n",
      "Epsilon:  0.4900000000000001\n",
      "Predicted differences:  3.032934387685868\n",
      "running bfgs ... \n",
      "Warning: Maximum number of iterations has been exceeded.\n",
      "         Current function value: -359.965519\n",
      "         Iterations: 0\n",
      "         Function evaluations: 1\n",
      "         Gradient evaluations: 1\n",
      "\n",
      " running preconditioned newton; iter =  0\n",
      "computing preconditioner \n",
      "running newton steps\n",
      "Optimization terminated successfully.\n",
      "         Current function value: -364.007912\n",
      "         Iterations: 8\n",
      "         Function evaluations: 9\n",
      "         Gradient evaluations: 9\n",
      "         Hessian evaluations: 0\n",
      "Iter 0: x_diff = 27.69454468847876, f_diff = 4.042392448910846, grad_l1 = 7.085665640417448e-08\n",
      "done. \n",
      "Done. \n",
      "Predicted differences:  3.032934387685868\n",
      "Actual differences: (This is nonzero if phi did anything): 3.565174750932579\n",
      "\n",
      "\n",
      "Epsilon:  0.6400000000000001\n",
      "Predicted differences:  3.9613836900386836\n",
      "running bfgs ... \n",
      "Warning: Maximum number of iterations has been exceeded.\n",
      "         Current function value: -366.932245\n",
      "         Iterations: 0\n",
      "         Function evaluations: 1\n",
      "         Gradient evaluations: 1\n",
      "\n",
      " running preconditioned newton; iter =  0\n",
      "computing preconditioner \n",
      "running newton steps\n",
      "Optimization terminated successfully.\n",
      "         Current function value: -374.283255\n",
      "         Iterations: 10\n",
      "         Function evaluations: 11\n",
      "         Gradient evaluations: 11\n",
      "         Hessian evaluations: 0\n",
      "Iter 0: x_diff = 37.555231934780025, f_diff = 7.3510093579990325, grad_l1 = 6.141428470985715e-09\n",
      "done. \n",
      "Done. \n",
      "Predicted differences:  3.9613836900386836\n",
      "Actual differences: (This is nonzero if phi did anything): 4.814511263144792\n",
      "\n",
      "\n",
      "Epsilon:  0.81\n",
      "Predicted differences:  5.013626232705209\n",
      "running bfgs ... \n",
      "Warning: Maximum number of iterations has been exceeded.\n",
      "         Current function value: -374.827868\n",
      "         Iterations: 0\n",
      "         Function evaluations: 1\n",
      "         Gradient evaluations: 1\n",
      "\n",
      " running preconditioned newton; iter =  0\n",
      "computing preconditioner \n",
      "running newton steps\n",
      "Optimization terminated successfully.\n",
      "         Current function value: -387.535423\n",
      "         Iterations: 11\n",
      "         Function evaluations: 12\n",
      "         Gradient evaluations: 12\n",
      "         Hessian evaluations: 0\n",
      "Iter 0: x_diff = 50.041126394682465, f_diff = 12.707554751337398, grad_l1 = 7.963257815487397e-08\n",
      "done. \n",
      "Done. \n",
      "Predicted differences:  5.013626232705209\n",
      "Actual differences: (This is nonzero if phi did anything): 6.3696645096152755\n",
      "\n",
      "\n",
      "Epsilon:  1.0\n",
      "Predicted differences:  6.189662015685443\n",
      "running bfgs ... \n",
      "Warning: Maximum number of iterations has been exceeded.\n",
      "         Current function value: -383.652387\n",
      "         Iterations: 0\n",
      "         Function evaluations: 1\n",
      "         Gradient evaluations: 1\n",
      "\n",
      " running preconditioned newton; iter =  0\n",
      "computing preconditioner \n",
      "running newton steps\n"
     ]
    },
    {
     "name": "stderr",
     "output_type": "stream",
     "text": [
      "/home/runjing_liu/Documents/BNP/autograd/autograd/tracer.py:48: RuntimeWarning: overflow encountered in exp\n",
      "  return f_raw(*args, **kwargs)\n"
     ]
    },
    {
     "name": "stdout",
     "output_type": "stream",
     "text": [
      "Warning: A bad approximation caused failure to predict improvement.\n",
      "         Current function value: -404.768417\n",
      "         Iterations: 49\n",
      "         Function evaluations: 51\n",
      "         Gradient evaluations: 43\n",
      "         Hessian evaluations: 0\n",
      "Iter 0: x_diff = 65.39519640601937, f_diff = 21.11602985809344, grad_l1 = 1.7703479486841516e-06\n",
      "\n",
      " running preconditioned newton; iter =  1\n",
      "computing preconditioner \n",
      "running newton steps\n",
      "Warning: A bad approximation caused failure to predict improvement.\n",
      "         Current function value: -404.768417\n",
      "         Iterations: 0\n",
      "         Function evaluations: 2\n",
      "         Gradient evaluations: 1\n",
      "         Hessian evaluations: 0\n",
      "Iter 1: x_diff = 1.95484423775922e-12, f_diff = 0.0, grad_l1 = 1.7703491154861541e-06\n",
      "done. \n",
      "Done. \n",
      "Predicted differences:  6.189662015685443\n",
      "Actual differences: (This is nonzero if phi did anything): 8.237861903236487\n"
     ]
    }
   ],
   "source": [
    "vb_pert_opt_array = []\n",
    "vb_pert_pred_array = []\n",
    "\n",
    "\n",
    "for i in range(len(epsilon_vec)): \n",
    "    epsilon = epsilon_vec[i]\n",
    "    print('\\n\\nEpsilon: ', epsilon)\n",
    "    \n",
    "    epsilon_param_dict = {'epsilon': np.array([epsilon])}\n",
    "    \n",
    "    # get linear predictions\n",
    "    vb_pert_pred = \\\n",
    "        epsilon_sens.predict_opt_par_from_hyper_par(epsilon_param_dict, fold_output = False)\n",
    "\n",
    "    print('Predicted differences: ', np.linalg.norm(vb_pert_pred - vb_opt))\n",
    "    \n",
    "    # Then fit with the perturbation.\n",
    "    vb_pert_opt = refit_with_epsilon(epsilon_param_dict, vb_opt)\n",
    "    \n",
    "    print('Done. ')\n",
    "\n",
    "    print('Predicted differences: ', np.linalg.norm(vb_pert_pred - vb_opt))\n",
    "    print('Actual differences: (This is nonzero if phi did anything):',\n",
    "          np.linalg.norm(vb_pert_opt - vb_opt))\n",
    "    \n",
    "    # save results: \n",
    "    vb_pert_opt_array.append(vb_pert_opt)\n",
    "    vb_pert_pred_array.append(vb_pert_pred)\n",
    "    \n"
   ]
  },
  {
   "cell_type": "code",
   "execution_count": 85,
   "metadata": {
    "collapsed": true
   },
   "outputs": [],
   "source": [
    "# np.save('best_param_phi_array', best_param_phi_array)"
   ]
  },
  {
   "cell_type": "code",
   "execution_count": 38,
   "metadata": {
    "collapsed": true
   },
   "outputs": [],
   "source": [
    "# output_0 = moment_model.set_and_get_moments_from_free_par(best_param_0)\n",
    "# output_0 = \\\n",
    "#     gmm_utils.get_e_num_pred_clusters_from_free_par(best_param_0, model)\n"
   ]
  },
  {
   "cell_type": "code",
   "execution_count": 39,
   "metadata": {
    "collapsed": true,
    "scrolled": false
   },
   "outputs": [],
   "source": [
    "# for i in range(len(epsilon_vec)): \n",
    "#     plt.figure(figsize=(8, 4))\n",
    "#     plt.subplot(1, 2, 1)\n",
    "#     plt.plot(best_param_phi_array[i] - best_param_0, \n",
    "#              best_param_phi_pred_array[i] - best_param_0, 'k.')\n",
    "#     plt.plot(best_param_phi_array[i] - best_param_0, \n",
    "#              best_param_phi_array[i] - best_param_0, 'r')\n",
    "#     plt.xlabel('true diff global free params')\n",
    "#     plt.ylabel('pred diff global free params')\n",
    "#     plt.title('epsilon = {}'.format(epsilon_vec[i]))\n",
    "\n",
    "#     plt.subplot(1, 2, 2)\n",
    "#     plt.plot(output_phi_array[i] - output_0, \n",
    "#              output_phi_pred_array[i] - output_0, 'k.')\n",
    "#     plt.plot(output_phi_array[i] - output_0, \n",
    "#              output_phi_array[i] - output_0, 'r')\n",
    "#     plt.xlabel('true diff moment params')\n",
    "#     plt.ylabel('pred diff moment params')\n",
    "#     plt.title('epsilon = {}'.format(epsilon_vec[i]))\n",
    "    \n",
    "#     plt.tight_layout()\n",
    "\n",
    "    "
   ]
  },
  {
   "cell_type": "markdown",
   "metadata": {},
   "source": [
    "# Lets also look at the expected number of clusters"
   ]
  },
  {
   "cell_type": "code",
   "execution_count": 89,
   "metadata": {
    "collapsed": true
   },
   "outputs": [],
   "source": [
    "from tqdm import tqdm"
   ]
  },
  {
   "cell_type": "code",
   "execution_count": 90,
   "metadata": {
    "collapsed": false
   },
   "outputs": [
    {
     "name": "stderr",
     "output_type": "stream",
     "text": [
      "100%|██████████| 11/11 [01:30<00:00,  8.22s/it]\n"
     ]
    }
   ],
   "source": [
    "threshold = 0\n",
    "\n",
    "lr_e_num_clusters_vec = np.zeros(len(epsilon_vec))\n",
    "refit_e_num_clusters_vec = np.zeros(len(epsilon_vec))\n",
    "\n",
    "for i in tqdm(range(len(epsilon_vec))): \n",
    "    # number of clusters as predicted by linear response\n",
    "    lr_e_num_clusters, _ = gmm_lib.get_e_num_clusters_from_free_par(features, vb_params_paragami, \n",
    "                                    vb_pert_pred_array[i],\n",
    "                                    gh_loc, gh_weights,\n",
    "                                    threshold = threshold,\n",
    "                                    n_samples = 100000)\n",
    "    \n",
    "    lr_e_num_clusters_vec[i] = lr_e_num_clusters\n",
    "    \n",
    "    # number of clusters after refitting \n",
    "    refit_e_num_clusters, _ = gmm_lib.get_e_num_clusters_from_free_par(features, vb_params_paragami, \n",
    "                                    vb_pert_opt_array[i],\n",
    "                                    gh_loc, gh_weights,\n",
    "                                    threshold = threshold,\n",
    "                                    n_samples = 100000)\n",
    "    \n",
    "    refit_e_num_clusters_vec[i] = refit_e_num_clusters\n",
    "    \n"
   ]
  },
  {
   "cell_type": "code",
   "execution_count": 92,
   "metadata": {
    "collapsed": false
   },
   "outputs": [
    {
     "data": {
      "text/plain": [
       "<matplotlib.legend.Legend at 0x7f8e54daa978>"
      ]
     },
     "execution_count": 92,
     "metadata": {},
     "output_type": "execute_result"
    },
    {
     "data": {
      "image/png": "[encoded data removed]",
      "text/plain": [
       "<matplotlib.figure.Figure at 0x7f8e511fe128>"
      ]
     },
     "metadata": {},
     "output_type": "display_data"
    }
   ],
   "source": [
    "plt.plot(epsilon_vec, lr_e_num_clusters_vec, '+--')\n",
    "plt.plot(epsilon_vec, refit_e_num_clusters_vec, '+-')\n",
    "\n",
    "plt.xlabel('alpha')\n",
    "plt.ylabel('num posterior clusters')\n",
    "plt.legend(('lr', 'refit'))\n",
    "\n",
    "# plt.axvline(prior_params_dict['alpha'], color = 'red', linestyle = 'dashed')\n"
   ]
  },
  {
   "cell_type": "code",
   "execution_count": 95,
   "metadata": {
    "collapsed": false
   },
   "outputs": [],
   "source": [
    "threshold = 0\n",
    "\n",
    "lr_e_num_pred_clusters_vec = np.zeros(len(epsilon_vec))\n",
    "refit_e_num_pred_clusters_vec = np.zeros(len(epsilon_vec))\n",
    "\n",
    "for i in tqdm(range(len(epsilon_vec))): \n",
    "     # number of clusters as predicted by linear response\n",
    "    lr_e_num_pred_clusters = gmm_lib.get_e_num_pred_clusters_from_vb_free_params(vb_params_paragami, \n",
    "                                    vb_pert_pred_array[i],\n",
    "                                    n_obs = np.shape(features)[0], \n",
    "                                    threshold = threshold,\n",
    "                                    n_samples = 100000)\n",
    "    \n",
    "    lr_e_num_pred_clusters_vec[i] = lr_e_num_pred_clusters\n",
    "    \n",
    "    # number of clusters after refitting \n",
    "    refit_e_num_pred_clusters = gmm_lib.get_e_num_pred_clusters_from_vb_free_params(vb_params_paragami, \n",
    "                                    vb_pert_opt_array[i],\n",
    "                                    n_obs = np.shape(features)[0], \n",
    "                                    threshold = threshold,\n",
    "                                    n_samples = 100000)\n",
    "    \n",
    "    refit_e_num_pred_clusters_vec[i] = refit_e_num_pred_clusters\n",
    "    \n"
   ]
  },
  {
   "cell_type": "code",
   "execution_count": 98,
   "metadata": {
    "collapsed": false
   },
   "outputs": [
    {
     "data": {
      "text/plain": [
       "<matplotlib.legend.Legend at 0x7f8e54d0a3c8>"
      ]
     },
     "execution_count": 98,
     "metadata": {},
     "output_type": "execute_result"
    },
    {
     "data": {
      "image/png": "[encoded data removed]",
      "text/plain": [
       "<matplotlib.figure.Figure at 0x7f8e51149208>"
      ]
     },
     "metadata": {},
     "output_type": "display_data"
    }
   ],
   "source": [
    "plt.plot(epsilon_vec, lr_e_num_pred_clusters_vec, '+--')\n",
    "plt.plot(epsilon_vec, refit_e_num_pred_clusters_vec, '+-')\n",
    "\n",
    "plt.xlabel('alpha')\n",
    "plt.ylabel('num posterior clusters')\n",
    "plt.legend(('lr', 'refit'))"
   ]
  },
  {
   "cell_type": "code",
   "execution_count": null,
   "metadata": {
    "collapsed": true
   },
   "outputs": [],
   "source": []
  },
  {
   "cell_type": "code",
   "execution_count": null,
   "metadata": {
    "collapsed": true
   },
   "outputs": [],
   "source": []
  },
  {
   "cell_type": "code",
   "execution_count": null,
   "metadata": {
    "collapsed": true
   },
   "outputs": [],
   "source": []
  }
 ],
 "metadata": {
  "kernelspec": {
   "display_name": "Python 3",
   "language": "python",
   "name": "python3"
  },
  "language_info": {
   "codemirror_mode": {
    "name": "ipython",
    "version": 3
   },
   "file_extension": ".py",
   "mimetype": "text/x-python",
   "name": "python",
   "nbconvert_exporter": "python",
   "pygments_lexer": "ipython3",
   "version": "3.6.0"
  }
 },
 "nbformat": 4,
 "nbformat_minor": 2
}
