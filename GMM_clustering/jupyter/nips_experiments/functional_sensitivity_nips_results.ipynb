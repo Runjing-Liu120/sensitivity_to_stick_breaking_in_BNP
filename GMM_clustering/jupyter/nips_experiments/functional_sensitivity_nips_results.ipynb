{
 "cells": [
  {
   "cell_type": "code",
   "execution_count": 1,
   "metadata": {
    "collapsed": false
   },
   "outputs": [
    {
     "name": "stderr",
     "output_type": "stream",
     "text": [
      "/home/runjing_liu/Documents/BNP/autograd/autograd/core.py:290: UserWarning: \n",
      "The defvjp method is deprecated. See the update guide and tutorial:\n",
      "https://github.com/HIPS/autograd/blob/master/docs/updateguide.md\n",
      "https://github.com/HIPS/autograd/blob/master/docs/tutorial.md\n",
      "  warnings.warn(deprecation_msg)\n"
     ]
    }
   ],
   "source": [
    "import autograd\n",
    "from autograd import numpy as np\n",
    "from autograd import scipy as sp\n",
    "\n",
    "from numpy.polynomial.hermite import hermgauss\n",
    "\n",
    "np.random.seed(453453)\n",
    "\n",
    "import paragami\n",
    "\n",
    "# BNP sensitivity libraries\n",
    "import sys\n",
    "sys.path.insert(0, '../../libraries/')\n",
    "import gmm_clustering_lib as gmm_lib\n",
    "import modeling_lib \n",
    "import utils_lib\n",
    "import cluster_quantities_lib as cluster_lib\n",
    "import optimization_lib\n",
    "import functional_sensitivity_lib as fun_sens_lib \n",
    "\n",
    "\n",
    "import matplotlib.pyplot as plt\n",
    "%matplotlib inline\n",
    "import matplotlib.cm as cm\n",
    "\n",
    "from sklearn.decomposition import PCA\n",
    "\n",
    "from copy import deepcopy\n",
    "\n",
    "import json \n",
    "\n",
    "from tqdm import tqdm"
   ]
  },
  {
   "cell_type": "markdown",
   "metadata": {},
   "source": [
    "# Load data"
   ]
  },
  {
   "cell_type": "code",
   "execution_count": 2,
   "metadata": {
    "collapsed": true
   },
   "outputs": [],
   "source": [
    "# load iris data\n",
    "dataset_name = 'iris'\n",
    "features, iris_species = utils_lib.load_data()\n",
    "dim = features.shape[1]\n",
    "n_obs = len(iris_species)    "
   ]
  },
  {
   "cell_type": "code",
   "execution_count": 3,
   "metadata": {
    "collapsed": false
   },
   "outputs": [
    {
     "data": {
      "text/plain": [
       "<matplotlib.text.Text at 0x7fd851680a20>"
      ]
     },
     "execution_count": 3,
     "metadata": {},
     "output_type": "execute_result"
    },
    {
     "data": {
      "image/png": "[encoded data removed]",
      "text/plain": [
       "<matplotlib.figure.Figure at 0x7fd8518b7780>"
      ]
     },
     "metadata": {},
     "output_type": "display_data"
    }
   ],
   "source": [
    "# run PCA\n",
    "pca_fit = PCA()\n",
    "pca_fit.fit(features)\n",
    "pc_features = pca_fit.transform(features)\n",
    "\n",
    "# plot\n",
    "cmap = cm.get_cmap(name='gist_rainbow')\n",
    "colors1 = [cmap(k * 50) for k in range(30)]\n",
    "\n",
    "fig1 = plt.figure(1)\n",
    "fig = fig1.add_subplot(111)\n",
    "utils_lib.plot_clusters(pc_features[:, 0], pc_features[:, 1], iris_species, colors1, fig)\n",
    "fig.set_xlabel('PC1')\n",
    "fig.set_ylabel('PC2')\n"
   ]
  },
  {
   "cell_type": "markdown",
   "metadata": {},
   "source": [
    "# Load results from previous fit."
   ]
  },
  {
   "cell_type": "code",
   "execution_count": 4,
   "metadata": {
    "collapsed": true
   },
   "outputs": [],
   "source": [
    "def assert_optimizer(features, vb_opt_dict, vb_params_paragami, prior_params_dict, gh_loc, gh_weights): \n",
    "    # this function checks that vb_opt_dict are at a kl optimum for the given \n",
    "    # prior parameters\n",
    "    \n",
    "    get_vb_params_loss = paragami.Functor(original_fun=gmm_lib.get_kl, argnums=1)\n",
    "    get_vb_params_loss.cache_args(features, None, prior_params_dict,\n",
    "                                    gh_loc, gh_weights)\n",
    "    get_loss = paragami.FlattenedFunction(original_fun=get_vb_params_loss,\n",
    "                                            patterns=vb_params_paragami,\n",
    "                                            free=True)\n",
    "    grad_get_loss = autograd.grad(get_loss)\n",
    "    linf_grad = np.max(np.abs(grad_get_loss(vb_params_paragami.flatten(vb_opt_dict, free = True))))\n",
    "    \n",
    "    assert  linf_grad < 1e-5, 'error: {}'.format(linf_grad)\n"
   ]
  },
  {
   "cell_type": "code",
   "execution_count": 5,
   "metadata": {
    "collapsed": false
   },
   "outputs": [],
   "source": [
    "init_alpha = 8.0\n",
    "\n",
    "# load optimal vb parameters at init_alpha\n",
    "vb_opt_dict, vb_params_paragami, data =\\\n",
    "    paragami.load_folded('./iris_fits/iris_fits_alpha{}.npz'.format(init_alpha))\n",
    "\n",
    "# free optimal vb_parameters\n",
    "vb_opt = vb_params_paragami.flatten(vb_opt_dict, free = True)\n",
    "\n",
    "# load prior parameters\n",
    "prior_params_dict, prior_params_paragami = \\\n",
    "    gmm_lib.get_default_prior_params(dim = vb_opt_dict['centroids'].shape[0])\n",
    "prior_params_dict['alpha'] = data['alpha']\n",
    "\n",
    "\n",
    "# other parameters\n",
    "gh_deg = int(data['gh_deg'])\n",
    "gh_loc, gh_weights = hermgauss(gh_deg)\n",
    "\n",
    "# optimal e_z\n",
    "e_z_opt = gmm_lib.get_optimal_z_from_vb_params_dict(features, vb_opt_dict, gh_loc, gh_weights)\n",
    "\n",
    "# assert we are at an optimum \n",
    "assert_optimizer(features, vb_opt_dict, vb_params_paragami, prior_params_dict, gh_loc, gh_weights)"
   ]
  },
  {
   "cell_type": "markdown",
   "metadata": {},
   "source": [
    "### Plot results"
   ]
  },
  {
   "cell_type": "code",
   "execution_count": 6,
   "metadata": {
    "collapsed": true
   },
   "outputs": [],
   "source": [
    "def plot_results_from_vb_params_dict(pca_fit, vb_params_dict, e_z, fig): \n",
    "    # we plot in PCA space\n",
    "    bnp_centroids_pc, bnp_cluster_covs_pc = \\\n",
    "        utils_lib.transform_params_to_pc_space(pca_fit, vb_params_dict['centroids'], \n",
    "                                               np.linalg.inv(vb_params_dict['gamma']))\n",
    "    \n",
    "    bnp_clusters = np.argmax(e_z, axis = 1)\n",
    "    \n",
    "    cmap = cm.get_cmap(name='gist_rainbow')\n",
    "    colors1 = [cmap(k * 50) for k in range(30)]\n",
    "\n",
    "    utils_lib.plot_clusters(pc_features[:, 0], pc_features[:, 1], bnp_clusters, \\\n",
    "                  colors1, fig, \\\n",
    "                  centroids = bnp_centroids_pc[:, np.unique(bnp_clusters)], \n",
    "                cov = bnp_cluster_covs_pc[np.unique(bnp_clusters)])\n"
   ]
  },
  {
   "cell_type": "code",
   "execution_count": 7,
   "metadata": {
    "collapsed": false
   },
   "outputs": [
    {
     "data": {
      "text/plain": [
       "<matplotlib.text.Text at 0x7fd84e57a320>"
      ]
     },
     "execution_count": 7,
     "metadata": {},
     "output_type": "execute_result"
    },
    {
     "data": {
      "image/png": "[encoded data removed]",
      "text/plain": [
       "<matplotlib.figure.Figure at 0x7fd84e572cc0>"
      ]
     },
     "metadata": {},
     "output_type": "display_data"
    }
   ],
   "source": [
    "# Newton results\n",
    "fig1 = plt.figure(1)\n",
    "fig = fig1.add_subplot(111)\n",
    "\n",
    "plot_results_from_vb_params_dict(pca_fit, vb_opt_dict, e_z_opt, fig)\n",
    "fig.set_xlabel('PC1', fontsize = 18)\n",
    "fig.set_ylabel('PC2', fontsize = 18)\n"
   ]
  },
  {
   "cell_type": "markdown",
   "metadata": {},
   "source": [
    "# Define a perturbation in the logit v space."
   ]
  },
  {
   "cell_type": "code",
   "execution_count": 8,
   "metadata": {
    "collapsed": false
   },
   "outputs": [
    {
     "name": "stdout",
     "output_type": "stream",
     "text": [
      "0.6931471805599453\n"
     ]
    }
   ],
   "source": [
    "# def log_phi(logit_v):\n",
    "#     return - logit_v - np.log1p(np.exp(-logit_v))\n",
    "\n",
    "# def phi(logit_v):\n",
    "#     return np.exp(log_phi(logit_v))\n",
    "\n",
    "# Define a perturbation in the logit v space.\n",
    "\n",
    "phi_center = 2\n",
    "#phi_log_rescale = stick_sens.get_log_p0_logit_stick(phi_center)\n",
    "phi_log_rescale = -np.log(0.5)\n",
    "print(phi_log_rescale)\n",
    "# def log_phi(logit_v):\n",
    "#     return(-0.5 * (logit_v - phi_center) ** 2 - phi_log_rescale)\n",
    "\n",
    "def log_phi(logit_v):\n",
    "    return(sp.special.expit(logit_v))\n",
    "\n",
    "def phi(logit_v):\n",
    "    return np.exp(log_phi(logit_v))\n"
   ]
  },
  {
   "cell_type": "code",
   "execution_count": 9,
   "metadata": {
    "collapsed": true
   },
   "outputs": [],
   "source": [
    "# def phi(logit_v):\n",
    "#     return 1 - np.exp(-sp.special.expit(logit_v))\n",
    "\n",
    "\n",
    "# def log_phi(logit_v):\n",
    "#      return(np.log(phi(logit_v)))"
   ]
  },
  {
   "cell_type": "markdown",
   "metadata": {},
   "source": [
    "This perturbation class is based on the contamination model\n",
    "\n",
    "$$\n",
    "p_c(\\theta | \\epsilon, \\phi) =  p_0(\\theta) \\left(1 + \\epsilon \\phi(\\theta) \\right)\n",
    "$$\n",
    "\n",
    "This corresponds to Gustafson's linear model.  One big problem is that you must take $\\epsilon \\rightarrow \\infty$.  Another is that, even if you set it up as a normalized mixture, the scale of the perturbation determines the derivative.  I think it is worth experimenting with the model\n",
    "\n",
    "\\begin{align}\n",
    "p_c(\\theta | \\epsilon, \\phi) &= p_0(\\theta)^{1 - \\epsilon} p_1(\\theta)^\\epsilon \\\\\n",
    "& = p_0(\\theta) \\left(\\frac{p_1(\\theta)}{p_0(\\theta)}\\right)^\\epsilon \\\\\n",
    "& =: p_0(\\theta) (C_1 \\phi(\\theta)) ^ \\epsilon\n",
    "\\end{align}\n",
    "\n",
    "because, among other things, it is invariant to the scaling $C_1$.\n"
   ]
  },
  {
   "cell_type": "code",
   "execution_count": 10,
   "metadata": {
    "collapsed": false
   },
   "outputs": [
    {
     "name": "stdout",
     "output_type": "stream",
     "text": [
      "phi max:  2.717370405124736\n",
      "log phi max:  0.9996646498695336\n"
     ]
    }
   ],
   "source": [
    "logit_v_grid = np.linspace(-8, 8, 200)\n",
    "\n",
    "v_grid = np.exp(logit_v_grid) / (1 + np.exp(logit_v_grid))\n",
    "\n",
    "print('phi max: ', np.max(phi(logit_v_grid)))\n",
    "log_phi_max = np.max(np.abs(np.log(phi(logit_v_grid))))\n",
    "print('log phi max: ', log_phi_max)\n",
    "\n",
    "def rescaled_log_phi(logit_v):\n",
    "    return 10 * log_phi(logit_v) / log_phi_max\n"
   ]
  },
  {
   "cell_type": "code",
   "execution_count": 11,
   "metadata": {
    "collapsed": true
   },
   "outputs": [],
   "source": [
    "quad_maxiter = 200"
   ]
  },
  {
   "cell_type": "code",
   "execution_count": 12,
   "metadata": {
    "collapsed": false
   },
   "outputs": [
    {
     "name": "stdout",
     "output_type": "stream",
     "text": [
      "-2.079441541679836 1.936236507197625 -2.0821248162554524 1.9385325300641851\n"
     ]
    }
   ],
   "source": [
    "prior_perturbation = fun_sens_lib.PriorPerturbation(vb_params_dict = vb_opt_dict, \n",
    "                                                    alpha0 = prior_params_dict['alpha'],\n",
    "                                                    gh_loc = gh_loc, \n",
    "                                                    gh_weights = gh_weights, \n",
    "                                                    log_phi = rescaled_log_phi, logit_v_ub=8, logit_v_lb = -8)\n",
    "print(\n",
    "    prior_perturbation.log_norm_p0,\n",
    "    prior_perturbation.log_norm_pc,\n",
    "    prior_perturbation.log_norm_p0_logit,\n",
    "    prior_perturbation.log_norm_pc_logit)"
   ]
  },
  {
   "cell_type": "code",
   "execution_count": 13,
   "metadata": {
    "collapsed": false
   },
   "outputs": [
    {
     "data": {
      "text/plain": [
       "<matplotlib.text.Text at 0x7fd84e33c080>"
      ]
     },
     "execution_count": 13,
     "metadata": {},
     "output_type": "execute_result"
    },
    {
     "data": {
      "image/png": "[encoded data removed]",
      "text/plain": [
       "<matplotlib.figure.Figure at 0x7fd84e47a438>"
      ]
     },
     "metadata": {},
     "output_type": "display_data"
    }
   ],
   "source": [
    "prior_perturbation.set_epsilon(1.0)\n",
    "\n",
    "plt.figure(1, figsize=(18, 5))\n",
    "\n",
    "#plt.plot(v_grid, phi(logit_v_grid))\n",
    "plt.subplot(141)\n",
    "plt.plot(logit_v_grid, prior_perturbation.get_log_p0_logit(logit_v_grid))\n",
    "plt.plot(logit_v_grid, prior_perturbation.get_log_pc_logit(logit_v_grid))\n",
    "plt.title('Log priors in logit space')\n",
    "\n",
    "plt.subplot(142)\n",
    "plt.plot(logit_v_grid, prior_perturbation.log_phi(logit_v_grid))\n",
    "plt.title('log phi in logit space')\n",
    "\n",
    "plt.subplot(143)\n",
    "plt.plot(v_grid, np.exp(prior_perturbation.get_log_p0(v_grid)))\n",
    "plt.plot(v_grid, np.exp(prior_perturbation.get_log_pc(v_grid)))\n",
    "plt.title('Priors in stick space')\n",
    "\n",
    "plt.subplot(144)\n",
    "plt.plot(logit_v_grid, np.exp(prior_perturbation.get_log_p0_logit(logit_v_grid)))\n",
    "plt.plot(logit_v_grid, np.exp(prior_perturbation.get_log_pc_logit(logit_v_grid)))\n",
    "plt.title('Priors in logit space')\n"
   ]
  },
  {
   "cell_type": "code",
   "execution_count": 14,
   "metadata": {
    "collapsed": false
   },
   "outputs": [
    {
     "data": {
      "text/plain": [
       "<matplotlib.legend.Legend at 0x7fd84e26a978>"
      ]
     },
     "execution_count": 14,
     "metadata": {},
     "output_type": "execute_result"
    },
    {
     "data": {
      "image/png": "[encoded data removed]",
      "text/plain": [
       "<matplotlib.figure.Figure at 0x7fd84e46cc18>"
      ]
     },
     "metadata": {},
     "output_type": "display_data"
    }
   ],
   "source": [
    "prior_perturbation.set_epsilon(1.0)\n",
    "plt.plot(v_grid, np.exp(prior_perturbation.get_log_p0(v_grid)), color = 'purple')\n",
    "plt.plot(v_grid, np.exp(prior_perturbation.get_log_pc(v_grid)), color = 'red')\n",
    "# plt.plot(v_grid, sp.stats.beta.pdf(v_grid, 1, 13), 'k--')\n",
    "\n",
    "plt.ylabel('$P(\\\\nu_k)$')\n",
    "plt.xlabel('$\\\\nu_k$')\n",
    "plt.legend(('original prior', 'perturbed prior'))\n",
    "\n",
    "# plt.savefig('../../../writing/NIPS_2018_BNP_workshop/functional_sens_results/perturbed_prior1_init3_5.png')"
   ]
  },
  {
   "cell_type": "markdown",
   "metadata": {},
   "source": [
    "# Choose the number of GH points."
   ]
  },
  {
   "cell_type": "raw",
   "metadata": {
    "collapsed": false
   },
   "source": [
    "# Sanity check the perturbation\n",
    "\n",
    "# gmm_utils.set_gauss_hermite_points(\n",
    "#     prior_perturbation.model.vb_params, gh_deg=10)\n",
    "#\n",
    "# prior_perturbation.set_epsilon(1.0)\n",
    "# print(prior_perturbation.get_e_log_perturbation(sum_vector=False))\n",
    "#\n",
    "# prior_perturbation.set_epsilon(0.5)\n",
    "# print(prior_perturbation.get_e_log_perturbation(sum_vector=False))\n",
    "\n",
    "prior_perturbation.set_epsilon(1.0)\n",
    "\n",
    "gmm_utils.set_gauss_hermite_points(\n",
    "    prior_perturbation.model.vb_params, gh_deg=1)\n",
    "print(prior_perturbation.get_e_log_perturbation(sum_vector=False))\n",
    "\n",
    "gmm_utils.set_gauss_hermite_points(\n",
    "    prior_perturbation.model.vb_params, gh_deg=2)\n",
    "print(prior_perturbation.get_e_log_perturbation(sum_vector=False))\n",
    "\n",
    "gmm_utils.set_gauss_hermite_points(\n",
    "    prior_perturbation.model.vb_params, gh_deg=10)\n",
    "print(prior_perturbation.get_e_log_perturbation(sum_vector=False))"
   ]
  },
  {
   "cell_type": "raw",
   "metadata": {
    "collapsed": false
   },
   "source": [
    "# import LinearResponseVariationalBayes.ExponentialFamilies as ef\n",
    "model.global_vb_params.set_free(best_param)\n",
    "vb_params = deepcopy(model.vb_params)\n",
    "\n",
    "prior_perturbation.set_epsilon(1.0)\n",
    "\n",
    "expected_perturbations_list = []\n",
    "gh_deg_list = np.arange(3, 100, 1)\n",
    "for gh_deg in gh_deg_list:\n",
    "    gmm_utils.set_gauss_hermite_points(\n",
    "        prior_perturbation.model.vb_params, gh_deg=gh_deg)\n",
    "    expected_perturbations_list.append(\n",
    "        prior_perturbation.get_e_log_perturbation(sum_vector=False))\n",
    "\n",
    "print(expected_perturbations_list[0])\n",
    "print(expected_perturbations_list[1])\n",
    "expected_perturbations_list = np.array(expected_perturbations_list)\n",
    "#print(expected_perturbations_list.shape)\n",
    "diffs = (expected_perturbations_list[1:, :] - \\\n",
    "         expected_perturbations_list[:-1, :]) / \\\n",
    "        np.abs(expected_perturbations_list[1:, :] + 1e-6)\n",
    "#print(np.max(diffs, axis=1))\n",
    "max_diffs = np.max(np.abs(diffs), axis=1)\n",
    "print(max_diffs)\n",
    "gh_deg_threshold = np.argmax(max_diffs < 1e-5)\n",
    "gh_deg = max(20, gh_deg_list[gh_deg_threshold])\n",
    "print('Chosen gh_dg = {}, learned threshold = {}, checked_points = {}'\n",
    "      .format(gh_deg, gh_deg_list[gh_deg_threshold], len(max_diffs)))"
   ]
  },
  {
   "cell_type": "code",
   "execution_count": 15,
   "metadata": {
    "collapsed": false,
    "scrolled": true
   },
   "outputs": [
    {
     "name": "stdout",
     "output_type": "stream",
     "text": [
      "computing preconditioner \n",
      "running newton steps\n",
      "Optimization terminated successfully.\n",
      "         Current function value: -337.207548\n",
      "         Iterations: 1\n",
      "         Function evaluations: 2\n",
      "         Gradient evaluations: 2\n",
      "         Hessian evaluations: 0\n",
      "Done. \n"
     ]
    }
   ],
   "source": [
    "# First fit with no perturbation but the increased number of gh points.\n",
    "\n",
    "gh_loc, gh_weights = hermgauss(20)\n",
    "\n",
    "# get loss as a function of vb parameters\n",
    "get_vb_params_loss = paragami.Functor(original_fun=gmm_lib.get_kl, argnums=1)\n",
    "get_vb_params_loss.cache_args(features, None, prior_params_dict,\n",
    "                                gh_loc, gh_weights)\n",
    "\n",
    "# Get loss as a function vb_free_params\n",
    "get_loss = paragami.FlattenedFunction(original_fun=get_vb_params_loss,\n",
    "                                        patterns=vb_params_paragami,\n",
    "                                        free=True)\n",
    "\n",
    "init_vb_free_params = deepcopy(vb_opt)\n",
    "vb_opt, _ = optimization_lib.precondition_and_optimize(get_loss, init_vb_free_params,\n",
    "                    maxiter = 50, gtol=1e-8)\n",
    "\n",
    "print('Done. ')"
   ]
  },
  {
   "cell_type": "code",
   "execution_count": 17,
   "metadata": {
    "collapsed": false,
    "scrolled": true
   },
   "outputs": [],
   "source": [
    "vb_opt_dict = vb_params_paragami.fold(vb_opt, free = True)\n",
    "e_z_opt = gmm_lib.get_optimal_z_from_vb_params_dict(features, vb_opt_dict, gh_loc, gh_weights)"
   ]
  },
  {
   "cell_type": "code",
   "execution_count": 18,
   "metadata": {
    "collapsed": false
   },
   "outputs": [
    {
     "data": {
      "text/plain": [
       "<matplotlib.text.Text at 0x7fd84e3354a8>"
      ]
     },
     "execution_count": 18,
     "metadata": {},
     "output_type": "execute_result"
    },
    {
     "data": {
      "image/png": "[encoded data removed]",
      "text/plain": [
       "<matplotlib.figure.Figure at 0x7fd84dde4b38>"
      ]
     },
     "metadata": {},
     "output_type": "display_data"
    }
   ],
   "source": [
    "# plot results\n",
    "fig1 = plt.figure(1)\n",
    "fig = fig1.add_subplot(111)\n",
    "\n",
    "plot_results_from_vb_params_dict(pca_fit, vb_opt_dict, e_z_opt, fig)\n",
    "fig.set_xlabel('PC1', fontsize = 18)\n",
    "fig.set_ylabel('PC2', fontsize = 18)\n"
   ]
  },
  {
   "cell_type": "markdown",
   "metadata": {
    "collapsed": true
   },
   "source": [
    "# Define prior perturbation"
   ]
  },
  {
   "cell_type": "code",
   "execution_count": 32,
   "metadata": {
    "collapsed": true,
    "scrolled": true
   },
   "outputs": [],
   "source": [
    "epsilon_param_dict = {'epsilon': np.array([1.0])}\n",
    "\n",
    "epsilon_param_paragami = paragami.PatternDict() \n",
    "epsilon_param_paragami['epsilon'] = \\\n",
    "        paragami.NumericArrayPattern(shape=(1, ))"
   ]
  },
  {
   "cell_type": "code",
   "execution_count": 33,
   "metadata": {
    "collapsed": false
   },
   "outputs": [],
   "source": [
    "def get_e_log_perturbation(log_phi, vb_params_dict, epsilon_param_dict, \n",
    "                           gh_loc, gh_weights, sum_vector=True):\n",
    "    perturbation_fun = \\\n",
    "        lambda logit_v: log_phi(logit_v) * epsilon_param_dict['epsilon']\n",
    "\n",
    "    e_perturbation_vec = modeling_lib.get_e_func_logit_stick_vec(\n",
    "        vb_params_dict, gh_loc, gh_weights, perturbation_fun)\n",
    "\n",
    "    if sum_vector:\n",
    "        return -1 * np.sum(e_perturbation_vec)\n",
    "    else:\n",
    "        return -1 * e_perturbation_vec\n"
   ]
  },
  {
   "cell_type": "code",
   "execution_count": 34,
   "metadata": {
    "collapsed": true
   },
   "outputs": [],
   "source": [
    "def get_perturbed_kl(y, vb_params_dict, epsilon_param_dict, log_phi, \n",
    "                     prior_params_dict, gh_loc, gh_weights, prior_perturbation): \n",
    "    \n",
    "    e_log_pert = get_e_log_perturbation(log_phi, vb_params_dict, epsilon_param_dict, \n",
    "                           gh_loc, gh_weights, sum_vector=True)\n",
    "\n",
    "    return gmm_lib.get_kl(y, vb_params_dict, prior_params_dict, gh_loc, gh_weights) + e_log_pert"
   ]
  },
  {
   "cell_type": "code",
   "execution_count": 35,
   "metadata": {
    "collapsed": true
   },
   "outputs": [],
   "source": [
    "# we will use this for the sensitivity class\n",
    "get_epsilon_vb_loss = paragami.Functor(\n",
    "    original_fun=get_perturbed_kl, argnums=[1, 2])\n",
    "\n",
    "get_epsilon_vb_loss.cache_args(features, None, None, log_phi, \n",
    "                     prior_params_dict, gh_loc, gh_weights, prior_perturbation)"
   ]
  },
  {
   "cell_type": "code",
   "execution_count": 36,
   "metadata": {
    "collapsed": false
   },
   "outputs": [],
   "source": [
    "# we will use this for optimization\n",
    "get_perturbed_vb_loss = paragami.Functor(\n",
    "    original_fun=get_perturbed_kl, argnums=[1])\n",
    "\n",
    "get_perturbed_vb_loss.cache_args(features, None, epsilon_param_dict, log_phi, \n",
    "                     prior_params_dict, gh_loc, gh_weights, prior_perturbation)"
   ]
  },
  {
   "cell_type": "code",
   "execution_count": 37,
   "metadata": {
    "collapsed": true
   },
   "outputs": [],
   "source": [
    "# the only part of the kl that depends on epsilon\n",
    "hyper_par_objective_fun = \\\n",
    "    paragami.Functor(get_e_log_perturbation, argnums = [1, 2])\n",
    "    \n",
    "hyper_par_objective_fun.cache_args(log_phi, None, None, \n",
    "                           gh_loc, gh_weights)"
   ]
  },
  {
   "cell_type": "code",
   "execution_count": 38,
   "metadata": {
    "collapsed": false
   },
   "outputs": [],
   "source": [
    "epsilon_sens = \\\n",
    "    paragami.HyperparameterSensitivityLinearApproximation(\n",
    "        objective_fun=           get_epsilon_vb_loss,\n",
    "        opt_par_pattern=         vb_params_paragami,\n",
    "        hyper_par_pattern=       epsilon_param_paragami,\n",
    "        opt_par_folded_value=    vb_params_paragami.fold(vb_opt, free = True),\n",
    "        hyper_par_folded_value=  epsilon_param_paragami.fold(0.0, free = False),\n",
    "        opt_par_is_free=         True,\n",
    "        hyper_par_is_free=       False,\n",
    "        hyper_par_objective_fun = hyper_par_objective_fun,\n",
    "        grad_tol=                1e-5)\n"
   ]
  },
  {
   "cell_type": "markdown",
   "metadata": {},
   "source": [
    "## Fit with perturbation"
   ]
  },
  {
   "cell_type": "code",
   "execution_count": 39,
   "metadata": {
    "collapsed": false
   },
   "outputs": [
    {
     "name": "stdout",
     "output_type": "stream",
     "text": [
      "Epsilon:  1.0\n",
      "Predicted differences:  0.618758631172094\n"
     ]
    }
   ],
   "source": [
    "epsilon = 1.0 # prior_perturbation.epsilon_param.get()\n",
    "print('Epsilon: ', epsilon)\n",
    "\n",
    "best_param_phi_pred = \\\n",
    "    epsilon_sens.predict_opt_par_from_hyper_par(epsilon_param_dict, fold_output = False)\n",
    "\n",
    "print('Predicted differences: ', np.linalg.norm(best_param_phi_pred - vb_opt))"
   ]
  },
  {
   "cell_type": "code",
   "execution_count": 43,
   "metadata": {
    "collapsed": false,
    "scrolled": false
   },
   "outputs": [
    {
     "name": "stdout",
     "output_type": "stream",
     "text": [
      "running bfgs ... \n"
     ]
    },
    {
     "ename": "IndexError",
     "evalue": "only integers, slices (`:`), ellipsis (`...`), numpy.newaxis (`None`) and integer or boolean arrays are valid indices",
     "output_type": "error",
     "traceback": [
      "\u001b[0;31m---------------------------------------------------------------------------\u001b[0m",
      "\u001b[0;31mIndexError\u001b[0m                                Traceback (most recent call last)",
      "\u001b[0;32m<ipython-input-43-6845000e31fb>\u001b[0m in \u001b[0;36m<module>\u001b[0;34m()\u001b[0m\n\u001b[1;32m      2\u001b[0m                     \u001b[0mbfgs_max_iter\u001b[0m \u001b[0;34m=\u001b[0m \u001b[0;36m500\u001b[0m\u001b[0;34m,\u001b[0m \u001b[0mnetwon_max_iter\u001b[0m \u001b[0;34m=\u001b[0m \u001b[0;36m50\u001b[0m\u001b[0;34m,\u001b[0m\u001b[0;34m\u001b[0m\u001b[0m\n\u001b[1;32m      3\u001b[0m                     \u001b[0mmax_precondition_iter\u001b[0m \u001b[0;34m=\u001b[0m \u001b[0;36m10\u001b[0m\u001b[0;34m,\u001b[0m\u001b[0;34m\u001b[0m\u001b[0m\n\u001b[0;32m----> 4\u001b[0;31m                     gtol=1e-8, ftol=1e-8, xtol=1e-8)\n\u001b[0m",
      "\u001b[0;32m/home/runjing_liu/Documents/BNP/sensitivity_to_stick_breaking_in_BNP/GMM_clustering/libraries/optimization_lib.py\u001b[0m in \u001b[0;36moptimize_full\u001b[0;34m(get_loss, init_vb_free_params, bfgs_max_iter, netwon_max_iter, max_precondition_iter, gtol, ftol, xtol)\u001b[0m\n\u001b[1;32m    250\u001b[0m     bfgs_vb_free_params, bfgs_ouput = run_bfgs(get_loss,\n\u001b[1;32m    251\u001b[0m                                 \u001b[0minit_vb_free_params\u001b[0m\u001b[0;34m,\u001b[0m\u001b[0;34m\u001b[0m\u001b[0m\n\u001b[0;32m--> 252\u001b[0;31m                                 maxiter = bfgs_max_iter, gtol = gtol)\n\u001b[0m\u001b[1;32m    253\u001b[0m     \u001b[0mx\u001b[0m \u001b[0;34m=\u001b[0m \u001b[0mbfgs_vb_free_params\u001b[0m\u001b[0;34m\u001b[0m\u001b[0m\n\u001b[1;32m    254\u001b[0m     \u001b[0mf_val\u001b[0m \u001b[0;34m=\u001b[0m \u001b[0mget_loss\u001b[0m\u001b[0;34m(\u001b[0m\u001b[0mx\u001b[0m\u001b[0;34m)\u001b[0m\u001b[0;34m\u001b[0m\u001b[0m\n",
      "\u001b[0;32m/home/runjing_liu/Documents/BNP/sensitivity_to_stick_breaking_in_BNP/GMM_clustering/libraries/optimization_lib.py\u001b[0m in \u001b[0;36mrun_bfgs\u001b[0;34m(get_loss, init_vb_free_params, get_loss_grad, maxiter, gtol)\u001b[0m\n\u001b[1;32m    141\u001b[0m             \u001b[0mjac\u001b[0m\u001b[0;34m=\u001b[0m\u001b[0mget_loss_grad\u001b[0m\u001b[0;34m,\u001b[0m\u001b[0;34m\u001b[0m\u001b[0m\n\u001b[1;32m    142\u001b[0m             \u001b[0mmethod\u001b[0m\u001b[0;34m=\u001b[0m\u001b[0;34m'BFGS'\u001b[0m\u001b[0;34m,\u001b[0m\u001b[0;34m\u001b[0m\u001b[0m\n\u001b[0;32m--> 143\u001b[0;31m             options={'maxiter': maxiter, 'disp': True, 'gtol': gtol})\n\u001b[0m\u001b[1;32m    144\u001b[0m \u001b[0;34m\u001b[0m\u001b[0m\n\u001b[1;32m    145\u001b[0m     \u001b[0mbfgs_vb_free_params\u001b[0m \u001b[0;34m=\u001b[0m \u001b[0mbfgs_output\u001b[0m\u001b[0;34m.\u001b[0m\u001b[0mx\u001b[0m\u001b[0;34m\u001b[0m\u001b[0m\n",
      "\u001b[0;32m/home/runjing_liu/anaconda3/lib/python3.6/site-packages/scipy/optimize/_minimize.py\u001b[0m in \u001b[0;36mminimize\u001b[0;34m(fun, x0, args, method, jac, hess, hessp, bounds, constraints, tol, callback, options)\u001b[0m\n\u001b[1;32m    595\u001b[0m         \u001b[0;32mreturn\u001b[0m \u001b[0m_minimize_cg\u001b[0m\u001b[0;34m(\u001b[0m\u001b[0mfun\u001b[0m\u001b[0;34m,\u001b[0m \u001b[0mx0\u001b[0m\u001b[0;34m,\u001b[0m \u001b[0margs\u001b[0m\u001b[0;34m,\u001b[0m \u001b[0mjac\u001b[0m\u001b[0;34m,\u001b[0m \u001b[0mcallback\u001b[0m\u001b[0;34m,\u001b[0m \u001b[0;34m**\u001b[0m\u001b[0moptions\u001b[0m\u001b[0;34m)\u001b[0m\u001b[0;34m\u001b[0m\u001b[0m\n\u001b[1;32m    596\u001b[0m     \u001b[0;32melif\u001b[0m \u001b[0mmeth\u001b[0m \u001b[0;34m==\u001b[0m \u001b[0;34m'bfgs'\u001b[0m\u001b[0;34m:\u001b[0m\u001b[0;34m\u001b[0m\u001b[0m\n\u001b[0;32m--> 597\u001b[0;31m         \u001b[0;32mreturn\u001b[0m \u001b[0m_minimize_bfgs\u001b[0m\u001b[0;34m(\u001b[0m\u001b[0mfun\u001b[0m\u001b[0;34m,\u001b[0m \u001b[0mx0\u001b[0m\u001b[0;34m,\u001b[0m \u001b[0margs\u001b[0m\u001b[0;34m,\u001b[0m \u001b[0mjac\u001b[0m\u001b[0;34m,\u001b[0m \u001b[0mcallback\u001b[0m\u001b[0;34m,\u001b[0m \u001b[0;34m**\u001b[0m\u001b[0moptions\u001b[0m\u001b[0;34m)\u001b[0m\u001b[0;34m\u001b[0m\u001b[0m\n\u001b[0m\u001b[1;32m    598\u001b[0m     \u001b[0;32melif\u001b[0m \u001b[0mmeth\u001b[0m \u001b[0;34m==\u001b[0m \u001b[0;34m'newton-cg'\u001b[0m\u001b[0;34m:\u001b[0m\u001b[0;34m\u001b[0m\u001b[0m\n\u001b[1;32m    599\u001b[0m         return _minimize_newtoncg(fun, x0, args, jac, hess, hessp, callback,\n",
      "\u001b[0;32m/home/runjing_liu/anaconda3/lib/python3.6/site-packages/scipy/optimize/optimize.py\u001b[0m in \u001b[0;36m_minimize_bfgs\u001b[0;34m(fun, x0, args, jac, callback, gtol, norm, eps, maxiter, disp, return_all, **unknown_options)\u001b[0m\n\u001b[1;32m    961\u001b[0m     \u001b[0;32melse\u001b[0m\u001b[0;34m:\u001b[0m\u001b[0;34m\u001b[0m\u001b[0m\n\u001b[1;32m    962\u001b[0m         \u001b[0mgrad_calls\u001b[0m\u001b[0;34m,\u001b[0m \u001b[0mmyfprime\u001b[0m \u001b[0;34m=\u001b[0m \u001b[0mwrap_function\u001b[0m\u001b[0;34m(\u001b[0m\u001b[0mfprime\u001b[0m\u001b[0;34m,\u001b[0m \u001b[0margs\u001b[0m\u001b[0;34m)\u001b[0m\u001b[0;34m\u001b[0m\u001b[0m\n\u001b[0;32m--> 963\u001b[0;31m     \u001b[0mgfk\u001b[0m \u001b[0;34m=\u001b[0m \u001b[0mmyfprime\u001b[0m\u001b[0;34m(\u001b[0m\u001b[0mx0\u001b[0m\u001b[0;34m)\u001b[0m\u001b[0;34m\u001b[0m\u001b[0m\n\u001b[0m\u001b[1;32m    964\u001b[0m     \u001b[0mk\u001b[0m \u001b[0;34m=\u001b[0m \u001b[0;36m0\u001b[0m\u001b[0;34m\u001b[0m\u001b[0m\n\u001b[1;32m    965\u001b[0m     \u001b[0mN\u001b[0m \u001b[0;34m=\u001b[0m \u001b[0mlen\u001b[0m\u001b[0;34m(\u001b[0m\u001b[0mx0\u001b[0m\u001b[0;34m)\u001b[0m\u001b[0;34m\u001b[0m\u001b[0m\n",
      "\u001b[0;32m/home/runjing_liu/anaconda3/lib/python3.6/site-packages/scipy/optimize/optimize.py\u001b[0m in \u001b[0;36mfunction_wrapper\u001b[0;34m(*wrapper_args)\u001b[0m\n\u001b[1;32m    291\u001b[0m     \u001b[0;32mdef\u001b[0m \u001b[0mfunction_wrapper\u001b[0m\u001b[0;34m(\u001b[0m\u001b[0;34m*\u001b[0m\u001b[0mwrapper_args\u001b[0m\u001b[0;34m)\u001b[0m\u001b[0;34m:\u001b[0m\u001b[0;34m\u001b[0m\u001b[0m\n\u001b[1;32m    292\u001b[0m         \u001b[0mncalls\u001b[0m\u001b[0;34m[\u001b[0m\u001b[0;36m0\u001b[0m\u001b[0;34m]\u001b[0m \u001b[0;34m+=\u001b[0m \u001b[0;36m1\u001b[0m\u001b[0;34m\u001b[0m\u001b[0m\n\u001b[0;32m--> 293\u001b[0;31m         \u001b[0;32mreturn\u001b[0m \u001b[0mfunction\u001b[0m\u001b[0;34m(\u001b[0m\u001b[0;34m*\u001b[0m\u001b[0;34m(\u001b[0m\u001b[0mwrapper_args\u001b[0m \u001b[0;34m+\u001b[0m \u001b[0margs\u001b[0m\u001b[0;34m)\u001b[0m\u001b[0;34m)\u001b[0m\u001b[0;34m\u001b[0m\u001b[0m\n\u001b[0m\u001b[1;32m    294\u001b[0m \u001b[0;34m\u001b[0m\u001b[0m\n\u001b[1;32m    295\u001b[0m     \u001b[0;32mreturn\u001b[0m \u001b[0mncalls\u001b[0m\u001b[0;34m,\u001b[0m \u001b[0mfunction_wrapper\u001b[0m\u001b[0;34m\u001b[0m\u001b[0m\n",
      "\u001b[0;32m/home/runjing_liu/Documents/BNP/autograd/autograd/wrap_util.py\u001b[0m in \u001b[0;36mnary_f\u001b[0;34m(*args, **kwargs)\u001b[0m\n\u001b[1;32m     18\u001b[0m             \u001b[0;32melse\u001b[0m\u001b[0;34m:\u001b[0m\u001b[0;34m\u001b[0m\u001b[0m\n\u001b[1;32m     19\u001b[0m                 \u001b[0mx\u001b[0m \u001b[0;34m=\u001b[0m \u001b[0mtuple\u001b[0m\u001b[0;34m(\u001b[0m\u001b[0margs\u001b[0m\u001b[0;34m[\u001b[0m\u001b[0mi\u001b[0m\u001b[0;34m]\u001b[0m \u001b[0;32mfor\u001b[0m \u001b[0mi\u001b[0m \u001b[0;32min\u001b[0m \u001b[0margnum\u001b[0m\u001b[0;34m)\u001b[0m\u001b[0;34m\u001b[0m\u001b[0m\n\u001b[0;32m---> 20\u001b[0;31m             \u001b[0;32mreturn\u001b[0m \u001b[0munary_operator\u001b[0m\u001b[0;34m(\u001b[0m\u001b[0munary_f\u001b[0m\u001b[0;34m,\u001b[0m \u001b[0mx\u001b[0m\u001b[0;34m,\u001b[0m \u001b[0;34m*\u001b[0m\u001b[0mnary_op_args\u001b[0m\u001b[0;34m,\u001b[0m \u001b[0;34m**\u001b[0m\u001b[0mnary_op_kwargs\u001b[0m\u001b[0;34m)\u001b[0m\u001b[0;34m\u001b[0m\u001b[0m\n\u001b[0m\u001b[1;32m     21\u001b[0m         \u001b[0;32mreturn\u001b[0m \u001b[0mnary_f\u001b[0m\u001b[0;34m\u001b[0m\u001b[0m\n\u001b[1;32m     22\u001b[0m     \u001b[0;32mreturn\u001b[0m \u001b[0mnary_operator\u001b[0m\u001b[0;34m\u001b[0m\u001b[0m\n",
      "\u001b[0;32m/home/runjing_liu/Documents/BNP/autograd/autograd/differential_operators.py\u001b[0m in \u001b[0;36mgrad\u001b[0;34m(fun, x)\u001b[0m\n\u001b[1;32m     23\u001b[0m     \u001b[0marguments\u001b[0m \u001b[0;32mas\u001b[0m\u001b[0;31m \u001b[0m\u001b[0;31m`\u001b[0m\u001b[0mfun\u001b[0m\u001b[0;31m`\u001b[0m\u001b[0;34m,\u001b[0m \u001b[0mbut\u001b[0m \u001b[0mreturns\u001b[0m \u001b[0mthe\u001b[0m \u001b[0mgradient\u001b[0m \u001b[0minstead\u001b[0m\u001b[0;34m.\u001b[0m \u001b[0mThe\u001b[0m \u001b[0mfunction\u001b[0m\u001b[0;31m \u001b[0m\u001b[0;31m`\u001b[0m\u001b[0mfun\u001b[0m\u001b[0;31m`\u001b[0m\u001b[0;34m\u001b[0m\u001b[0m\n\u001b[1;32m     24\u001b[0m     should be scalar-valued. The gradient has the same type as the argument.\"\"\"\n\u001b[0;32m---> 25\u001b[0;31m     \u001b[0mvjp\u001b[0m\u001b[0;34m,\u001b[0m \u001b[0mans\u001b[0m \u001b[0;34m=\u001b[0m \u001b[0m_make_vjp\u001b[0m\u001b[0;34m(\u001b[0m\u001b[0mfun\u001b[0m\u001b[0;34m,\u001b[0m \u001b[0mx\u001b[0m\u001b[0;34m)\u001b[0m\u001b[0;34m\u001b[0m\u001b[0m\n\u001b[0m\u001b[1;32m     26\u001b[0m     \u001b[0;32mif\u001b[0m \u001b[0;32mnot\u001b[0m \u001b[0mvspace\u001b[0m\u001b[0;34m(\u001b[0m\u001b[0mans\u001b[0m\u001b[0;34m)\u001b[0m\u001b[0;34m.\u001b[0m\u001b[0msize\u001b[0m \u001b[0;34m==\u001b[0m \u001b[0;36m1\u001b[0m\u001b[0;34m:\u001b[0m\u001b[0;34m\u001b[0m\u001b[0m\n\u001b[1;32m     27\u001b[0m         raise TypeError(\"Grad only applies to real scalar-output functions. \"\n",
      "\u001b[0;32m/home/runjing_liu/Documents/BNP/autograd/autograd/core.py\u001b[0m in \u001b[0;36mmake_vjp\u001b[0;34m(fun, x)\u001b[0m\n\u001b[1;32m      8\u001b[0m \u001b[0;32mdef\u001b[0m \u001b[0mmake_vjp\u001b[0m\u001b[0;34m(\u001b[0m\u001b[0mfun\u001b[0m\u001b[0;34m,\u001b[0m \u001b[0mx\u001b[0m\u001b[0;34m)\u001b[0m\u001b[0;34m:\u001b[0m\u001b[0;34m\u001b[0m\u001b[0m\n\u001b[1;32m      9\u001b[0m     \u001b[0mstart_node\u001b[0m \u001b[0;34m=\u001b[0m \u001b[0mVJPNode\u001b[0m\u001b[0;34m.\u001b[0m\u001b[0mnew_root\u001b[0m\u001b[0;34m(\u001b[0m\u001b[0;34m)\u001b[0m\u001b[0;34m\u001b[0m\u001b[0m\n\u001b[0;32m---> 10\u001b[0;31m     \u001b[0mend_value\u001b[0m\u001b[0;34m,\u001b[0m \u001b[0mend_node\u001b[0m \u001b[0;34m=\u001b[0m  \u001b[0mtrace\u001b[0m\u001b[0;34m(\u001b[0m\u001b[0mstart_node\u001b[0m\u001b[0;34m,\u001b[0m \u001b[0mfun\u001b[0m\u001b[0;34m,\u001b[0m \u001b[0mx\u001b[0m\u001b[0;34m)\u001b[0m\u001b[0;34m\u001b[0m\u001b[0m\n\u001b[0m\u001b[1;32m     11\u001b[0m     \u001b[0;32mif\u001b[0m \u001b[0mend_node\u001b[0m \u001b[0;32mis\u001b[0m \u001b[0;32mNone\u001b[0m\u001b[0;34m:\u001b[0m\u001b[0;34m\u001b[0m\u001b[0m\n\u001b[1;32m     12\u001b[0m         \u001b[0;32mdef\u001b[0m \u001b[0mvjp\u001b[0m\u001b[0;34m(\u001b[0m\u001b[0mg\u001b[0m\u001b[0;34m)\u001b[0m\u001b[0;34m:\u001b[0m \u001b[0;32mreturn\u001b[0m \u001b[0mvspace\u001b[0m\u001b[0;34m(\u001b[0m\u001b[0mx\u001b[0m\u001b[0;34m)\u001b[0m\u001b[0;34m.\u001b[0m\u001b[0mzeros\u001b[0m\u001b[0;34m(\u001b[0m\u001b[0;34m)\u001b[0m\u001b[0;34m\u001b[0m\u001b[0m\n",
      "\u001b[0;32m/home/runjing_liu/Documents/BNP/autograd/autograd/tracer.py\u001b[0m in \u001b[0;36mtrace\u001b[0;34m(start_node, fun, x)\u001b[0m\n\u001b[1;32m      8\u001b[0m     \u001b[0;32mwith\u001b[0m \u001b[0mtrace_stack\u001b[0m\u001b[0;34m.\u001b[0m\u001b[0mnew_trace\u001b[0m\u001b[0;34m(\u001b[0m\u001b[0;34m)\u001b[0m \u001b[0;32mas\u001b[0m \u001b[0mt\u001b[0m\u001b[0;34m:\u001b[0m\u001b[0;34m\u001b[0m\u001b[0m\n\u001b[1;32m      9\u001b[0m         \u001b[0mstart_box\u001b[0m \u001b[0;34m=\u001b[0m \u001b[0mnew_box\u001b[0m\u001b[0;34m(\u001b[0m\u001b[0mx\u001b[0m\u001b[0;34m,\u001b[0m \u001b[0mt\u001b[0m\u001b[0;34m,\u001b[0m \u001b[0mstart_node\u001b[0m\u001b[0;34m)\u001b[0m\u001b[0;34m\u001b[0m\u001b[0m\n\u001b[0;32m---> 10\u001b[0;31m         \u001b[0mend_box\u001b[0m \u001b[0;34m=\u001b[0m \u001b[0mfun\u001b[0m\u001b[0;34m(\u001b[0m\u001b[0mstart_box\u001b[0m\u001b[0;34m)\u001b[0m\u001b[0;34m\u001b[0m\u001b[0m\n\u001b[0m\u001b[1;32m     11\u001b[0m         \u001b[0;32mif\u001b[0m \u001b[0misbox\u001b[0m\u001b[0;34m(\u001b[0m\u001b[0mend_box\u001b[0m\u001b[0;34m)\u001b[0m \u001b[0;32mand\u001b[0m \u001b[0mend_box\u001b[0m\u001b[0;34m.\u001b[0m\u001b[0m_trace\u001b[0m \u001b[0;34m==\u001b[0m \u001b[0mstart_box\u001b[0m\u001b[0;34m.\u001b[0m\u001b[0m_trace\u001b[0m\u001b[0;34m:\u001b[0m\u001b[0;34m\u001b[0m\u001b[0m\n\u001b[1;32m     12\u001b[0m             \u001b[0;32mreturn\u001b[0m \u001b[0mend_box\u001b[0m\u001b[0;34m.\u001b[0m\u001b[0m_value\u001b[0m\u001b[0;34m,\u001b[0m \u001b[0mend_box\u001b[0m\u001b[0;34m.\u001b[0m\u001b[0m_node\u001b[0m\u001b[0;34m\u001b[0m\u001b[0m\n",
      "\u001b[0;32m/home/runjing_liu/Documents/BNP/autograd/autograd/wrap_util.py\u001b[0m in \u001b[0;36munary_f\u001b[0;34m(x)\u001b[0m\n\u001b[1;32m     13\u001b[0m                 \u001b[0;32melse\u001b[0m\u001b[0;34m:\u001b[0m\u001b[0;34m\u001b[0m\u001b[0m\n\u001b[1;32m     14\u001b[0m                     \u001b[0msubargs\u001b[0m \u001b[0;34m=\u001b[0m \u001b[0msubvals\u001b[0m\u001b[0;34m(\u001b[0m\u001b[0margs\u001b[0m\u001b[0;34m,\u001b[0m \u001b[0mzip\u001b[0m\u001b[0;34m(\u001b[0m\u001b[0margnum\u001b[0m\u001b[0;34m,\u001b[0m \u001b[0mx\u001b[0m\u001b[0;34m)\u001b[0m\u001b[0;34m)\u001b[0m\u001b[0;34m\u001b[0m\u001b[0m\n\u001b[0;32m---> 15\u001b[0;31m                 \u001b[0;32mreturn\u001b[0m \u001b[0mfun\u001b[0m\u001b[0;34m(\u001b[0m\u001b[0;34m*\u001b[0m\u001b[0msubargs\u001b[0m\u001b[0;34m,\u001b[0m \u001b[0;34m**\u001b[0m\u001b[0mkwargs\u001b[0m\u001b[0;34m)\u001b[0m\u001b[0;34m\u001b[0m\u001b[0m\n\u001b[0m\u001b[1;32m     16\u001b[0m             \u001b[0;32mif\u001b[0m \u001b[0misinstance\u001b[0m\u001b[0;34m(\u001b[0m\u001b[0margnum\u001b[0m\u001b[0;34m,\u001b[0m \u001b[0mint\u001b[0m\u001b[0;34m)\u001b[0m\u001b[0;34m:\u001b[0m\u001b[0;34m\u001b[0m\u001b[0m\n\u001b[1;32m     17\u001b[0m                 \u001b[0mx\u001b[0m \u001b[0;34m=\u001b[0m \u001b[0margs\u001b[0m\u001b[0;34m[\u001b[0m\u001b[0margnum\u001b[0m\u001b[0;34m]\u001b[0m\u001b[0;34m\u001b[0m\u001b[0m\n",
      "\u001b[0;32m/home/runjing_liu/anaconda3/lib/python3.6/site-packages/paragami/function_patterns.py\u001b[0m in \u001b[0;36m__call__\u001b[0;34m(self, *functor_args)\u001b[0m\n\u001b[1;32m    242\u001b[0m         \u001b[0mnew_args\u001b[0m \u001b[0;34m+=\u001b[0m \u001b[0mself\u001b[0m\u001b[0;34m.\u001b[0m\u001b[0m_cached_args\u001b[0m\u001b[0;34m[\u001b[0m\u001b[0mlast_argnum\u001b[0m\u001b[0;34m:\u001b[0m\u001b[0mlen\u001b[0m\u001b[0;34m(\u001b[0m\u001b[0mself\u001b[0m\u001b[0;34m.\u001b[0m\u001b[0m_cached_args\u001b[0m\u001b[0;34m)\u001b[0m\u001b[0;34m]\u001b[0m\u001b[0;34m\u001b[0m\u001b[0m\n\u001b[1;32m    243\u001b[0m \u001b[0;34m\u001b[0m\u001b[0m\n\u001b[0;32m--> 244\u001b[0;31m         \u001b[0;32mreturn\u001b[0m \u001b[0mself\u001b[0m\u001b[0;34m.\u001b[0m\u001b[0m_fun\u001b[0m\u001b[0;34m(\u001b[0m\u001b[0;34m*\u001b[0m\u001b[0mnew_args\u001b[0m\u001b[0;34m,\u001b[0m \u001b[0;34m**\u001b[0m\u001b[0mself\u001b[0m\u001b[0;34m.\u001b[0m\u001b[0m_cached_kwargs\u001b[0m\u001b[0;34m)\u001b[0m\u001b[0;34m\u001b[0m\u001b[0m\n\u001b[0m",
      "\u001b[0;32m<ipython-input-34-3625d55cc231>\u001b[0m in \u001b[0;36mget_perturbed_kl\u001b[0;34m(y, vb_params_dict, epsilon_param_dict, log_phi, prior_params_dict, gh_loc, gh_weights, prior_perturbation)\u001b[0m\n\u001b[1;32m      3\u001b[0m \u001b[0;34m\u001b[0m\u001b[0m\n\u001b[1;32m      4\u001b[0m     e_log_pert = get_e_log_perturbation(log_phi, vb_params_dict, epsilon_param_dict, \n\u001b[0;32m----> 5\u001b[0;31m                            gh_loc, gh_weights, sum_vector=True)\n\u001b[0m\u001b[1;32m      6\u001b[0m \u001b[0;34m\u001b[0m\u001b[0m\n\u001b[1;32m      7\u001b[0m     \u001b[0;32mreturn\u001b[0m \u001b[0mgmm_lib\u001b[0m\u001b[0;34m.\u001b[0m\u001b[0mget_kl\u001b[0m\u001b[0;34m(\u001b[0m\u001b[0my\u001b[0m\u001b[0;34m,\u001b[0m \u001b[0mvb_params_dict\u001b[0m\u001b[0;34m,\u001b[0m \u001b[0mprior_params_dict\u001b[0m\u001b[0;34m,\u001b[0m \u001b[0mgh_loc\u001b[0m\u001b[0;34m,\u001b[0m \u001b[0mgh_weights\u001b[0m\u001b[0;34m)\u001b[0m \u001b[0;34m+\u001b[0m \u001b[0me_log_pert\u001b[0m\u001b[0;34m\u001b[0m\u001b[0m\n",
      "\u001b[0;32m<ipython-input-33-53f8b3f834bb>\u001b[0m in \u001b[0;36mget_e_log_perturbation\u001b[0;34m(log_phi, vb_params_dict, epsilon_param_dict, gh_loc, gh_weights, sum_vector)\u001b[0m\n\u001b[1;32m      4\u001b[0m \u001b[0;34m\u001b[0m\u001b[0m\n\u001b[1;32m      5\u001b[0m     e_perturbation_vec = modeling_lib.get_e_func_logit_stick_vec(\n\u001b[0;32m----> 6\u001b[0;31m         vb_params_dict, gh_loc, gh_weights, perturbation_fun)\n\u001b[0m\u001b[1;32m      7\u001b[0m \u001b[0;34m\u001b[0m\u001b[0m\n\u001b[1;32m      8\u001b[0m     \u001b[0;32mif\u001b[0m \u001b[0msum_vector\u001b[0m\u001b[0;34m:\u001b[0m\u001b[0;34m\u001b[0m\u001b[0m\n",
      "\u001b[0;32m/home/runjing_liu/Documents/BNP/sensitivity_to_stick_breaking_in_BNP/GMM_clustering/libraries/modeling_lib.py\u001b[0m in \u001b[0;36mget_e_func_logit_stick_vec\u001b[0;34m(vb_params_dict, gh_loc, gh_weights, func)\u001b[0m\n\u001b[1;32m     83\u001b[0m \u001b[0;31m# logit_stick = log(stick / (1 - stick)).\u001b[0m\u001b[0;34m\u001b[0m\u001b[0;34m\u001b[0m\u001b[0m\n\u001b[1;32m     84\u001b[0m \u001b[0;32mdef\u001b[0m \u001b[0mget_e_func_logit_stick_vec\u001b[0m\u001b[0;34m(\u001b[0m\u001b[0mvb_params_dict\u001b[0m\u001b[0;34m,\u001b[0m \u001b[0mgh_loc\u001b[0m\u001b[0;34m,\u001b[0m \u001b[0mgh_weights\u001b[0m\u001b[0;34m,\u001b[0m \u001b[0mfunc\u001b[0m\u001b[0;34m)\u001b[0m\u001b[0;34m:\u001b[0m\u001b[0;34m\u001b[0m\u001b[0m\n\u001b[0;32m---> 85\u001b[0;31m     \u001b[0mstick_propn_mean\u001b[0m \u001b[0;34m=\u001b[0m \u001b[0mvb_params_dict\u001b[0m\u001b[0;34m[\u001b[0m\u001b[0;34m'stick_propn_mean'\u001b[0m\u001b[0;34m]\u001b[0m\u001b[0;34m\u001b[0m\u001b[0m\n\u001b[0m\u001b[1;32m     86\u001b[0m     \u001b[0mstick_propn_info\u001b[0m \u001b[0;34m=\u001b[0m \u001b[0mvb_params_dict\u001b[0m\u001b[0;34m[\u001b[0m\u001b[0;34m'stick_propn_info'\u001b[0m\u001b[0;34m]\u001b[0m\u001b[0;34m\u001b[0m\u001b[0m\n\u001b[1;32m     87\u001b[0m \u001b[0;34m\u001b[0m\u001b[0m\n",
      "\u001b[0;32m/home/runjing_liu/Documents/BNP/autograd/autograd/tracer.py\u001b[0m in \u001b[0;36mf_wrapped\u001b[0;34m(*args, **kwargs)\u001b[0m\n\u001b[1;32m     42\u001b[0m             \u001b[0mparents\u001b[0m \u001b[0;34m=\u001b[0m \u001b[0mtuple\u001b[0m\u001b[0;34m(\u001b[0m\u001b[0mbox\u001b[0m\u001b[0;34m.\u001b[0m\u001b[0m_node\u001b[0m \u001b[0;32mfor\u001b[0m \u001b[0m_\u001b[0m     \u001b[0;34m,\u001b[0m \u001b[0mbox\u001b[0m \u001b[0;32min\u001b[0m \u001b[0mboxed_args\u001b[0m\u001b[0;34m)\u001b[0m\u001b[0;34m\u001b[0m\u001b[0m\n\u001b[1;32m     43\u001b[0m             \u001b[0margnums\u001b[0m \u001b[0;34m=\u001b[0m \u001b[0mtuple\u001b[0m\u001b[0;34m(\u001b[0m\u001b[0margnum\u001b[0m    \u001b[0;32mfor\u001b[0m \u001b[0margnum\u001b[0m\u001b[0;34m,\u001b[0m \u001b[0m_\u001b[0m   \u001b[0;32min\u001b[0m \u001b[0mboxed_args\u001b[0m\u001b[0;34m)\u001b[0m\u001b[0;34m\u001b[0m\u001b[0m\n\u001b[0;32m---> 44\u001b[0;31m             \u001b[0mans\u001b[0m \u001b[0;34m=\u001b[0m \u001b[0mf_wrapped\u001b[0m\u001b[0;34m(\u001b[0m\u001b[0;34m*\u001b[0m\u001b[0margvals\u001b[0m\u001b[0;34m,\u001b[0m \u001b[0;34m**\u001b[0m\u001b[0mkwargs\u001b[0m\u001b[0;34m)\u001b[0m\u001b[0;34m\u001b[0m\u001b[0m\n\u001b[0m\u001b[1;32m     45\u001b[0m             \u001b[0mnode\u001b[0m \u001b[0;34m=\u001b[0m \u001b[0mnode_constructor\u001b[0m\u001b[0;34m(\u001b[0m\u001b[0mans\u001b[0m\u001b[0;34m,\u001b[0m \u001b[0mf_wrapped\u001b[0m\u001b[0;34m,\u001b[0m \u001b[0margvals\u001b[0m\u001b[0;34m,\u001b[0m \u001b[0mkwargs\u001b[0m\u001b[0;34m,\u001b[0m \u001b[0margnums\u001b[0m\u001b[0;34m,\u001b[0m \u001b[0mparents\u001b[0m\u001b[0;34m)\u001b[0m\u001b[0;34m\u001b[0m\u001b[0m\n\u001b[1;32m     46\u001b[0m             \u001b[0;32mreturn\u001b[0m \u001b[0mnew_box\u001b[0m\u001b[0;34m(\u001b[0m\u001b[0mans\u001b[0m\u001b[0;34m,\u001b[0m \u001b[0mtrace\u001b[0m\u001b[0;34m,\u001b[0m \u001b[0mnode\u001b[0m\u001b[0;34m)\u001b[0m\u001b[0;34m\u001b[0m\u001b[0m\n",
      "\u001b[0;32m/home/runjing_liu/Documents/BNP/autograd/autograd/tracer.py\u001b[0m in \u001b[0;36mf_wrapped\u001b[0;34m(*args, **kwargs)\u001b[0m\n\u001b[1;32m     46\u001b[0m             \u001b[0;32mreturn\u001b[0m \u001b[0mnew_box\u001b[0m\u001b[0;34m(\u001b[0m\u001b[0mans\u001b[0m\u001b[0;34m,\u001b[0m \u001b[0mtrace\u001b[0m\u001b[0;34m,\u001b[0m \u001b[0mnode\u001b[0m\u001b[0;34m)\u001b[0m\u001b[0;34m\u001b[0m\u001b[0m\n\u001b[1;32m     47\u001b[0m         \u001b[0;32melse\u001b[0m\u001b[0;34m:\u001b[0m\u001b[0;34m\u001b[0m\u001b[0m\n\u001b[0;32m---> 48\u001b[0;31m             \u001b[0;32mreturn\u001b[0m \u001b[0mf_raw\u001b[0m\u001b[0;34m(\u001b[0m\u001b[0;34m*\u001b[0m\u001b[0margs\u001b[0m\u001b[0;34m,\u001b[0m \u001b[0;34m**\u001b[0m\u001b[0mkwargs\u001b[0m\u001b[0;34m)\u001b[0m\u001b[0;34m\u001b[0m\u001b[0m\n\u001b[0m\u001b[1;32m     49\u001b[0m     \u001b[0mf_wrapped\u001b[0m\u001b[0;34m.\u001b[0m\u001b[0mfun\u001b[0m \u001b[0;34m=\u001b[0m \u001b[0mf_raw\u001b[0m\u001b[0;34m\u001b[0m\u001b[0m\n\u001b[1;32m     50\u001b[0m     \u001b[0mf_wrapped\u001b[0m\u001b[0;34m.\u001b[0m\u001b[0m_is_autograd_primitive\u001b[0m \u001b[0;34m=\u001b[0m \u001b[0;32mTrue\u001b[0m\u001b[0;34m\u001b[0m\u001b[0m\n",
      "\u001b[0;32m/home/runjing_liu/Documents/BNP/autograd/autograd/numpy/numpy_boxes.py\u001b[0m in \u001b[0;36m__getitem__\u001b[0;34m(A, idx)\u001b[0m\n\u001b[1;32m     11\u001b[0m \u001b[0;34m\u001b[0m\u001b[0m\n\u001b[1;32m     12\u001b[0m     \u001b[0;34m@\u001b[0m\u001b[0mprimitive\u001b[0m\u001b[0;34m\u001b[0m\u001b[0m\n\u001b[0;32m---> 13\u001b[0;31m     \u001b[0;32mdef\u001b[0m \u001b[0m__getitem__\u001b[0m\u001b[0;34m(\u001b[0m\u001b[0mA\u001b[0m\u001b[0;34m,\u001b[0m \u001b[0midx\u001b[0m\u001b[0;34m)\u001b[0m\u001b[0;34m:\u001b[0m \u001b[0;32mreturn\u001b[0m \u001b[0mA\u001b[0m\u001b[0;34m[\u001b[0m\u001b[0midx\u001b[0m\u001b[0;34m]\u001b[0m\u001b[0;34m\u001b[0m\u001b[0m\n\u001b[0m\u001b[1;32m     14\u001b[0m \u001b[0;34m\u001b[0m\u001b[0m\n\u001b[1;32m     15\u001b[0m     \u001b[0;31m# Constants w.r.t float data just pass though\u001b[0m\u001b[0;34m\u001b[0m\u001b[0;34m\u001b[0m\u001b[0m\n",
      "\u001b[0;31mIndexError\u001b[0m: only integers, slices (`:`), ellipsis (`...`), numpy.newaxis (`None`) and integer or boolean arrays are valid indices"
     ]
    }
   ],
   "source": [
    "vb_opt = optimization_lib.optimize_full(get_perturbed_vb_loss, deepcopy(vb_opt),\n",
    "                    bfgs_max_iter = 500, netwon_max_iter = 50,\n",
    "                    max_precondition_iter = 10,\n",
    "                    gtol=1e-8, ftol=1e-8, xtol=1e-8)"
   ]
  },
  {
   "cell_type": "code",
   "execution_count": 41,
   "metadata": {
    "collapsed": false
   },
   "outputs": [
    {
     "name": "stdout",
     "output_type": "stream",
     "text": [
      "Epsilon: 1.0\n"
     ]
    },
    {
     "ename": "NameError",
     "evalue": "name 'best_param_phi' is not defined",
     "output_type": "error",
     "traceback": [
      "\u001b[0;31m---------------------------------------------------------------------------\u001b[0m",
      "\u001b[0;31mNameError\u001b[0m                                 Traceback (most recent call last)",
      "\u001b[0;32m<ipython-input-41-83579e42263e>\u001b[0m in \u001b[0;36m<module>\u001b[0;34m()\u001b[0m\n\u001b[1;32m      3\u001b[0m \u001b[0mplt\u001b[0m\u001b[0;34m.\u001b[0m\u001b[0mfigure\u001b[0m\u001b[0;34m(\u001b[0m\u001b[0;34m)\u001b[0m\u001b[0;34m\u001b[0m\u001b[0m\n\u001b[1;32m      4\u001b[0m \u001b[0mplt\u001b[0m\u001b[0;34m.\u001b[0m\u001b[0msubplot\u001b[0m\u001b[0;34m(\u001b[0m\u001b[0;36m1\u001b[0m\u001b[0;34m,\u001b[0m \u001b[0;36m2\u001b[0m\u001b[0;34m,\u001b[0m \u001b[0;36m1\u001b[0m\u001b[0;34m)\u001b[0m\u001b[0;34m\u001b[0m\u001b[0m\n\u001b[0;32m----> 5\u001b[0;31m \u001b[0mplt\u001b[0m\u001b[0;34m.\u001b[0m\u001b[0mplot\u001b[0m\u001b[0;34m(\u001b[0m\u001b[0mbest_param_phi\u001b[0m \u001b[0;34m-\u001b[0m \u001b[0mbest_param_0\u001b[0m\u001b[0;34m,\u001b[0m \u001b[0mbest_param_phi_pred\u001b[0m \u001b[0;34m-\u001b[0m \u001b[0mbest_param_0\u001b[0m\u001b[0;34m,\u001b[0m \u001b[0;34m'k.'\u001b[0m\u001b[0;34m)\u001b[0m\u001b[0;34m\u001b[0m\u001b[0m\n\u001b[0m\u001b[1;32m      6\u001b[0m \u001b[0mplt\u001b[0m\u001b[0;34m.\u001b[0m\u001b[0mplot\u001b[0m\u001b[0;34m(\u001b[0m\u001b[0mbest_param_phi\u001b[0m \u001b[0;34m-\u001b[0m \u001b[0mbest_param_0\u001b[0m\u001b[0;34m,\u001b[0m \u001b[0mbest_param_phi\u001b[0m \u001b[0;34m-\u001b[0m \u001b[0mbest_param_0\u001b[0m\u001b[0;34m,\u001b[0m \u001b[0;34m'r'\u001b[0m\u001b[0;34m)\u001b[0m\u001b[0;34m\u001b[0m\u001b[0m\n\u001b[1;32m      7\u001b[0m \u001b[0;34m\u001b[0m\u001b[0m\n",
      "\u001b[0;31mNameError\u001b[0m: name 'best_param_phi' is not defined"
     ]
    },
    {
     "data": {
      "image/png": "[encoded data removed]",
      "text/plain": [
       "<matplotlib.figure.Figure at 0x7fd84e5688d0>"
      ]
     },
     "metadata": {},
     "output_type": "display_data"
    }
   ],
   "source": [
    "print('Epsilon:', epsilon)\n",
    "\n",
    "plt.figure()\n",
    "plt.subplot(1, 2, 1)\n",
    "plt.plot(best_param_phi - best_param_0, best_param_phi_pred - best_param_0, 'k.')\n",
    "plt.plot(best_param_phi - best_param_0, best_param_phi - best_param_0, 'r')\n",
    "\n",
    "# plt.subplot(1, 2, 2)\n",
    "# plt.plot(output_phi - output_0, output_phi_pred - output_0, 'k.')\n",
    "# plt.plot(output_phi - output_0, output_phi - output_0, 'r')"
   ]
  },
  {
   "cell_type": "code",
   "execution_count": 29,
   "metadata": {
    "collapsed": false
   },
   "outputs": [
    {
     "name": "stdout",
     "output_type": "stream",
     "text": [
      "original expected number of clusters:  11.004715673911797\n",
      "perturbed expected number of clusters:  8.422602070700913\n",
      "predicted expected number of clusters:  8.218380958348769\n"
     ]
    }
   ],
   "source": [
    "print('original expected number of clusters: ',\n",
    "      gmm_utils.get_e_num_pred_clusters_from_free_par(best_param_0, model))\n",
    "\n",
    "print('perturbed expected number of clusters: ',\n",
    "      gmm_utils.get_e_num_pred_clusters_from_free_par(best_param_phi, model))\n",
    "\n",
    "print('predicted expected number of clusters: ',\n",
    "      gmm_utils.get_e_num_pred_clusters_from_free_par(best_param_phi_pred, model))"
   ]
  },
  {
   "cell_type": "code",
   "execution_count": 30,
   "metadata": {
    "collapsed": true
   },
   "outputs": [],
   "source": [
    "def get_stick_result(free_par, model):\n",
    "    model.global_vb_params.set_free(free_par)\n",
    "    return np.vstack(\n",
    "        [1 / np.sqrt(model.global_vb_params['v_sticks']['info'].get()), \\\n",
    "         model.global_vb_params['v_sticks']['mean'].get() ])\n"
   ]
  },
  {
   "cell_type": "code",
   "execution_count": 31,
   "metadata": {
    "collapsed": false
   },
   "outputs": [],
   "source": [
    "og_stick_means = get_stick_result(best_param_0, model)[0]\n",
    "pert_stick_means = get_stick_result(best_param_phi, model)[0]\n",
    "lr_stick_means = get_stick_result(best_param_phi_pred, model)[0]"
   ]
  },
  {
   "cell_type": "code",
   "execution_count": 32,
   "metadata": {
    "collapsed": false
   },
   "outputs": [
    {
     "data": {
      "text/plain": [
       "[<matplotlib.lines.Line2D at 0x7f21f7f160b8>]"
      ]
     },
     "execution_count": 32,
     "metadata": {},
     "output_type": "execute_result"
    },
    {
     "data": {
      "image/png": "[encoded data removed]",
      "text/plain": [
       "<matplotlib.figure.Figure at 0x7f21f7f16f98>"
      ]
     },
     "metadata": {},
     "output_type": "display_data"
    }
   ],
   "source": [
    "plt.plot(lr_stick_means - og_stick_means, pert_stick_means - og_stick_means, '+')\n",
    "plt.plot(lr_stick_means - og_stick_means, lr_stick_means - og_stick_means, '-')\n"
   ]
  },
  {
   "cell_type": "code",
   "execution_count": 33,
   "metadata": {
    "collapsed": true
   },
   "outputs": [],
   "source": [
    "og_stick_vars = get_stick_result(best_param_0, model)[1]\n",
    "pert_stick_vars = get_stick_result(best_param_phi, model)[1]\n",
    "lr_stick_vars = get_stick_result(best_param_phi_pred, model)[1]"
   ]
  },
  {
   "cell_type": "code",
   "execution_count": 34,
   "metadata": {
    "collapsed": false
   },
   "outputs": [
    {
     "data": {
      "text/plain": [
       "[<matplotlib.lines.Line2D at 0x7f21f7f33ba8>]"
      ]
     },
     "execution_count": 34,
     "metadata": {},
     "output_type": "execute_result"
    },
    {
     "data": {
      "image/png": "[encoded data removed]",
      "text/plain": [
       "<matplotlib.figure.Figure at 0x7f21f7f33400>"
      ]
     },
     "metadata": {},
     "output_type": "display_data"
    }
   ],
   "source": [
    "plt.plot(lr_stick_vars, pert_stick_vars, '+')\n",
    "plt.plot(lr_stick_vars, lr_stick_vars, '-')"
   ]
  },
  {
   "cell_type": "markdown",
   "metadata": {
    "collapsed": true
   },
   "source": [
    "# Predict for a range of perturbations"
   ]
  },
  {
   "cell_type": "code",
   "execution_count": 35,
   "metadata": {
    "collapsed": false
   },
   "outputs": [
    {
     "name": "stdout",
     "output_type": "stream",
     "text": [
      "[0.   0.01 0.04 0.09 0.16 0.25 0.36 0.49 0.64 0.81 1.  ]\n"
     ]
    }
   ],
   "source": [
    "#epsilon_vec = np.append(np.linspace(0, 0.1, 6), np.linspace(0.2, 1.0, 6))\n",
    "epsilon_vec = np.linspace(0, 1, 11) ** 2 # Square to get more points close to 0\n",
    "# epsilon_vec = -np.linspace(0, 10, 11)\n",
    "print(epsilon_vec)"
   ]
  },
  {
   "cell_type": "code",
   "execution_count": 36,
   "metadata": {
    "collapsed": false,
    "scrolled": false
   },
   "outputs": [
    {
     "name": "stdout",
     "output_type": "stream",
     "text": [
      "\n",
      "\n",
      "Epsilon:  0.0\n",
      "Predicted differences:  0.0\n",
      "epsilon: 0.0\n",
      "Optimization terminated successfully.\n",
      "Iter  0  value:  -337.20754826806717\n",
      "         Current function value: -337.207548\n",
      "         Iterations: 0\n",
      "         Function evaluations: 1\n",
      "         Gradient evaluations: 1\n",
      "         Hessian evaluations: 0\n",
      "Done. Converged:  True\n",
      "Predicted differences:  0.0\n",
      "Actual differences: (This is nonzero if phi did anything): 1.2654753550255434e-14\n",
      "\n",
      "\n",
      "Epsilon:  0.010000000000000002\n",
      "Predicted differences:  0.06189662874977398\n",
      "epsilon: 0.010000000000000002\n",
      "Iter  0  value:  -337.6733881702504\n",
      "Optimization terminated successfully.\n",
      "         Current function value: -337.673388\n",
      "         Iterations: 1\n",
      "         Function evaluations: 2\n",
      "         Gradient evaluations: 2\n",
      "         Hessian evaluations: 0\n",
      "Optimization terminated successfully.\n",
      "         Current function value: -337.673388\n",
      "         Iterations: 0\n",
      "         Function evaluations: 1\n",
      "         Gradient evaluations: 1\n",
      "         Hessian evaluations: 0\n",
      "Done. Converged:  True\n",
      "Predicted differences:  0.06189662874977398\n",
      "Actual differences: (This is nonzero if phi did anything): 0.0621032603940128\n",
      "\n",
      "\n",
      "Epsilon:  0.04000000000000001\n",
      "Predicted differences:  0.2475865149990956\n",
      "epsilon: 0.04000000000000001\n",
      "Iter  0  value:  -339.0878506033736\n",
      "Optimization terminated successfully.\n",
      "         Current function value: -339.087857\n",
      "         Iterations: 3\n",
      "         Function evaluations: 4\n",
      "         Gradient evaluations: 4\n",
      "         Hessian evaluations: 0\n",
      "Optimization terminated successfully.\n",
      "         Current function value: -339.087857\n",
      "         Iterations: 0\n",
      "         Function evaluations: 1\n",
      "         Gradient evaluations: 1\n",
      "         Hessian evaluations: 0\n",
      "Done. Converged:  True\n",
      "Predicted differences:  0.2475865149990956\n",
      "Actual differences: (This is nonzero if phi did anything): 0.25096209645064504\n",
      "\n",
      "\n",
      "Epsilon:  0.09000000000000002\n",
      "Predicted differences:  0.5570696587479649\n",
      "epsilon: 0.09000000000000002\n",
      "Iter  0  value:  -341.50359446878633\n",
      "Optimization terminated successfully.\n",
      "         Current function value: -341.503751\n",
      "         Iterations: 3\n",
      "         Function evaluations: 4\n",
      "         Gradient evaluations: 4\n",
      "         Hessian evaluations: 0\n",
      "Optimization terminated successfully.\n",
      "         Current function value: -341.503751\n",
      "         Iterations: 0\n",
      "         Function evaluations: 1\n",
      "         Gradient evaluations: 1\n",
      "         Hessian evaluations: 0\n",
      "Done. Converged:  True\n",
      "Predicted differences:  0.5570696587479649\n",
      "Actual differences: (This is nonzero if phi did anything): 0.5750745110923065\n",
      "\n",
      "\n",
      "Epsilon:  0.16000000000000003\n",
      "Predicted differences:  0.9903460599963817\n",
      "epsilon: 0.16000000000000003\n",
      "Iter  0  value:  -345.0144917894911\n",
      "Optimization terminated successfully.\n",
      "         Current function value: -345.016053\n",
      "         Iterations: 4\n",
      "         Function evaluations: 5\n",
      "         Gradient evaluations: 5\n",
      "         Hessian evaluations: 0\n",
      "Optimization terminated successfully.\n",
      "         Current function value: -345.016053\n",
      "         Iterations: 0\n",
      "         Function evaluations: 1\n",
      "         Gradient evaluations: 1\n",
      "         Hessian evaluations: 0\n",
      "Done. Converged:  True\n",
      "Predicted differences:  0.9903460599963817\n",
      "Actual differences: (This is nonzero if phi did anything): 1.0529848050944703\n",
      "\n",
      "\n",
      "Epsilon:  0.25\n",
      "Predicted differences:  1.5474157187443465\n",
      "epsilon: 0.25\n",
      "Iter  0  value:  -349.764933638726\n",
      "Optimization terminated successfully.\n",
      "         Current function value: -349.773888\n",
      "         Iterations: 4\n",
      "         Function evaluations: 5\n",
      "         Gradient evaluations: 5\n",
      "         Hessian evaluations: 0\n",
      "Optimization terminated successfully.\n",
      "         Current function value: -349.773888\n",
      "         Iterations: 0\n",
      "         Function evaluations: 1\n",
      "         Gradient evaluations: 1\n",
      "         Hessian evaluations: 0\n",
      "Done. Converged:  True\n",
      "Predicted differences:  1.5474157187443465\n",
      "Actual differences: (This is nonzero if phi did anything): 1.7159573686116034\n",
      "\n",
      "\n",
      "Epsilon:  0.3600000000000001\n",
      "Predicted differences:  2.228278634991859\n",
      "epsilon: 0.3600000000000001\n",
      "Iter  0  value:  -355.96346644962404\n",
      "Optimization terminated successfully.\n",
      "         Current function value: -355.997641\n",
      "         Iterations: 5\n",
      "         Function evaluations: 6\n",
      "         Gradient evaluations: 6\n",
      "         Hessian evaluations: 0\n",
      "Optimization terminated successfully.\n",
      "         Current function value: -355.997641\n",
      "         Iterations: 0\n",
      "         Function evaluations: 1\n",
      "         Gradient evaluations: 1\n",
      "         Hessian evaluations: 0\n",
      "Done. Converged:  True\n",
      "Predicted differences:  2.228278634991859\n",
      "Actual differences: (This is nonzero if phi did anything): 2.5560640486907737\n",
      "\n",
      "\n",
      "Epsilon:  0.4900000000000001\n",
      "Predicted differences:  3.0329348087389194\n",
      "epsilon: 0.4900000000000001\n",
      "Iter  0  value:  -363.901553092389\n",
      "Optimization terminated successfully.\n",
      "         Current function value: -364.007912\n",
      "         Iterations: 6\n",
      "         Function evaluations: 7\n",
      "         Gradient evaluations: 7\n",
      "         Hessian evaluations: 0\n",
      "Optimization terminated successfully.\n",
      "         Current function value: -364.007912\n",
      "         Iterations: 0\n",
      "         Function evaluations: 1\n",
      "         Gradient evaluations: 1\n",
      "         Hessian evaluations: 0\n",
      "Done. Converged:  True\n",
      "Predicted differences:  3.0329348087389194\n",
      "Actual differences: (This is nonzero if phi did anything): 3.565175111511372\n",
      "\n",
      "\n",
      "Epsilon:  0.6400000000000001\n",
      "Predicted differences:  3.961384239985527\n",
      "epsilon: 0.6400000000000001\n",
      "Iter  0  value:  -373.9773599493074\n",
      "Optimization terminated successfully.\n",
      "         Current function value: -374.283255\n",
      "         Iterations: 6\n",
      "         Function evaluations: 7\n",
      "         Gradient evaluations: 7\n",
      "         Hessian evaluations: 0\n",
      "Optimization terminated successfully.\n",
      "         Current function value: -374.283255\n",
      "         Iterations: 0\n",
      "         Function evaluations: 1\n",
      "         Gradient evaluations: 1\n",
      "         Hessian evaluations: 0\n",
      "Done. Converged:  True\n",
      "Predicted differences:  3.961384239985527\n",
      "Actual differences: (This is nonzero if phi did anything): 4.814511507416657\n",
      "\n",
      "\n",
      "Epsilon:  0.81\n",
      "Predicted differences:  5.013626928731683\n",
      "epsilon: 0.81\n",
      "Iter  0  value:  -386.7211463559724\n",
      "Optimization terminated successfully.\n",
      "         Current function value: -387.535423\n",
      "         Iterations: 7\n",
      "         Function evaluations: 8\n",
      "         Gradient evaluations: 8\n",
      "         Hessian evaluations: 0\n",
      "Optimization terminated successfully.\n",
      "         Current function value: -387.535423\n",
      "         Iterations: 0\n",
      "         Function evaluations: 1\n",
      "         Gradient evaluations: 1\n",
      "         Hessian evaluations: 0\n",
      "Done. Converged:  True\n",
      "Predicted differences:  5.013626928731683\n",
      "Actual differences: (This is nonzero if phi did anything): 6.369664613178032\n",
      "\n",
      "\n",
      "Epsilon:  1.0\n",
      "Predicted differences:  6.189662874977386\n",
      "epsilon: 1.0\n",
      "Iter  0  value:  -402.8133563138003\n",
      "Optimization terminated successfully.\n",
      "         Current function value: -404.768417\n",
      "         Iterations: 8\n",
      "         Function evaluations: 9\n",
      "         Gradient evaluations: 9\n",
      "         Hessian evaluations: 0\n",
      "Optimization terminated successfully.\n",
      "         Current function value: -404.768417\n",
      "         Iterations: 0\n",
      "         Function evaluations: 1\n",
      "         Gradient evaluations: 1\n",
      "         Hessian evaluations: 0\n",
      "Done. Converged:  True\n",
      "Predicted differences:  6.189662874977386\n",
      "Actual differences: (This is nonzero if phi did anything): 8.237861904625534\n"
     ]
    }
   ],
   "source": [
    "best_param_phi_array = []\n",
    "best_param_phi_pred_array = []\n",
    "\n",
    "output_phi_array = []\n",
    "output_phi_pred_array = []\n",
    "\n",
    "prior_perturbation.objective.logger.print_every = 10\n",
    "\n",
    "for i in range(len(epsilon_vec)): \n",
    "    epsilon = epsilon_vec[i]\n",
    "    print('\\n\\nEpsilon: ', epsilon)\n",
    "    \n",
    "    # get linear predictions\n",
    "    best_param_phi_pred = \\\n",
    "        epsilon_sensitivity.predict_input_par_from_hyperparameters(epsilon)\n",
    "    output_phi_pred = \\\n",
    "        gmm_utils.get_e_num_pred_clusters_from_free_par(best_param_phi_pred, model)\n",
    "    \n",
    "#     epsilon_sensitivity.predict_output_par_from_hyperparameters(\n",
    "#         epsilon, linear=True)\n",
    "\n",
    "    print('Predicted differences: ', np.linalg.norm(best_param_phi_pred - best_param_0))\n",
    "    \n",
    "    # Then fit with the perturbation.\n",
    "    prior_perturbation.objective.logger.initialize()\n",
    "    prior_perturbation.set_epsilon(epsilon_vec[i])\n",
    "    print(prior_perturbation.epsilon_param)\n",
    "    best_param_phi, converged, x_conv, f_conv, grad_conv, obj_opt, opt_results = \\\n",
    "        opt_lib.repeatedly_optimize(\n",
    "            objective=prior_perturbation.objective,\n",
    "            optimization_fun=\n",
    "                lambda x: gmm_utils.precondition_and_optimize(\n",
    "                    prior_perturbation.objective, x),\n",
    "            init_x=best_param_phi_pred,\n",
    "            initial_optimization_fun=None,\n",
    "            keep_intermediate_optimizations=True)\n",
    "\n",
    "#     output_phi = moment_model.set_and_get_moments_from_free_par(best_param_phi)\n",
    "    output_phi = \\\n",
    "        gmm_utils.get_e_num_pred_clusters_from_free_par(best_param_phi, model)\n",
    "\n",
    "    print('Done. Converged: ', converged)\n",
    "\n",
    "    print('Predicted differences: ', np.linalg.norm(best_param_phi_pred - best_param_0))\n",
    "    print('Actual differences: (This is nonzero if phi did anything):',\n",
    "          np.linalg.norm(best_param_phi - best_param_0))\n",
    "    \n",
    "    # save results: \n",
    "    best_param_phi_array.append(best_param_phi)\n",
    "    best_param_phi_pred_array.append(best_param_phi_pred)\n",
    "    \n",
    "    output_phi_array.append(output_phi)\n",
    "    output_phi_pred_array.append(output_phi_pred)\n",
    "    "
   ]
  },
  {
   "cell_type": "code",
   "execution_count": 37,
   "metadata": {
    "collapsed": true
   },
   "outputs": [],
   "source": [
    "# np.save('best_param_phi_array', best_param_phi_array)"
   ]
  },
  {
   "cell_type": "code",
   "execution_count": 38,
   "metadata": {
    "collapsed": true
   },
   "outputs": [],
   "source": [
    "# output_0 = moment_model.set_and_get_moments_from_free_par(best_param_0)\n",
    "output_0 = \\\n",
    "    gmm_utils.get_e_num_pred_clusters_from_free_par(best_param_0, model)\n"
   ]
  },
  {
   "cell_type": "code",
   "execution_count": 39,
   "metadata": {
    "collapsed": true,
    "scrolled": false
   },
   "outputs": [],
   "source": [
    "# for i in range(len(epsilon_vec)): \n",
    "#     plt.figure(figsize=(8, 4))\n",
    "#     plt.subplot(1, 2, 1)\n",
    "#     plt.plot(best_param_phi_array[i] - best_param_0, \n",
    "#              best_param_phi_pred_array[i] - best_param_0, 'k.')\n",
    "#     plt.plot(best_param_phi_array[i] - best_param_0, \n",
    "#              best_param_phi_array[i] - best_param_0, 'r')\n",
    "#     plt.xlabel('true diff global free params')\n",
    "#     plt.ylabel('pred diff global free params')\n",
    "#     plt.title('epsilon = {}'.format(epsilon_vec[i]))\n",
    "\n",
    "#     plt.subplot(1, 2, 2)\n",
    "#     plt.plot(output_phi_array[i] - output_0, \n",
    "#              output_phi_pred_array[i] - output_0, 'k.')\n",
    "#     plt.plot(output_phi_array[i] - output_0, \n",
    "#              output_phi_array[i] - output_0, 'r')\n",
    "#     plt.xlabel('true diff moment params')\n",
    "#     plt.ylabel('pred diff moment params')\n",
    "#     plt.title('epsilon = {}'.format(epsilon_vec[i]))\n",
    "    \n",
    "#     plt.tight_layout()\n",
    "\n",
    "    "
   ]
  },
  {
   "cell_type": "markdown",
   "metadata": {},
   "source": [
    "# Lets also look at the expected number of clusters"
   ]
  },
  {
   "cell_type": "code",
   "execution_count": 40,
   "metadata": {
    "collapsed": true
   },
   "outputs": [],
   "source": [
    "# # This expects the hyperparameter to be at its optimal value.\n",
    "# #e_num_clusters_class = gmm_utils.ExpectedNumClustersFromZ(model)\n",
    "# #e_num_clusters_class = gmm_utils.ExpectedNumClustersFromLogitSticks(model)\n",
    "# e_num_clusters_class.set_e_num_clusters_from_free_param(best_param_0)\n",
    "\n",
    "# prior_perturbation.set_epsilon(0.0)\n",
    "# cluster_sensitivity = \\\n",
    "#     obj_lib.ParametricSensitivity(\n",
    "#         objective_fun=model.set_z_get_kl,\n",
    "#         input_par=e_num_clusters_class.model.global_vb_params,\n",
    "#         output_par=e_num_clusters_class.e_num_clusters,\n",
    "#         hyper_par=prior_perturbation.epsilon_param,\n",
    "#         input_to_output_converter=e_num_clusters_class.set_e_num_clusters,\n",
    "#         optimal_input_par=best_param_0,\n",
    "#         objective_hessian=kl_hessian_0,\n",
    "#         hyper_par_objective_fun=prior_perturbation.get_e_log_perturbation)"
   ]
  },
  {
   "cell_type": "code",
   "execution_count": 41,
   "metadata": {
    "collapsed": true
   },
   "outputs": [],
   "source": [
    "e_num_heavy_clusters_class = gmm_utils.ExpectedNumClustersFromZ(model)\n",
    "e_num_pred_heavy_clusters_class = gmm_utils.ExpectedPredNumClusters(model)"
   ]
  },
  {
   "cell_type": "code",
   "execution_count": 42,
   "metadata": {
    "collapsed": true
   },
   "outputs": [],
   "source": [
    "from tqdm import tqdm"
   ]
  },
  {
   "cell_type": "code",
   "execution_count": 43,
   "metadata": {
    "collapsed": true
   },
   "outputs": [],
   "source": [
    "threshold = 3"
   ]
  },
  {
   "cell_type": "code",
   "execution_count": 44,
   "metadata": {
    "collapsed": false
   },
   "outputs": [
    {
     "name": "stderr",
     "output_type": "stream",
     "text": [
      "100%|██████████| 11/11 [00:04<00:00,  2.39it/s]\n"
     ]
    }
   ],
   "source": [
    "e_num_clusters_pred = []\n",
    "e_num_clusters_true = []\n",
    "\n",
    "e_num_clusters_true_var = []\n",
    "e_num_clusters_pred_var = []\n",
    "\n",
    "for i in tqdm(range(len(epsilon_vec))):\n",
    "    # predicted quantities\n",
    "    pred_mean, pred_var = e_num_heavy_clusters_class.get_e_num_heavy_clusters_from_free_par(\n",
    "            best_param_phi_pred_array[i], threshold = threshold)\n",
    "    \n",
    "    # refitted quantities\n",
    "    refit_mean, refit_var = e_num_heavy_clusters_class.get_e_num_heavy_clusters_from_free_par(\n",
    "            best_param_phi_array[i], threshold = threshold)\n",
    "    \n",
    "    e_num_clusters_pred.append(pred_mean)\n",
    "    e_num_clusters_true.append(refit_mean)\n",
    "    \n",
    "    e_num_clusters_pred_var.append(pred_var)\n",
    "    e_num_clusters_true_var.append(refit_var)\n",
    "\n",
    "    "
   ]
  },
  {
   "cell_type": "code",
   "execution_count": 45,
   "metadata": {
    "collapsed": false
   },
   "outputs": [
    {
     "name": "stderr",
     "output_type": "stream",
     "text": [
      "100%|██████████| 11/11 [00:02<00:00,  4.98it/s]\n"
     ]
    }
   ],
   "source": [
    "e_num_post_pred_clusters_pred = []\n",
    "e_num_post_pred_clusters_true = []\n",
    "for i in tqdm(range(len(epsilon_vec))):\n",
    "    e_num_post_pred_clusters_pred.append(\n",
    "        e_num_pred_heavy_clusters_class.get_e_num_pred_heavy_clusters_from_free_par(\n",
    "            best_param_phi_pred_array[i], threshold = threshold))\n",
    "    e_num_post_pred_clusters_true.append(\n",
    "        e_num_pred_heavy_clusters_class.get_e_num_pred_heavy_clusters_from_free_par(\n",
    "            best_param_phi_array[i], threshold = threshold))"
   ]
  },
  {
   "cell_type": "code",
   "execution_count": 46,
   "metadata": {
    "collapsed": false
   },
   "outputs": [
    {
     "data": {
      "text/plain": [
       "<matplotlib.legend.Legend at 0x7f21f801e240>"
      ]
     },
     "execution_count": 46,
     "metadata": {},
     "output_type": "execute_result"
    },
    {
     "data": {
      "image/png": "[encoded data removed]",
      "text/plain": [
       "<matplotlib.figure.Figure at 0x7f21f7fd7048>"
      ]
     },
     "metadata": {},
     "output_type": "display_data"
    }
   ],
   "source": [
    "plt.figure(figsize=(17, 7))\n",
    "\n",
    "plt.subplot(121)\n",
    "plt.plot(epsilon_vec, e_num_clusters_true, '+-')\n",
    "plt.plot(epsilon_vec, e_num_clusters_pred, '+-')\n",
    "plt.xlabel('epsilon')\n",
    "plt.title('expected number of clusters')\n",
    "plt.legend(('computed', 'linear approximation'))\n",
    "\n",
    "plt.subplot(122)\n",
    "plt.plot(epsilon_vec, e_num_post_pred_clusters_true, '+-')\n",
    "plt.plot(epsilon_vec, e_num_post_pred_clusters_pred, '+-')\n",
    "plt.xlabel('epsilon')\n",
    "plt.title('expected number of posterior predictive clusters')\n",
    "plt.legend(('computed', 'linear approximation'))\n",
    "\n",
    "# plt.savefig('../../../writing/NIPS_2018_BNP_workshop/functional_sens_results/pred_num_clusters1_init3_5.png')"
   ]
  },
  {
   "cell_type": "code",
   "execution_count": 47,
   "metadata": {
    "collapsed": true
   },
   "outputs": [],
   "source": [
    "func_sens_results_array = np.array([epsilon_vec, \n",
    "                                   np.array(e_num_clusters_true).squeeze(), \n",
    "                                   np.array(e_num_clusters_pred).squeeze()])\n",
    "\n",
    "# np.savetxt('../../../writing/NIPS_2018_BNP_workshop/data_for_figures/' + \n",
    "#            'prior_pert1_enum_clust_results_thresh{}.csv'.format(threshold), \n",
    "#         func_sens_results_array, \n",
    "#           delimiter = ',')"
   ]
  },
  {
   "cell_type": "code",
   "execution_count": 48,
   "metadata": {
    "collapsed": true
   },
   "outputs": [],
   "source": [
    "func_sens_pred_results_array = np.array([epsilon_vec, \n",
    "                                   np.array(e_num_post_pred_clusters_true).squeeze(), \n",
    "                                   np.array(e_num_post_pred_clusters_pred).squeeze()])\n",
    "\n",
    "# np.savetxt('../../../writing/NIPS_2018_BNP_workshop/data_for_figures/' + \n",
    "#            'prior_pert1_enum_clust_results_pred_thresh{}.csv'.format(threshold), \n",
    "#         func_sens_pred_results_array, \n",
    "#         delimiter = ',')"
   ]
  },
  {
   "cell_type": "code",
   "execution_count": 49,
   "metadata": {
    "collapsed": false
   },
   "outputs": [
    {
     "data": {
      "text/plain": [
       "3"
      ]
     },
     "execution_count": 49,
     "metadata": {},
     "output_type": "execute_result"
    }
   ],
   "source": [
    "threshold"
   ]
  },
  {
   "cell_type": "code",
   "execution_count": null,
   "metadata": {
    "collapsed": true
   },
   "outputs": [],
   "source": []
  },
  {
   "cell_type": "raw",
   "metadata": {
    "collapsed": false
   },
   "source": [
    "plt.figure(figsize=(17, 7))\n",
    "\n",
    "plt.subplot(121)\n",
    "plt.errorbar(epsilon_vec, e_num_clusters_true, yerr=3 * np.sqrt(e_num_clusters_true_var) / np.sqrt(10000), fmt = 'x-')\n",
    "plt.errorbar(epsilon_vec + 0.01, e_num_clusters_pred, yerr= 3 * np.sqrt(e_num_clusters_pred_var) / np.sqrt(10000), \n",
    "             fmt = 'x-')\n",
    "plt.xlabel('epsilon')\n",
    "plt.title('expected number of clusters')\n",
    "plt.legend(('computed', 'linear approximation'))\n",
    "\n",
    "plt.subplot(122)\n",
    "plt.plot(epsilon_vec, e_num_post_pred_clusters_true, '+-')\n",
    "plt.plot(epsilon_vec, e_num_post_pred_clusters_pred, '+-')\n",
    "plt.xlabel('epsilon')\n",
    "plt.title('expected number of posterior predictive clusters')\n",
    "plt.legend(('computed', 'linear approximation'))\n",
    "\n",
    "# plt.savefig('../../../writing/NIPS_2018_BNP_workshop/functional_sens_results/pred_num_clusters1_init3_5.png')"
   ]
  },
  {
   "cell_type": "raw",
   "metadata": {
    "collapsed": true
   },
   "source": []
  },
  {
   "cell_type": "raw",
   "metadata": {
    "collapsed": true
   },
   "source": []
  },
  {
   "cell_type": "raw",
   "metadata": {
    "collapsed": false,
    "scrolled": false
   },
   "source": [
    "# Look at stick quantities.\n",
    "\n",
    "cluster_probs = model.get_e_cluster_probabilities()\n",
    "\n",
    "def get_stick_result(free_par, model):\n",
    "    model.global_vb_params.set_free(free_par)\n",
    "    return np.vstack(\n",
    "        [1 / np.sqrt(model.global_vb_params['v_sticks']['info'].get()), \\\n",
    "         model.global_vb_params['v_sticks']['mean'].get() ])\n",
    "\n",
    "sticks_true = np.array([ get_stick_result(free_par, model) for free_par in best_param_phi_array ])\n",
    "sticks_pred = np.array([ get_stick_result(free_par, model) for free_par in best_param_phi_pred_array ])\n",
    "\n",
    "plt.figure(figsize=(15, 40))\n",
    "print(sticks_true.shape)\n",
    "for k in range(model.k_approx - 20):\n",
    "    plt.subplot(model.k_approx - 1, 2, 2 * k + 1)\n",
    "    plt.plot(epsilon_vec, sticks_true[:, 0, k], '+-')\n",
    "    plt.plot(epsilon_vec, sticks_pred[:, 0, k], '+-')\n",
    "    #plt.xlabel('epsilon')\n",
    "    plt.ylabel('result')\n",
    "    plt.title('Mean cluster {0} Ez = {1:0.3f}'.format(k, cluster_probs[k]))\n",
    "    plt.legend(('true', 'linear approximation'))\n",
    "\n",
    "    plt.subplot(model.k_approx - 1, 2, 2 * k + 2)\n",
    "    plt.plot(epsilon_vec, sticks_true[:, 1, k], '+-')\n",
    "    plt.plot(epsilon_vec, sticks_pred[:, 1, k], '+-')\n",
    "    #plt.xlabel('epsilon')\n",
    "    plt.ylabel('result')\n",
    "    plt.title('Sd cluster {0} Ez = {1:0.3f}'.format(k, cluster_probs[k]))\n",
    "    plt.legend(('true', 'linear approximation'))\n",
    "\n",
    "# k = 1\n",
    "# plt.plot(epsilon_vec, sticks_true[:, k, 0], '+-')\n",
    "# plt.plot(epsilon_vec, sticks_pred[:, k, 0], '+-')\n",
    "# plt.xlabel('epsilon')\n",
    "# plt.ylabel('result')\n",
    "# plt.legend(('true', 'linear approximation'))\n"
   ]
  },
  {
   "cell_type": "raw",
   "metadata": {
    "collapsed": false
   },
   "source": [
    "# Look at generic quantities.\n",
    "\n",
    "\n",
    "model.global_vb_params.set_free(best_param_0)\n",
    "print(model.get_e_cluster_probabilities())\n",
    "\n",
    "stick_ind = 5\n",
    "def get_result(free_par, model):\n",
    "    model.global_vb_params.set_free(free_par)\n",
    "    return 1 / np.sqrt(model.global_vb_params['v_sticks']['info'].get()[stick_ind])\n",
    "    #return model.global_vb_params['v_sticks']['mean'].get()[stick_ind]\n",
    "\n",
    "result_pred = []\n",
    "result_true = []\n",
    "for i in range(len(epsilon_vec)):\n",
    "    result_pred.append(get_result(best_param_phi_pred_array[i], model))\n",
    "    result_true.append(get_result(best_param_phi_array[i], model))\n",
    "\n",
    "    \n",
    "plt.plot(epsilon_vec, result_true, '+-')\n",
    "plt.plot(epsilon_vec, result_pred, '+-')\n",
    "plt.xlabel('epsilon')\n",
    "plt.ylabel('result')\n",
    "plt.legend(('true', 'linear approximation'))\n"
   ]
  },
  {
   "cell_type": "raw",
   "metadata": {
    "collapsed": false
   },
   "source": [
    "np.array(e_num_clusters_true)"
   ]
  },
  {
   "cell_type": "raw",
   "metadata": {
    "collapsed": true
   },
   "source": [
    "func_sens_results_array = np.array([epsilon_vec, \n",
    "                                   np.array(e_num_clusters_true).squeeze(), \n",
    "                                   np.array(e_num_clusters_pred).squeeze()])\n",
    "\n",
    "# np.savetxt('../../../writing/NIPS_2018_BNP_workshop/data_for_figures/prior_pert2_enum_clust_results.csv', \n",
    "#         func_sens_results_array, \n",
    "#           delimiter = ',')"
   ]
  },
  {
   "cell_type": "raw",
   "metadata": {
    "collapsed": true
   },
   "source": [
    "def plot_results_from_free_params(model, global_free_params, fig): \n",
    "    # look at results\n",
    "    model.global_vb_params.set_free(global_free_params)\n",
    "    model.set_optimal_z()\n",
    "\n",
    "    bnp_clusters = np.argmax(model.e_z, axis = 1)\n",
    "    bnp_centroids = model.vb_params['global']['centroids'].get()\n",
    "\n",
    "    bnp_cluster_infos = model.vb_params['global']['gamma'].get()\n",
    "    bnp_cluster_covs = np.linalg.inv(bnp_cluster_infos)\n",
    "    \n",
    "    pca_fit, pc_features, colors1, colors2 = utils_lib.get_plot_data(model.y)\n",
    "    \n",
    "    # we plot in PCA space\n",
    "    bnp_centroids_pc, bnp_cluster_covs_pc = \\\n",
    "        utils_lib.transform_params_to_pc_space(pca_fit, bnp_centroids, bnp_cluster_covs)\n",
    "        \n",
    "    utils_lib.plot_clusters(pc_features[:, 0], pc_features[:, 1], bnp_clusters, \\\n",
    "              colors1_, fig, \\\n",
    "              centroids = bnp_centroids_pc[:, np.unique(bnp_clusters)], \\\n",
    "              cov = bnp_cluster_covs_pc[np.unique(bnp_clusters)])\n",
    "\n",
    "    fig.set_xlabel('PC1')\n",
    "    fig.set_ylabel('PC2')\n"
   ]
  },
  {
   "cell_type": "raw",
   "metadata": {
    "collapsed": false,
    "scrolled": false
   },
   "source": [
    "f, axarr = plt.subplots(len(epsilon_vec), 2, figsize = (15, 50))\n",
    "\n",
    "for i in range(len(epsilon_vec)): \n",
    "    plot_results_from_free_params(model, best_param_phi_array[i], axarr[i, 0])\n",
    "    plot_results_from_free_params(model, best_param_phi_pred_array[i], axarr[i, 1])\n",
    "\n",
    "f.tight_layout()"
   ]
  },
  {
   "cell_type": "raw",
   "metadata": {
    "collapsed": true
   },
   "source": []
  }
 ],
 "metadata": {
  "kernelspec": {
   "display_name": "Python 3",
   "language": "python",
   "name": "python3"
  },
  "language_info": {
   "codemirror_mode": {
    "name": "ipython",
    "version": 3
   },
   "file_extension": ".py",
   "mimetype": "text/x-python",
   "name": "python",
   "nbconvert_exporter": "python",
   "pygments_lexer": "ipython3",
   "version": "3.6.0"
  }
 },
 "nbformat": 4,
 "nbformat_minor": 2
}
