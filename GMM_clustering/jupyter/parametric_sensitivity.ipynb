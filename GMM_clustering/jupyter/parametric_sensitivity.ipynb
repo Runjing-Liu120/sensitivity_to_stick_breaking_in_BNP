{
 "cells": [
  {
   "cell_type": "markdown",
   "metadata": {},
   "source": [
    "This notebook demonstrates the use of our linear approximation for sensitivity with respect to the Dirichlet process $\\alpha$ parameter"
   ]
  },
  {
   "cell_type": "code",
   "execution_count": 22,
   "metadata": {
    "collapsed": false
   },
   "outputs": [],
   "source": [
    "from autograd import numpy as np\n",
    "from autograd import scipy as sp\n",
    "\n",
    "from numpy.polynomial.hermite import hermgauss\n",
    "\n",
    "np.random.seed(453453)\n",
    "\n",
    "import paragami\n",
    "\n",
    "# BNP sensitivity libraries\n",
    "import sys\n",
    "sys.path.insert(0, '../libraries/')\n",
    "sys.path.insert(0, '../../BNP_modeling/')\n",
    "\n",
    "import gmm_clustering_lib as gmm_lib\n",
    "import modeling_lib \n",
    "import utils_lib\n",
    "import cluster_quantities_lib as cluster_lib\n",
    "import optimization_lib\n",
    "\n",
    "import matplotlib.pyplot as plt\n",
    "%matplotlib inline\n",
    "import matplotlib.cm as cm\n",
    "\n",
    "from sklearn.decomposition import PCA\n",
    "\n",
    "from copy import deepcopy\n",
    "\n",
    "import vittles\n",
    "\n",
    "import json "
   ]
  },
  {
   "cell_type": "markdown",
   "metadata": {},
   "source": [
    "# Load data"
   ]
  },
  {
   "cell_type": "markdown",
   "metadata": {},
   "source": [
    "We load and plot the iris dataset"
   ]
  },
  {
   "cell_type": "code",
   "execution_count": 2,
   "metadata": {
    "collapsed": true
   },
   "outputs": [],
   "source": [
    "# load iris data\n",
    "dataset_name = 'iris'\n",
    "features, iris_species = utils_lib.load_data()\n",
    "dim = features.shape[1]\n",
    "n_obs = len(iris_species)    "
   ]
  },
  {
   "cell_type": "code",
   "execution_count": 3,
   "metadata": {
    "collapsed": false
   },
   "outputs": [
    {
     "data": {
      "text/plain": [
       "<matplotlib.text.Text at 0x7fa7da2f2160>"
      ]
     },
     "execution_count": 3,
     "metadata": {},
     "output_type": "execute_result"
    },
    {
     "data": {
      "image/png": "[encoded data removed]",
      "text/plain": [
       "<matplotlib.figure.Figure at 0x7fa7da457438>"
      ]
     },
     "metadata": {},
     "output_type": "display_data"
    }
   ],
   "source": [
    "# run PCA\n",
    "pca_fit = PCA()\n",
    "pca_fit.fit(features)\n",
    "pc_features = pca_fit.transform(features)\n",
    "\n",
    "# plot\n",
    "cmap = cm.get_cmap(name='gist_rainbow')\n",
    "colors1 = [cmap(k * 50) for k in range(30)]\n",
    "\n",
    "fig1 = plt.figure(1)\n",
    "fig = fig1.add_subplot(111)\n",
    "utils_lib.plot_clusters(pc_features[:, 0], pc_features[:, 1], iris_species, colors1, fig)\n",
    "fig.set_xlabel('PC1')\n",
    "fig.set_ylabel('PC2')\n"
   ]
  },
  {
   "cell_type": "markdown",
   "metadata": {},
   "source": [
    "# Set up model"
   ]
  },
  {
   "cell_type": "markdown",
   "metadata": {},
   "source": [
    "### Prior parameters"
   ]
  },
  {
   "cell_type": "code",
   "execution_count": 4,
   "metadata": {
    "collapsed": false
   },
   "outputs": [
    {
     "name": "stdout",
     "output_type": "stream",
     "text": [
      "{'alpha': 3.5, 'prior_centroid_mean': array([0.]), 'prior_centroid_info': array([0.1]), 'prior_gamma_df': array([8.]), 'prior_gamma_inv_scale': array([[0.62, 0.  , 0.  , 0.  ],\n",
      "       [0.  , 0.62, 0.  , 0.  ],\n",
      "       [0.  , 0.  , 0.62, 0.  ],\n",
      "       [0.  , 0.  , 0.  , 0.62]])}\n"
     ]
    }
   ],
   "source": [
    "# Get priors\n",
    "prior_params_dict, prior_params_paragami = gmm_lib.get_default_prior_params(dim)\n",
    "prior_params_dict['alpha'] = 3.5\n",
    "print(prior_params_dict)"
   ]
  },
  {
   "cell_type": "markdown",
   "metadata": {},
   "source": [
    "### Variational parameters"
   ]
  },
  {
   "cell_type": "code",
   "execution_count": 5,
   "metadata": {
    "collapsed": true
   },
   "outputs": [],
   "source": [
    "# number of clusters in variational distribution \n",
    "k_approx = 30"
   ]
  },
  {
   "cell_type": "code",
   "execution_count": 6,
   "metadata": {
    "collapsed": false
   },
   "outputs": [],
   "source": [
    "# Gauss-Hermite points for integrating logitnormal stick-breaking prior\n",
    "gh_deg = 8\n",
    "gh_loc, gh_weights = hermgauss(gh_deg)"
   ]
  },
  {
   "cell_type": "code",
   "execution_count": 7,
   "metadata": {
    "collapsed": false
   },
   "outputs": [],
   "source": [
    "# get vb parameters\n",
    "vb_params_dict, vb_params_paragami = gmm_lib.get_vb_params_paragami_object(dim, k_approx)"
   ]
  },
  {
   "cell_type": "code",
   "execution_count": 8,
   "metadata": {
    "collapsed": false
   },
   "outputs": [
    {
     "data": {
      "text/plain": [
       "1460.205125758913"
      ]
     },
     "execution_count": 8,
     "metadata": {},
     "output_type": "execute_result"
    }
   ],
   "source": [
    "# the objective \n",
    "gmm_lib.get_kl(features, vb_params_dict, prior_params_dict, gh_loc, gh_weights)"
   ]
  },
  {
   "cell_type": "markdown",
   "metadata": {},
   "source": [
    "# Optimize the KL objective"
   ]
  },
  {
   "cell_type": "markdown",
   "metadata": {},
   "source": [
    "### Initialize with k-means"
   ]
  },
  {
   "cell_type": "code",
   "execution_count": 9,
   "metadata": {
    "collapsed": false
   },
   "outputs": [
    {
     "name": "stdout",
     "output_type": "stream",
     "text": [
      "initial kl: \n",
      "450.9718947107098\n"
     ]
    }
   ],
   "source": [
    "# run a kmeans init\n",
    "n_kmeans_init = 50\n",
    "init_vb_free_params, init_vb_params_dict, init_ez = \\\n",
    "    utils_lib.cluster_and_get_k_means_inits(features, vb_params_paragami, \n",
    "                                                n_kmeans_init = n_kmeans_init, \n",
    "                                                  seed = 453453)\n",
    "\n",
    "print('initial kl: ')\n",
    "print(gmm_lib.get_kl(features, init_vb_params_dict, prior_params_dict, gh_loc, gh_weights))"
   ]
  },
  {
   "cell_type": "markdown",
   "metadata": {},
   "source": [
    "### Set up KL objective as a function of unconstrained VB parameters"
   ]
  },
  {
   "cell_type": "code",
   "execution_count": 10,
   "metadata": {
    "collapsed": true
   },
   "outputs": [],
   "source": [
    "# get loss as a function of vb parameters\n",
    "get_vb_params_loss = paragami.FlattenFunctionInput(\n",
    "                                original_fun=gmm_lib.get_kl, \n",
    "                                patterns = vb_params_paragami,\n",
    "                                free = True,\n",
    "                                argnums = 1)\n",
    "\n",
    "get_loss = lambda x : get_vb_params_loss(features, x, prior_params_dict, gh_loc, gh_weights)\n"
   ]
  },
  {
   "cell_type": "markdown",
   "metadata": {},
   "source": [
    "### Run Newton "
   ]
  },
  {
   "cell_type": "code",
   "execution_count": 11,
   "metadata": {
    "collapsed": false
   },
   "outputs": [
    {
     "name": "stdout",
     "output_type": "stream",
     "text": [
      "running bfgs ... \n",
      "Warning: Desired error not necessarily achieved due to precision loss.\n",
      "         Current function value: -371.915284\n",
      "         Iterations: 160\n",
      "         Function evaluations: 331\n",
      "         Gradient evaluations: 317\n",
      "\n",
      " running preconditioned newton; iter =  0\n",
      "computing preconditioner \n",
      "running newton steps\n",
      "Optimization terminated successfully.\n",
      "         Current function value: -371.915284\n",
      "         Iterations: 1\n",
      "         Function evaluations: 2\n",
      "         Gradient evaluations: 2\n",
      "         Hessian evaluations: 0\n",
      "Iter 0: x_diff = 1.5943563762933285e-05, f_diff = 5.684341886080801e-13, grad_l1 = 1.0978911606984832e-11\n",
      "done. \n"
     ]
    }
   ],
   "source": [
    "vb_opt = optimization_lib.optimize_full(get_loss, init_vb_free_params,\n",
    "                    bfgs_max_iter = 500, netwon_max_iter = 50,\n",
    "                    max_precondition_iter = 10,\n",
    "                    gtol=1e-8, ftol=1e-8, xtol=1e-8)"
   ]
  },
  {
   "cell_type": "code",
   "execution_count": 12,
   "metadata": {
    "collapsed": false
   },
   "outputs": [],
   "source": [
    "vb_opt_dict = vb_params_paragami.fold(vb_opt, free = True)\n",
    "e_z_opt = gmm_lib.get_optimal_z_from_vb_params_dict(features, vb_opt_dict, gh_loc, gh_weights)"
   ]
  },
  {
   "cell_type": "markdown",
   "metadata": {},
   "source": [
    "### Check results"
   ]
  },
  {
   "cell_type": "code",
   "execution_count": 13,
   "metadata": {
    "collapsed": true
   },
   "outputs": [],
   "source": [
    "def plot_results_from_vb_params_dict(pca_fit, vb_params_dict, e_z, fig): \n",
    "    # we plot in PCA space\n",
    "    bnp_centroids_pc, bnp_cluster_covs_pc = \\\n",
    "        utils_lib.transform_params_to_pc_space(pca_fit, vb_params_dict['centroids'], \n",
    "                                               np.linalg.inv(vb_params_dict['gamma']))\n",
    "    \n",
    "    bnp_clusters = np.argmax(e_z, axis = 1)\n",
    "    \n",
    "    cmap = cm.get_cmap(name='gist_rainbow')\n",
    "    colors1 = [cmap(k * 50) for k in range(30)]\n",
    "\n",
    "    utils_lib.plot_clusters(pc_features[:, 0], pc_features[:, 1], bnp_clusters, \\\n",
    "                  colors1, fig, \\\n",
    "                  centroids = bnp_centroids_pc[:, np.unique(bnp_clusters)], \n",
    "                cov = bnp_cluster_covs_pc[np.unique(bnp_clusters)])\n"
   ]
  },
  {
   "cell_type": "code",
   "execution_count": 14,
   "metadata": {
    "collapsed": false
   },
   "outputs": [
    {
     "data": {
      "text/plain": [
       "<matplotlib.text.Text at 0x7fa7d7153780>"
      ]
     },
     "execution_count": 14,
     "metadata": {},
     "output_type": "execute_result"
    },
    {
     "data": {
      "image/png": "[encoded data removed]",
      "text/plain": [
       "<matplotlib.figure.Figure at 0x7fa7d717edd8>"
      ]
     },
     "metadata": {},
     "output_type": "display_data"
    }
   ],
   "source": [
    "# Newton results\n",
    "fig1 = plt.figure(1)\n",
    "fig = fig1.add_subplot(111)\n",
    "\n",
    "plot_results_from_vb_params_dict(pca_fit, vb_opt_dict, e_z_opt, fig)\n",
    "fig.set_xlabel('PC1', fontsize = 18)\n",
    "fig.set_ylabel('PC2', fontsize = 18)\n"
   ]
  },
  {
   "cell_type": "markdown",
   "metadata": {},
   "source": [
    "# Parametric sensitivity"
   ]
  },
  {
   "cell_type": "markdown",
   "metadata": {},
   "source": [
    "### Get the hyper parameter sensitivity object"
   ]
  },
  {
   "cell_type": "code",
   "execution_count": 20,
   "metadata": {
    "collapsed": true
   },
   "outputs": [],
   "source": [
    "get_prior_vb_loss = paragami.FlattenFunctionInput(original_fun=gmm_lib.get_kl, \n",
    "                                    patterns = [vb_params_paragami, prior_params_paragami],\n",
    "                                    free = True,\n",
    "                                    argnums = [1, 2])"
   ]
  },
  {
   "cell_type": "code",
   "execution_count": 23,
   "metadata": {
    "collapsed": false
   },
   "outputs": [],
   "source": [
    "vb_sens = \\\n",
    "    vittles.HyperparameterSensitivityLinearApproximation(\n",
    "        objective_fun = lambda x, y: get_prior_vb_loss(features, x, y, gh_loc, gh_weights),\n",
    "        opt_par_value = vb_opt, \n",
    "        hyper_par_value = prior_params_paragami.flatten(prior_params_dict, free=True),\n",
    "        validate_optimum=False,\n",
    "        hessian_at_opt=None,\n",
    "        cross_hess_at_opt=None,\n",
    "        factorize_hessian=True,\n",
    "        hyper_par_objective_fun=None,\n",
    "        grad_tol=1e-8)\n"
   ]
  },
  {
   "cell_type": "markdown",
   "metadata": {},
   "source": [
    "### Set new prior"
   ]
  },
  {
   "cell_type": "code",
   "execution_count": 25,
   "metadata": {
    "collapsed": true
   },
   "outputs": [],
   "source": [
    "new_alpha = np.array([5.])\n",
    "\n",
    "prior_params_pert_dict = deepcopy(prior_params_dict)\n",
    "prior_params_pert_dict['alpha'] = new_alpha\n"
   ]
  },
  {
   "cell_type": "code",
   "execution_count": 26,
   "metadata": {
    "collapsed": false
   },
   "outputs": [
    {
     "name": "stdout",
     "output_type": "stream",
     "text": [
      "initial alpha,  3.5\n",
      "perturbed alpha,  [5.]\n"
     ]
    }
   ],
   "source": [
    "print('initial alpha, ', prior_params_dict['alpha'])\n",
    "print('perturbed alpha, ', prior_params_pert_dict['alpha'])"
   ]
  },
  {
   "cell_type": "markdown",
   "metadata": {},
   "source": [
    "### get linear response prediction"
   ]
  },
  {
   "cell_type": "code",
   "execution_count": 27,
   "metadata": {
    "collapsed": true
   },
   "outputs": [],
   "source": [
    "lr_vb_free_params = \\\n",
    "    vb_sens.predict_opt_par_from_hyper_par(\n",
    "        prior_params_paragami.flatten(prior_params_pert_dict, free = True))"
   ]
  },
  {
   "cell_type": "code",
   "execution_count": 28,
   "metadata": {
    "collapsed": false
   },
   "outputs": [
    {
     "name": "stdout",
     "output_type": "stream",
     "text": [
      "l_inf diff:  0.4180461125653897\n"
     ]
    }
   ],
   "source": [
    "print('l_inf diff: ', np.max(np.abs(lr_vb_free_params - vb_opt)))"
   ]
  },
  {
   "cell_type": "markdown",
   "metadata": {},
   "source": [
    "### re-optimize"
   ]
  },
  {
   "cell_type": "code",
   "execution_count": 29,
   "metadata": {
    "collapsed": true
   },
   "outputs": [],
   "source": [
    "# set up new objective, with the prior changed\n",
    "get_pert_loss = lambda x : get_vb_params_loss(features, x, prior_params_pert_dict, gh_loc, gh_weights)"
   ]
  },
  {
   "cell_type": "code",
   "execution_count": 30,
   "metadata": {
    "collapsed": false
   },
   "outputs": [
    {
     "name": "stdout",
     "output_type": "stream",
     "text": [
      "running bfgs ... \n",
      "Warning: Desired error not necessarily achieved due to precision loss.\n",
      "         Current function value: -357.909134\n",
      "         Iterations: 103\n",
      "         Function evaluations: 297\n",
      "         Gradient evaluations: 282\n",
      "\n",
      " running preconditioned newton; iter =  0\n",
      "computing preconditioner \n",
      "running newton steps\n",
      "Optimization terminated successfully.\n",
      "         Current function value: -357.909134\n",
      "         Iterations: 1\n",
      "         Function evaluations: 2\n",
      "         Gradient evaluations: 2\n",
      "         Hessian evaluations: 0\n",
      "Iter 0: x_diff = 2.6139920233995994e-05, f_diff = 3.410605131648481e-13, grad_l1 = 1.9254788570030054e-11\n",
      "done. \n"
     ]
    }
   ],
   "source": [
    "# Run newton\n",
    "vb_opt_pert = optimization_lib.optimize_full(get_pert_loss, deepcopy(vb_opt),\n",
    "                    bfgs_max_iter = 500, netwon_max_iter = 50,\n",
    "                    max_precondition_iter = 10,\n",
    "                    gtol=1e-8, ftol=1e-8, xtol=1e-8)"
   ]
  },
  {
   "cell_type": "markdown",
   "metadata": {},
   "source": [
    "### Compare linear response with refitting"
   ]
  },
  {
   "cell_type": "code",
   "execution_count": 31,
   "metadata": {
    "collapsed": true
   },
   "outputs": [],
   "source": [
    "def print_diff_plot(lr_vb_free_params, vb_opt_pert, vb_opt): \n",
    "    plt.plot(lr_vb_free_params - vb_opt, \n",
    "             vb_opt_pert - vb_opt, \n",
    "             '+', color = 'red')\n",
    "\n",
    "    plt.plot(lr_vb_free_params - vb_opt, \n",
    "            lr_vb_free_params - vb_opt, \n",
    "             '-', color = 'blue')\n",
    "\n",
    "    plt.xlabel('lr')\n",
    "    plt.ylabel('re-optimized')"
   ]
  },
  {
   "cell_type": "code",
   "execution_count": 32,
   "metadata": {
    "collapsed": false
   },
   "outputs": [
    {
     "data": {
      "image/png": "[encoded data removed]",
      "text/plain": [
       "<matplotlib.figure.Figure at 0x7fa7d705d080>"
      ]
     },
     "metadata": {},
     "output_type": "display_data"
    }
   ],
   "source": [
    "print_diff_plot(lr_vb_free_params, vb_opt_pert, vb_opt)"
   ]
  },
  {
   "cell_type": "markdown",
   "metadata": {
    "collapsed": true
   },
   "source": [
    "# Fit for a range of alpha "
   ]
  },
  {
   "cell_type": "code",
   "execution_count": 33,
   "metadata": {
    "collapsed": false
   },
   "outputs": [],
   "source": [
    "alpha_list = np.arange(1, 15)"
   ]
  },
  {
   "cell_type": "code",
   "execution_count": 34,
   "metadata": {
    "collapsed": true
   },
   "outputs": [],
   "source": [
    "def refit_with_alpha(alpha, vb_opt):\n",
    "    # sets new alpha, returns new vb optimum\n",
    "    \n",
    "    # set new prior\n",
    "    new_alpha = np.array([alpha])\n",
    "\n",
    "    prior_params_pert_dict = deepcopy(prior_params_dict)\n",
    "    prior_params_pert_dict['alpha'] = new_alpha\n",
    "    \n",
    "    # set up new objective, with the prior changed\n",
    "    get_pert_loss = lambda x : get_vb_params_loss(features, x, prior_params_pert_dict, gh_loc, gh_weights)\n",
    "    \n",
    "    # optimize\n",
    "    vb_opt_pert = optimization_lib.optimize_full(get_pert_loss,deepcopy(vb_opt),\n",
    "                    bfgs_max_iter = 500, netwon_max_iter = 50,\n",
    "                    max_precondition_iter = 10,\n",
    "                    gtol=1e-8, ftol=1e-8, xtol=1e-8)\n",
    "    \n",
    "    return vb_opt_pert"
   ]
  },
  {
   "cell_type": "markdown",
   "metadata": {},
   "source": [
    "### Re-optimize for range of alphas"
   ]
  },
  {
   "cell_type": "code",
   "execution_count": null,
   "metadata": {
    "collapsed": false
   },
   "outputs": [
    {
     "name": "stdout",
     "output_type": "stream",
     "text": [
      "alphas:  [ 1  2  3  4  5  6  7  8  9 10 11 12 13 14]\n"
     ]
    }
   ],
   "source": [
    "print('alphas: ', alpha_list)"
   ]
  },
  {
   "cell_type": "code",
   "execution_count": null,
   "metadata": {
    "collapsed": false,
    "scrolled": true
   },
   "outputs": [
    {
     "name": "stdout",
     "output_type": "stream",
     "text": [
      "re-optimzing with alpha =  1\n",
      "running bfgs ... \n",
      "Warning: Desired error not necessarily achieved due to precision loss.\n",
      "         Current function value: -412.668542\n",
      "         Iterations: 102\n",
      "         Function evaluations: 155\n",
      "         Gradient evaluations: 144\n",
      "\n",
      " running preconditioned newton; iter =  0\n",
      "computing preconditioner \n",
      "running newton steps\n",
      "Optimization terminated successfully.\n",
      "         Current function value: -412.668542\n",
      "         Iterations: 1\n",
      "         Function evaluations: 2\n",
      "         Gradient evaluations: 2\n",
      "         Hessian evaluations: 0\n",
      "Iter 0: x_diff = 1.5642851081382978e-05, f_diff = 3.410605131648481e-13, grad_l1 = 1.5248591452243555e-11\n",
      "done. \n",
      "re-optimzing with alpha =  2\n",
      "running bfgs ... \n",
      "Warning: Desired error not necessarily achieved due to precision loss.\n",
      "         Current function value: -391.456873\n",
      "         Iterations: 109\n",
      "         Function evaluations: 209\n",
      "         Gradient evaluations: 197\n",
      "\n",
      " running preconditioned newton; iter =  0\n",
      "computing preconditioner \n",
      "running newton steps\n",
      "Warning: A bad approximation caused failure to predict improvement.\n",
      "         Current function value: -391.456873\n",
      "         Iterations: 15\n",
      "         Function evaluations: 17\n",
      "         Gradient evaluations: 2\n",
      "         Hessian evaluations: 0\n",
      "Iter 0: x_diff = 9.94694105513873e-07, f_diff = 2.8421709430404007e-13, grad_l1 = 9.480508023027574e-06\n",
      "done. \n",
      "re-optimzing with alpha =  3\n",
      "running bfgs ... \n",
      "Warning: Desired error not necessarily achieved due to precision loss.\n",
      "         Current function value: -377.568719\n",
      "         Iterations: 94\n",
      "         Function evaluations: 190\n",
      "         Gradient evaluations: 179\n",
      "\n",
      " running preconditioned newton; iter =  0\n",
      "computing preconditioner \n",
      "running newton steps\n",
      "Optimization terminated successfully.\n",
      "         Current function value: -377.568719\n",
      "         Iterations: 1\n",
      "         Function evaluations: 2\n",
      "         Gradient evaluations: 2\n",
      "         Hessian evaluations: 0\n",
      "Iter 0: x_diff = 4.92682450679779e-05, f_diff = 1.9326762412674725e-12, grad_l1 = 4.4782374196817015e-11\n",
      "done. \n",
      "re-optimzing with alpha =  4\n",
      "running bfgs ... \n",
      "Warning: Desired error not necessarily achieved due to precision loss.\n",
      "         Current function value: -366.830611\n",
      "         Iterations: 98\n",
      "         Function evaluations: 284\n",
      "         Gradient evaluations: 268\n",
      "\n",
      " running preconditioned newton; iter =  0\n",
      "computing preconditioner \n",
      "running newton steps\n",
      "Optimization terminated successfully.\n",
      "         Current function value: -366.830611\n",
      "         Iterations: 1\n",
      "         Function evaluations: 2\n",
      "         Gradient evaluations: 2\n",
      "         Hessian evaluations: 0\n",
      "Iter 0: x_diff = 2.1280377465048523e-05, f_diff = 6.252776074688882e-13, grad_l1 = 1.4227254844448911e-11\n",
      "done. \n",
      "re-optimzing with alpha =  5\n",
      "running bfgs ... \n",
      "Warning: Desired error not necessarily achieved due to precision loss.\n",
      "         Current function value: -357.909134\n",
      "         Iterations: 103\n",
      "         Function evaluations: 297\n",
      "         Gradient evaluations: 282\n",
      "\n",
      " running preconditioned newton; iter =  0\n",
      "computing preconditioner \n",
      "running newton steps\n",
      "Optimization terminated successfully.\n",
      "         Current function value: -357.909134\n",
      "         Iterations: 1\n",
      "         Function evaluations: 2\n",
      "         Gradient evaluations: 2\n",
      "         Hessian evaluations: 0\n",
      "Iter 0: x_diff = 2.6139920233995994e-05, f_diff = 3.410605131648481e-13, grad_l1 = 1.9254788570030054e-11\n",
      "done. \n",
      "re-optimzing with alpha =  6\n",
      "running bfgs ... \n",
      "Warning: Desired error not necessarily achieved due to precision loss.\n",
      "         Current function value: -350.192176\n",
      "         Iterations: 103\n",
      "         Function evaluations: 230\n",
      "         Gradient evaluations: 220\n",
      "\n",
      " running preconditioned newton; iter =  0\n",
      "computing preconditioner \n",
      "running newton steps\n",
      "Optimization terminated successfully.\n",
      "         Current function value: -350.192176\n",
      "         Iterations: 1\n",
      "         Function evaluations: 2\n",
      "         Gradient evaluations: 2\n",
      "         Hessian evaluations: 0\n",
      "Iter 0: x_diff = 5.427491820521899e-05, f_diff = 3.410605131648481e-13, grad_l1 = 4.110958844431898e-11\n",
      "done. \n",
      "re-optimzing with alpha =  7\n",
      "running bfgs ... \n",
      "Warning: Desired error not necessarily achieved due to precision loss.\n",
      "         Current function value: -343.356869\n",
      "         Iterations: 100\n",
      "         Function evaluations: 245\n",
      "         Gradient evaluations: 236\n",
      "\n",
      " running preconditioned newton; iter =  0\n",
      "computing preconditioner \n",
      "running newton steps\n",
      "Optimization terminated successfully.\n",
      "         Current function value: -343.356869\n",
      "         Iterations: 1\n",
      "         Function evaluations: 2\n",
      "         Gradient evaluations: 2\n",
      "         Hessian evaluations: 0\n",
      "Iter 0: x_diff = 6.763489841346619e-05, f_diff = 5.002220859751105e-12, grad_l1 = 9.77881347802428e-11\n",
      "done. \n",
      "re-optimzing with alpha =  8\n",
      "running bfgs ... \n"
     ]
    }
   ],
   "source": [
    "vb_pert_list = []\n",
    "for alpha in alpha_list: \n",
    "    print('re-optimzing with alpha = ', alpha)\n",
    "    \n",
    "    vb_pert_list.append(refit_with_alpha(alpha, vb_opt))"
   ]
  },
  {
   "cell_type": "markdown",
   "metadata": {},
   "source": [
    "### get linear response prediction for each alpha"
   ]
  },
  {
   "cell_type": "code",
   "execution_count": null,
   "metadata": {
    "collapsed": true
   },
   "outputs": [],
   "source": [
    "lr_list = []\n",
    "\n",
    "for alpha in alpha_list: \n",
    "    \n",
    "    # set alpha \n",
    "    new_alpha = np.array([alpha])\n",
    "    prior_params_pert_dict = deepcopy(prior_params_dict)\n",
    "    prior_params_pert_dict['alpha'] = new_alpha\n",
    "    \n",
    "    # get linear response\n",
    "    lr_list.append(vb_sens.predict_opt_par_from_hyper_par(\n",
    "        prior_params_paragami.flatten(prior_params_pert_dict, free = True)))\n",
    "    "
   ]
  },
  {
   "cell_type": "markdown",
   "metadata": {},
   "source": [
    "### examine results "
   ]
  },
  {
   "cell_type": "code",
   "execution_count": null,
   "metadata": {
    "collapsed": false
   },
   "outputs": [],
   "source": [
    "for i in range(len(alpha_list)): \n",
    "    plt.figure()\n",
    "    print_diff_plot(lr_list[i], vb_pert_list[i], vb_opt)\n",
    "    \n",
    "    plt.title('alpha = {}'.format(alpha_list[i]))\n",
    "    "
   ]
  },
  {
   "cell_type": "markdown",
   "metadata": {},
   "source": [
    "# Check results on number of clusters"
   ]
  },
  {
   "cell_type": "markdown",
   "metadata": {},
   "source": [
    "### results on number of in-sample clusters"
   ]
  },
  {
   "cell_type": "code",
   "execution_count": null,
   "metadata": {
    "collapsed": false
   },
   "outputs": [],
   "source": [
    "threshold = 0\n",
    "\n",
    "lr_e_num_clusters_vec = np.zeros(len(alpha_list))\n",
    "refit_e_num_clusters_vec = np.zeros(len(alpha_list))\n",
    "\n",
    "for i in range(len(alpha_list)): \n",
    "    # number of clusters as predicted by linear response\n",
    "    lr_e_num_clusters, _ = gmm_lib.get_e_num_clusters_from_free_par(features, vb_params_paragami, \n",
    "                                    lr_list[i],\n",
    "                                    gh_loc, gh_weights,\n",
    "                                    threshold = threshold,\n",
    "                                    n_samples = 100000)\n",
    "    \n",
    "    lr_e_num_clusters_vec[i] = lr_e_num_clusters\n",
    "    \n",
    "    # number of clusters after refitting \n",
    "    refit_e_num_clusters, _ = gmm_lib.get_e_num_clusters_from_free_par(features, vb_params_paragami, \n",
    "                                    vb_pert_list[i],\n",
    "                                    gh_loc, gh_weights,\n",
    "                                    threshold = threshold,\n",
    "                                    n_samples = 100000)\n",
    "    \n",
    "    refit_e_num_clusters_vec[i] = refit_e_num_clusters\n",
    "    \n"
   ]
  },
  {
   "cell_type": "code",
   "execution_count": null,
   "metadata": {
    "collapsed": false
   },
   "outputs": [],
   "source": [
    "plt.plot(alpha_list, lr_e_num_clusters_vec, '+--')\n",
    "plt.plot(alpha_list, refit_e_num_clusters_vec, '+-')\n",
    "\n",
    "plt.xlabel('alpha')\n",
    "plt.ylabel('num posterior clusters')\n",
    "plt.legend(('lr', 'refit'))\n",
    "\n",
    "plt.axvline(prior_params_dict['alpha'], color = 'red', linestyle = 'dashed')\n"
   ]
  },
  {
   "cell_type": "markdown",
   "metadata": {},
   "source": [
    "### Results on posterior predictive clusters"
   ]
  },
  {
   "cell_type": "code",
   "execution_count": null,
   "metadata": {
    "collapsed": false
   },
   "outputs": [],
   "source": [
    "threshold = 0\n",
    "\n",
    "lr_e_num_pred_clusters_vec = np.zeros(len(alpha_list))\n",
    "refit_e_num_pred_clusters_vec = np.zeros(len(alpha_list))\n",
    "\n",
    "for i in range(len(alpha_list)): \n",
    "     # number of clusters as predicted by linear response\n",
    "    lr_e_num_pred_clusters = gmm_lib.get_e_num_pred_clusters_from_vb_free_params(vb_params_paragami, \n",
    "                                    lr_list[i],\n",
    "                                    n_obs = np.shape(features)[0], \n",
    "                                    threshold = threshold,\n",
    "                                    n_samples = 100000)\n",
    "    \n",
    "    lr_e_num_pred_clusters_vec[i] = lr_e_num_pred_clusters\n",
    "    \n",
    "    # number of clusters after refitting \n",
    "    refit_e_num_pred_clusters = gmm_lib.get_e_num_pred_clusters_from_vb_free_params(vb_params_paragami, \n",
    "                                    vb_pert_list[i],\n",
    "                                    n_obs = np.shape(features)[0], \n",
    "                                    threshold = threshold,\n",
    "                                    n_samples = 100000)\n",
    "    \n",
    "    refit_e_num_pred_clusters_vec[i] = refit_e_num_pred_clusters\n",
    "    \n"
   ]
  },
  {
   "cell_type": "code",
   "execution_count": null,
   "metadata": {
    "collapsed": false
   },
   "outputs": [],
   "source": [
    "plt.plot(alpha_list, lr_e_num_pred_clusters_vec, '+--')\n",
    "plt.plot(alpha_list, refit_e_num_pred_clusters_vec, '+-')\n",
    "\n",
    "plt.xlabel('alpha')\n",
    "plt.ylabel('num posterior clusters')\n",
    "plt.legend(('lr', 'refit'))\n",
    "\n",
    "plt.axvline(prior_params_dict['alpha'], color = 'red', linestyle = 'dashed')\n"
   ]
  },
  {
   "cell_type": "code",
   "execution_count": null,
   "metadata": {
    "collapsed": true
   },
   "outputs": [],
   "source": []
  },
  {
   "cell_type": "code",
   "execution_count": null,
   "metadata": {
    "collapsed": true
   },
   "outputs": [],
   "source": []
  }
 ],
 "metadata": {
  "kernelspec": {
   "display_name": "Python 3",
   "language": "python",
   "name": "python3"
  },
  "language_info": {
   "codemirror_mode": {
    "name": "ipython",
    "version": 3
   },
   "file_extension": ".py",
   "mimetype": "text/x-python",
   "name": "python",
   "nbconvert_exporter": "python",
   "pygments_lexer": "ipython3",
   "version": "3.6.0"
  }
 },
 "nbformat": 4,
 "nbformat_minor": 2
}
