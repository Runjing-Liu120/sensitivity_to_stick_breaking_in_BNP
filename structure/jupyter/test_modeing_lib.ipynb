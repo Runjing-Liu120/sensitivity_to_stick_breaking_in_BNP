{
 "cells": [
  {
   "cell_type": "code",
   "execution_count": 1,
   "metadata": {
    "collapsed": false
   },
   "outputs": [],
   "source": [
    "import autograd.numpy as np\n",
    "import autograd.scipy as sp\n",
    "from numpy.polynomial.hermite import hermgauss\n",
    "\n",
    "import numpy.testing as np_test\n",
    "\n",
    "import sys\n",
    "sys.path.insert(0, '../libraries/')\n",
    "sys.path.insert(0, '../../BNP_modeling/')\n",
    "\n",
    "import structure_model_lib\n",
    "import modeling_lib\n",
    "import data_utils"
   ]
  },
  {
   "cell_type": "markdown",
   "metadata": {
    "collapsed": true
   },
   "source": [
    "# Draw data"
   ]
  },
  {
   "cell_type": "code",
   "execution_count": 2,
   "metadata": {
    "collapsed": false
   },
   "outputs": [],
   "source": [
    "n_obs = 10\n",
    "n_loci = 5\n",
    "\n",
    "# this is just done randomly at the moment\n",
    "# a matrix of integers {0, 1, 2}\n",
    "g_obs_int = np.random.choice(3, size = (n_obs, n_loci))\n",
    "\n",
    "# one hot encoding\n",
    "g_obs = data_utils.get_one_hot(g_obs_int, 3)\n",
    "assert g_obs.shape == (n_obs, n_loci, 3)"
   ]
  },
  {
   "cell_type": "markdown",
   "metadata": {},
   "source": [
    "# Get prior"
   ]
  },
  {
   "cell_type": "code",
   "execution_count": 3,
   "metadata": {
    "collapsed": false
   },
   "outputs": [
    {
     "name": "stdout",
     "output_type": "stream",
     "text": [
      "OrderedDict:\n",
      "\t[dp_prior_alpha] = NumericArrayPattern (1,) (lb=0.0, ub=inf)\n",
      "\t[allele_prior_alpha] = NumericArrayPattern (1,) (lb=0.0, ub=inf)\n",
      "\t[allele_prior_beta] = NumericArrayPattern (1,) (lb=0.0, ub=inf)\n"
     ]
    }
   ],
   "source": [
    "prior_params_dict, prior_params_paragami = \\\n",
    "    structure_model_lib.get_default_prior_params()\n",
    "\n",
    "print(prior_params_paragami)"
   ]
  },
  {
   "cell_type": "markdown",
   "metadata": {},
   "source": [
    "# Get VB params "
   ]
  },
  {
   "cell_type": "code",
   "execution_count": 4,
   "metadata": {
    "collapsed": false,
    "scrolled": true
   },
   "outputs": [
    {
     "name": "stdout",
     "output_type": "stream",
     "text": [
      "OrderedDict:\n",
      "\t[pop_freq_beta_params] = NumericArrayPattern (5, 12, 2) (lb=0.0, ub=inf)\n",
      "\t[ind_mix_stick_propn_mean] = NumericArrayPattern (10, 11) (lb=-inf, ub=inf)\n",
      "\t[ind_mix_stick_propn_info] = NumericArrayPattern (10, 11) (lb=0.0001, ub=inf)\n"
     ]
    }
   ],
   "source": [
    "k_approx = 12\n",
    "vb_params_dict, vb_params_paragami = \\\n",
    "    structure_model_lib.get_vb_params_paragami_object(n_obs, n_loci, k_approx)\n",
    "    \n",
    "print(vb_params_paragami)"
   ]
  },
  {
   "cell_type": "markdown",
   "metadata": {},
   "source": [
    "# Check that get_e_log_logitnormal works with arrays"
   ]
  },
  {
   "cell_type": "code",
   "execution_count": 5,
   "metadata": {
    "collapsed": false
   },
   "outputs": [],
   "source": [
    "gh_deg = 8\n",
    "gh_loc, gh_weights = hermgauss(8)"
   ]
  },
  {
   "cell_type": "code",
   "execution_count": 6,
   "metadata": {
    "collapsed": true
   },
   "outputs": [],
   "source": [
    "dp_prior_alpha = prior_params_dict['dp_prior_alpha']\n",
    "ind_mix_stick_propn_mean = vb_params_dict['ind_mix_stick_propn_mean']\n",
    "ind_mix_stick_propn_info = vb_params_dict['ind_mix_stick_propn_info']"
   ]
  },
  {
   "cell_type": "code",
   "execution_count": 7,
   "metadata": {
    "collapsed": true
   },
   "outputs": [],
   "source": [
    "e_log_v, e_log_1mv = \\\n",
    "        structure_model_lib.ef.get_e_log_logitnormal(\n",
    "                                    lognorm_means = ind_mix_stick_propn_mean,\n",
    "                                    lognorm_infos = ind_mix_stick_propn_info,\n",
    "                                    gh_loc = gh_loc,\n",
    "                                    gh_weights = gh_weights)"
   ]
  },
  {
   "cell_type": "code",
   "execution_count": 8,
   "metadata": {
    "collapsed": true
   },
   "outputs": [],
   "source": [
    "# sample from logit-normal\n",
    "num_draws = 10**5\n",
    "samples = np.random.normal(ind_mix_stick_propn_mean,\n",
    "                1/np.sqrt(ind_mix_stick_propn_info), size = (num_draws, n_obs, k_approx - 1))\n",
    "logit_norm_samples = sp.special.expit(samples)"
   ]
  },
  {
   "cell_type": "code",
   "execution_count": 9,
   "metadata": {
    "collapsed": true
   },
   "outputs": [],
   "source": [
    "e_log_samples = np.log(logit_norm_samples) \n",
    "e_log_1m_samples = np.log(1 - logit_norm_samples) "
   ]
  },
  {
   "cell_type": "code",
   "execution_count": 10,
   "metadata": {
    "collapsed": false
   },
   "outputs": [],
   "source": [
    "diff1 = np.abs(e_log_v - e_log_samples.mean(axis = 0))\n",
    "diff2 = np.abs(e_log_1mv - e_log_1m_samples.mean(axis = 0)) "
   ]
  },
  {
   "cell_type": "code",
   "execution_count": 11,
   "metadata": {
    "collapsed": false
   },
   "outputs": [],
   "source": [
    "assert(np.sum(diff1 > 3 * e_log_samples.std(axis = 0)) == 0)\n",
    "assert(np.sum(diff2 > 3 * e_log_1m_samples.std(axis = 0)) == 0)"
   ]
  },
  {
   "cell_type": "code",
   "execution_count": 12,
   "metadata": {
    "collapsed": false
   },
   "outputs": [
    {
     "name": "stdout",
     "output_type": "stream",
     "text": [
      "0.003003696622445262\n"
     ]
    }
   ],
   "source": [
    "print(np.max(diff1))"
   ]
  },
  {
   "cell_type": "code",
   "execution_count": 13,
   "metadata": {
    "collapsed": false
   },
   "outputs": [
    {
     "name": "stdout",
     "output_type": "stream",
     "text": [
      "0.003917942978577393\n"
     ]
    }
   ],
   "source": [
    "print(np.max(diff2))"
   ]
  },
  {
   "cell_type": "markdown",
   "metadata": {},
   "source": [
    "# Test dp prior"
   ]
  },
  {
   "cell_type": "code",
   "execution_count": 14,
   "metadata": {
    "collapsed": false
   },
   "outputs": [],
   "source": [
    "# get dp prior\n",
    "e_dp_prior = modeling_lib.get_e_logitnorm_dp_prior(ind_mix_stick_propn_mean,\n",
    "                                            ind_mix_stick_propn_info,\n",
    "                                            dp_prior_alpha, gh_loc, gh_weights)"
   ]
  },
  {
   "cell_type": "code",
   "execution_count": 15,
   "metadata": {
    "collapsed": false
   },
   "outputs": [],
   "source": [
    "# sample from logit-normal\n",
    "num_draws = 10**5\n",
    "samples = np.random.normal(ind_mix_stick_propn_mean,\n",
    "                1/np.sqrt(ind_mix_stick_propn_info), size = (num_draws, n_obs, k_approx - 1))\n",
    "logit_norm_samples = sp.special.expit(samples)"
   ]
  },
  {
   "cell_type": "code",
   "execution_count": 16,
   "metadata": {
    "collapsed": true
   },
   "outputs": [],
   "source": [
    "# samples of the dp_prior\n",
    "dp_prior_samples = (np.log(1 - logit_norm_samples) * (dp_prior_alpha - 1)).sum(axis = 2).sum(axis = 1)"
   ]
  },
  {
   "cell_type": "code",
   "execution_count": 17,
   "metadata": {
    "collapsed": false
   },
   "outputs": [],
   "source": [
    "dp_prior_samples_mean = np.mean(dp_prior_samples)\n",
    "dp_prior_samples_std = np.std(dp_prior_samples)"
   ]
  },
  {
   "cell_type": "code",
   "execution_count": 18,
   "metadata": {
    "collapsed": false
   },
   "outputs": [
    {
     "name": "stdout",
     "output_type": "stream",
     "text": [
      "[-230.94815387]\n",
      "-230.92738325796037\n",
      "0.03267212975421389\n"
     ]
    }
   ],
   "source": [
    "print(e_dp_prior)\n",
    "print(dp_prior_samples_mean)\n",
    "print(dp_prior_samples_std / np.sqrt(num_draws))"
   ]
  },
  {
   "cell_type": "code",
   "execution_count": 19,
   "metadata": {
    "collapsed": false
   },
   "outputs": [],
   "source": [
    "np_test.assert_allclose(\n",
    "            dp_prior_samples_mean,\n",
    "            e_dp_prior,\n",
    "            atol = 3 * dp_prior_samples_std / np.sqrt(num_draws))"
   ]
  },
  {
   "cell_type": "code",
   "execution_count": null,
   "metadata": {
    "collapsed": true
   },
   "outputs": [],
   "source": []
  },
  {
   "cell_type": "markdown",
   "metadata": {},
   "source": [
    "# Test stick-breaking entropy"
   ]
  },
  {
   "cell_type": "code",
   "execution_count": 20,
   "metadata": {
    "collapsed": false
   },
   "outputs": [
    {
     "data": {
      "text/plain": [
       "-47.319134678422415"
      ]
     },
     "execution_count": 20,
     "metadata": {},
     "output_type": "execute_result"
    }
   ],
   "source": [
    "modeling_lib.get_stick_breaking_entropy(ind_mix_stick_propn_mean,\n",
    "                                            ind_mix_stick_propn_info,\n",
    "                                            gh_loc, gh_weights)"
   ]
  },
  {
   "cell_type": "code",
   "execution_count": null,
   "metadata": {
    "collapsed": true
   },
   "outputs": [],
   "source": []
  },
  {
   "cell_type": "markdown",
   "metadata": {},
   "source": [
    "# E log cluster probabilities"
   ]
  },
  {
   "cell_type": "code",
   "execution_count": 21,
   "metadata": {
    "collapsed": false
   },
   "outputs": [],
   "source": [
    "e_log_cluster_prob = modeling_lib.get_e_log_cluster_probabilities(ind_mix_stick_propn_mean,\n",
    "                                            ind_mix_stick_propn_info,\n",
    "                                            gh_loc, gh_weights)"
   ]
  },
  {
   "cell_type": "code",
   "execution_count": 22,
   "metadata": {
    "collapsed": false
   },
   "outputs": [
    {
     "data": {
      "text/plain": [
       "(10, 12)"
      ]
     },
     "execution_count": 22,
     "metadata": {},
     "output_type": "execute_result"
    }
   ],
   "source": [
    "e_log_cluster_prob.shape"
   ]
  },
  {
   "cell_type": "markdown",
   "metadata": {},
   "source": [
    "# Beta entropy term"
   ]
  },
  {
   "cell_type": "code",
   "execution_count": 23,
   "metadata": {
    "collapsed": true
   },
   "outputs": [],
   "source": [
    "pop_freq_beta_params = vb_params_dict['pop_freq_beta_params']"
   ]
  },
  {
   "cell_type": "code",
   "execution_count": 24,
   "metadata": {
    "collapsed": false
   },
   "outputs": [],
   "source": [
    "lk = pop_freq_beta_params.shape[0] * pop_freq_beta_params.shape[1]\n",
    "beta_entropy = structure_model_lib.ef.beta_entropy(tau = pop_freq_beta_params.reshape((lk, 2)))"
   ]
  },
  {
   "cell_type": "code",
   "execution_count": 25,
   "metadata": {
    "collapsed": false
   },
   "outputs": [
    {
     "data": {
      "text/plain": [
       "-7.576814396426089"
      ]
     },
     "execution_count": 25,
     "metadata": {},
     "output_type": "execute_result"
    }
   ],
   "source": [
    "beta_entropy"
   ]
  },
  {
   "cell_type": "code",
   "execution_count": 26,
   "metadata": {
    "collapsed": false
   },
   "outputs": [
    {
     "data": {
      "text/plain": [
       "(5, 12, 2)"
      ]
     },
     "execution_count": 26,
     "metadata": {},
     "output_type": "execute_result"
    }
   ],
   "source": [
    "pop_freq_beta_params.shape"
   ]
  },
  {
   "cell_type": "code",
   "execution_count": 27,
   "metadata": {
    "collapsed": false
   },
   "outputs": [],
   "source": [
    "beta_samples = np.random.beta(a = pop_freq_beta_params[:, :, 0], b = pop_freq_beta_params[:, :, 1], \n",
    "               size = (num_draws, n_loci, k_approx))"
   ]
  },
  {
   "cell_type": "code",
   "execution_count": 28,
   "metadata": {
    "collapsed": false
   },
   "outputs": [],
   "source": [
    "beta_entropy_samples = -sp.stats.beta.logpdf(beta_samples, \n",
    "                          pop_freq_beta_params[:, :, 0], \n",
    "                          pop_freq_beta_params[:, :, 1]).sum(axis = 2).sum(axis = 1)"
   ]
  },
  {
   "cell_type": "code",
   "execution_count": 29,
   "metadata": {
    "collapsed": false
   },
   "outputs": [
    {
     "name": "stdout",
     "output_type": "stream",
     "text": [
      "-7.576814396426089\n",
      "-7.557031179979996\n",
      "0.009450833993950044\n"
     ]
    }
   ],
   "source": [
    "print(beta_entropy)\n",
    "print(beta_entropy_samples.mean())\n",
    "print(beta_entropy_samples.std() / np.sqrt(num_draws))"
   ]
  },
  {
   "cell_type": "code",
   "execution_count": 30,
   "metadata": {
    "collapsed": false
   },
   "outputs": [],
   "source": [
    "np_test.assert_allclose(\n",
    "            beta_entropy_samples.mean(),\n",
    "            beta_entropy,\n",
    "            atol = 3 * beta_entropy_samples.std() / np.sqrt(num_draws))"
   ]
  },
  {
   "cell_type": "code",
   "execution_count": null,
   "metadata": {
    "collapsed": true
   },
   "outputs": [],
   "source": []
  },
  {
   "cell_type": "code",
   "execution_count": 31,
   "metadata": {
    "collapsed": true
   },
   "outputs": [],
   "source": [
    "# check e_log_beta "
   ]
  },
  {
   "cell_type": "code",
   "execution_count": 32,
   "metadata": {
    "collapsed": false
   },
   "outputs": [],
   "source": [
    "e_log_beta, e_log_1mbeta = modeling_lib.get_e_log_beta(tau = pop_freq_beta_params)"
   ]
  },
  {
   "cell_type": "code",
   "execution_count": 33,
   "metadata": {
    "collapsed": false
   },
   "outputs": [
    {
     "data": {
      "text/plain": [
       "(5, 12)"
      ]
     },
     "execution_count": 33,
     "metadata": {},
     "output_type": "execute_result"
    }
   ],
   "source": [
    "e_log_beta.shape"
   ]
  },
  {
   "cell_type": "code",
   "execution_count": 34,
   "metadata": {
    "collapsed": false
   },
   "outputs": [
    {
     "data": {
      "text/plain": [
       "(5, 12)"
      ]
     },
     "execution_count": 34,
     "metadata": {},
     "output_type": "execute_result"
    }
   ],
   "source": [
    "e_log_1mbeta.shape"
   ]
  },
  {
   "cell_type": "code",
   "execution_count": 35,
   "metadata": {
    "collapsed": false
   },
   "outputs": [],
   "source": [
    "e_log_beta_samples = np.log(beta_samples)\n",
    "e_log_1mbeta_samples = np.log(1 - beta_samples)"
   ]
  },
  {
   "cell_type": "code",
   "execution_count": 36,
   "metadata": {
    "collapsed": false
   },
   "outputs": [],
   "source": [
    "diff1 = np.abs(e_log_beta - e_log_beta_samples.mean(axis = 0))\n",
    "diff2 = np.abs(e_log_1mbeta - e_log_1mbeta_samples.mean(axis = 0)) "
   ]
  },
  {
   "cell_type": "code",
   "execution_count": 37,
   "metadata": {
    "collapsed": false
   },
   "outputs": [],
   "source": [
    "assert(np.sum(diff1 > 3 * e_log_beta_samples.std(axis = 0)) == 0)\n",
    "assert(np.sum(diff2 > 3 * e_log_1mbeta_samples.std(axis = 0)) == 0)"
   ]
  },
  {
   "cell_type": "code",
   "execution_count": 38,
   "metadata": {
    "collapsed": false
   },
   "outputs": [
    {
     "name": "stdout",
     "output_type": "stream",
     "text": [
      "0.009431124266855995\n"
     ]
    }
   ],
   "source": [
    "print(np.max(diff1))"
   ]
  },
  {
   "cell_type": "code",
   "execution_count": 39,
   "metadata": {
    "collapsed": false
   },
   "outputs": [
    {
     "name": "stdout",
     "output_type": "stream",
     "text": [
      "0.007277247168444134\n"
     ]
    }
   ],
   "source": [
    "print(np.max(diff2))"
   ]
  },
  {
   "cell_type": "code",
   "execution_count": null,
   "metadata": {
    "collapsed": true
   },
   "outputs": [],
   "source": []
  }
 ],
 "metadata": {
  "kernelspec": {
   "display_name": "Python 3",
   "language": "python",
   "name": "python3"
  },
  "language_info": {
   "codemirror_mode": {
    "name": "ipython",
    "version": 3
   },
   "file_extension": ".py",
   "mimetype": "text/x-python",
   "name": "python",
   "nbconvert_exporter": "python",
   "pygments_lexer": "ipython3",
   "version": "3.6.0"
  }
 },
 "nbformat": 4,
 "nbformat_minor": 2
}
