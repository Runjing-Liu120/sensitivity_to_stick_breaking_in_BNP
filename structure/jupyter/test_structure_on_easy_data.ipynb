{
 "cells": [
  {
   "cell_type": "code",
   "execution_count": 1,
   "metadata": {
    "collapsed": false
   },
   "outputs": [],
   "source": [
    "import autograd \n",
    "\n",
    "import autograd.numpy as np\n",
    "import autograd.scipy as sp\n",
    "from numpy.polynomial.hermite import hermgauss\n",
    "\n",
    "import numpy.testing as np_test\n",
    "\n",
    "import sys\n",
    "sys.path.insert(0, '../libraries/')\n",
    "sys.path.insert(0, '../../BNP_modeling/')\n",
    "\n",
    "import structure_model_lib\n",
    "import modeling_lib\n",
    "import data_utils\n",
    "import optimization_lib as opt_lib\n",
    "\n",
    "import paragami\n",
    "\n",
    "from itertools import permutations\n",
    "\n",
    "import cluster_quantities_lib"
   ]
  },
  {
   "cell_type": "code",
   "execution_count": 2,
   "metadata": {
    "collapsed": true
   },
   "outputs": [],
   "source": [
    "np.random.seed(534534)"
   ]
  },
  {
   "cell_type": "markdown",
   "metadata": {
    "collapsed": true
   },
   "source": [
    "# Draw data"
   ]
  },
  {
   "cell_type": "code",
   "execution_count": 3,
   "metadata": {
    "collapsed": false
   },
   "outputs": [],
   "source": [
    "n_obs = 160\n",
    "n_loci = 5\n",
    "n_pop = 4\n",
    "\n",
    "# population allele frequencies\n",
    "p1 = 0.99\n",
    "p0 = 0.01\n",
    "true_pop_allele_freq = np.maximum(np.eye(n_loci, n_pop) * p1, p0)\n",
    "\n",
    "# individual admixtures\n",
    "scale = 10\n",
    "true_ind_admix_propn = np.random.choice(n_pop, n_obs)\n",
    "true_ind_admix_propn = scale * data_utils.get_one_hot(true_ind_admix_propn, nb_classes = n_pop)\n",
    "true_ind_admix_propn = np.exp(true_ind_admix_propn) / np.exp(true_ind_admix_propn).sum(axis = 1, keepdims=True)"
   ]
  },
  {
   "cell_type": "code",
   "execution_count": 4,
   "metadata": {
    "collapsed": false
   },
   "outputs": [
    {
     "name": "stdout",
     "output_type": "stream",
     "text": [
      "[[0.99 0.01 0.01 0.01]\n",
      " [0.01 0.99 0.01 0.01]\n",
      " [0.01 0.01 0.99 0.01]\n",
      " [0.01 0.01 0.01 0.99]\n",
      " [0.01 0.01 0.01 0.01]]\n"
     ]
    }
   ],
   "source": [
    "print(true_pop_allele_freq)"
   ]
  },
  {
   "cell_type": "code",
   "execution_count": 5,
   "metadata": {
    "collapsed": false
   },
   "outputs": [
    {
     "data": {
      "text/plain": [
       "array([[9.99863819e-01, 4.53937471e-05, 4.53937471e-05, 4.53937471e-05],\n",
       "       [9.99863819e-01, 4.53937471e-05, 4.53937471e-05, 4.53937471e-05],\n",
       "       [4.53937471e-05, 4.53937471e-05, 9.99863819e-01, 4.53937471e-05],\n",
       "       [9.99863819e-01, 4.53937471e-05, 4.53937471e-05, 4.53937471e-05],\n",
       "       [4.53937471e-05, 9.99863819e-01, 4.53937471e-05, 4.53937471e-05]])"
      ]
     },
     "execution_count": 5,
     "metadata": {},
     "output_type": "execute_result"
    }
   ],
   "source": [
    "true_ind_admix_propn[0:5, :]"
   ]
  },
  {
   "cell_type": "code",
   "execution_count": 6,
   "metadata": {
    "collapsed": false
   },
   "outputs": [],
   "source": [
    "g_obs = data_utils.draw_data(true_pop_allele_freq, true_ind_admix_propn)"
   ]
  },
  {
   "cell_type": "markdown",
   "metadata": {},
   "source": [
    "# Get prior"
   ]
  },
  {
   "cell_type": "code",
   "execution_count": 7,
   "metadata": {
    "collapsed": false
   },
   "outputs": [
    {
     "name": "stdout",
     "output_type": "stream",
     "text": [
      "OrderedDict:\n",
      "\t[dp_prior_alpha] = NumericArrayPattern (1,) (lb=0.0, ub=inf)\n",
      "\t[allele_prior_alpha] = NumericArrayPattern (1,) (lb=0.0, ub=inf)\n",
      "\t[allele_prior_beta] = NumericArrayPattern (1,) (lb=0.0, ub=inf)\n"
     ]
    }
   ],
   "source": [
    "prior_params_dict, prior_params_paragami = \\\n",
    "    structure_model_lib.get_default_prior_params()\n",
    "\n",
    "print(prior_params_paragami)"
   ]
  },
  {
   "cell_type": "markdown",
   "metadata": {},
   "source": [
    "# Get VB params "
   ]
  },
  {
   "cell_type": "code",
   "execution_count": 8,
   "metadata": {
    "collapsed": false,
    "scrolled": true
   },
   "outputs": [
    {
     "name": "stdout",
     "output_type": "stream",
     "text": [
      "OrderedDict:\n",
      "\t[pop_freq_beta_params] = NumericArrayPattern (5, 4, 2) (lb=0.0, ub=inf)\n",
      "\t[ind_mix_stick_propn_mean] = NumericArrayPattern (160, 3) (lb=-inf, ub=inf)\n",
      "\t[ind_mix_stick_propn_info] = NumericArrayPattern (160, 3) (lb=0.0001, ub=inf)\n"
     ]
    }
   ],
   "source": [
    "k_approx = n_pop\n",
    "vb_params_dict, vb_params_paragami = \\\n",
    "    structure_model_lib.get_vb_params_paragami_object(n_obs, n_loci, k_approx)\n",
    "    \n",
    "print(vb_params_paragami)"
   ]
  },
  {
   "cell_type": "code",
   "execution_count": 9,
   "metadata": {
    "collapsed": true
   },
   "outputs": [],
   "source": [
    "ind_mix_stick_propn_mean = vb_params_dict['ind_mix_stick_propn_mean']\n",
    "ind_mix_stick_propn_info = vb_params_dict['ind_mix_stick_propn_info']\n",
    "pop_freq_beta_params = vb_params_dict['pop_freq_beta_params']"
   ]
  },
  {
   "cell_type": "code",
   "execution_count": 10,
   "metadata": {
    "collapsed": false
   },
   "outputs": [
    {
     "data": {
      "text/plain": [
       "(5, 4)"
      ]
     },
     "execution_count": 10,
     "metadata": {},
     "output_type": "execute_result"
    }
   ],
   "source": [
    "modeling_lib.get_e_log_beta(pop_freq_beta_params)[0].shape"
   ]
  },
  {
   "cell_type": "markdown",
   "metadata": {},
   "source": [
    "# Set up model"
   ]
  },
  {
   "cell_type": "code",
   "execution_count": 11,
   "metadata": {
    "collapsed": false
   },
   "outputs": [],
   "source": [
    "gh_deg = 8\n",
    "gh_loc, gh_weights = hermgauss(8)"
   ]
  },
  {
   "cell_type": "code",
   "execution_count": 12,
   "metadata": {
    "collapsed": false
   },
   "outputs": [],
   "source": [
    "# get loss as a function of vb parameters\n",
    "get_free_vb_params_loss = paragami.FlattenFunctionInput(\n",
    "                                original_fun=structure_model_lib.get_kl, \n",
    "                                patterns = vb_params_paragami,\n",
    "                                free = True,\n",
    "                                argnums = 1)\n",
    "\n",
    "get_free_vb_params_loss_cached = \\\n",
    "    lambda x : get_free_vb_params_loss(g_obs, x, prior_params_dict, gh_loc, gh_weights, \n",
    "                                      true_pop_allele_freq = None, \n",
    "                                      true_ind_admix_propn = None)"
   ]
  },
  {
   "cell_type": "code",
   "execution_count": 13,
   "metadata": {
    "collapsed": true
   },
   "outputs": [],
   "source": [
    "init_vb_free_params = vb_params_paragami.flatten(vb_params_dict, free = True)"
   ]
  },
  {
   "cell_type": "code",
   "execution_count": 14,
   "metadata": {
    "collapsed": false
   },
   "outputs": [
    {
     "data": {
      "text/plain": [
       "2695.742493201574"
      ]
     },
     "execution_count": 14,
     "metadata": {},
     "output_type": "execute_result"
    }
   ],
   "source": [
    "structure_model_lib.get_kl(g_obs, vb_params_dict,\n",
    "                   prior_params_dict, gh_loc, gh_weights)"
   ]
  },
  {
   "cell_type": "code",
   "execution_count": 15,
   "metadata": {
    "collapsed": false
   },
   "outputs": [
    {
     "data": {
      "text/plain": [
       "2695.742493201574"
      ]
     },
     "execution_count": 15,
     "metadata": {},
     "output_type": "execute_result"
    }
   ],
   "source": [
    "get_free_vb_params_loss_cached(init_vb_free_params)"
   ]
  },
  {
   "cell_type": "code",
   "execution_count": 16,
   "metadata": {
    "collapsed": false,
    "scrolled": true
   },
   "outputs": [
    {
     "name": "stdout",
     "output_type": "stream",
     "text": [
      "running bfgs ... \n",
      "Iter 0: f = 2695.74249320\n",
      "Iter 1: f = 2485.41702413\n",
      "Iter 2: f = 2400.93040842\n",
      "Iter 3: f = 2333.73846688\n",
      "Iter 4: f = 2252.37495055\n",
      "Iter 5: f = 2101.94356879\n",
      "Iter 6: f = 1908.68223269\n",
      "Iter 7: f = 1678.32081880\n",
      "Iter 8: f = 1627.00351029\n",
      "Iter 9: f = 1579.44051065\n",
      "Iter 10: f = 1542.14648002\n",
      "Iter 11: f = 1542.86847625\n",
      "Iter 12: f = 1529.59678591\n",
      "Iter 13: f = 1511.14681564\n",
      "Iter 14: f = 1494.38397199\n",
      "Iter 15: f = 1490.13495096\n",
      "Iter 16: f = 1483.33497012\n",
      "Iter 17: f = 1478.19091801\n",
      "Iter 18: f = 1467.17033982\n",
      "Iter 19: f = 1520.14083815\n",
      "Iter 20: f = 1459.72185694\n",
      "Iter 21: f = 1505.67372253\n",
      "Iter 22: f = 1458.18081516\n",
      "Iter 23: f = 1455.29442830\n",
      "Iter 24: f = 1450.05524938\n",
      "Iter 25: f = 1441.68068784\n",
      "Iter 26: f = 1435.47876889\n",
      "Iter 27: f = 1433.64117712\n",
      "Iter 28: f = 1431.57390520\n",
      "Iter 29: f = 1431.46669234\n",
      "Iter 30: f = 1430.61112489\n",
      "Iter 31: f = 1429.22492392\n",
      "Iter 32: f = 1426.94396504\n",
      "Iter 33: f = 1421.14192742\n",
      "Iter 34: f = 1437.74017552\n",
      "Iter 35: f = 1411.87319969\n",
      "Iter 36: f = 3600.80554335\n",
      "Iter 37: f = 1421.89433098\n",
      "Iter 38: f = 1410.74005955\n",
      "Iter 39: f = 1408.63083509\n",
      "Iter 40: f = 1404.68651907\n",
      "Iter 41: f = 1397.77199941\n",
      "Iter 42: f = 1387.22522812\n",
      "Iter 43: f = 1379.37757301\n",
      "Iter 44: f = 1377.01031990\n",
      "Iter 45: f = 1375.84022275\n",
      "Iter 46: f = 1374.54159503\n",
      "Iter 47: f = 1373.12279316\n",
      "Iter 48: f = 1372.13607417\n",
      "Iter 49: f = 1371.27891013\n",
      "Iter 50: f = 1370.75498601\n",
      "Iter 51: f = 1370.27933496\n",
      "Iter 52: f = 1369.97760612\n",
      "Iter 53: f = 1369.76023264\n",
      "Iter 54: f = 1369.57925952\n",
      "Iter 55: f = 1369.45236004\n",
      "Iter 56: f = 1369.35862960\n",
      "Iter 57: f = 1369.29616754\n",
      "Iter 58: f = 1369.22789630\n",
      "Iter 59: f = 1369.13187603\n",
      "Warning: Maximum number of iterations has been exceeded.\n",
      "         Current function value: 1369.131876\n",
      "         Iterations: 50\n",
      "         Function evaluations: 60\n",
      "         Gradient evaluations: 60\n",
      "\n",
      " running preconditioned newton; iter =  0\n",
      "computing preconditioner \n",
      "preconditioning time: 12.83\n",
      "running newton steps\n",
      "Iter 0: f = 1369.13187603\n",
      "Iter 1: f = 1368.91060128\n",
      "Iter 2: f = 1368.75211839\n",
      "Iter 3: f = 1368.73560744\n",
      "Iter 4: f = 1368.73392442\n",
      "Iter 5: f = 1368.73388563\n",
      "Iter 6: f = 1368.73388562\n",
      "Iter 7: f = 1368.73388562\n",
      "Iter 8: f = 1368.73388562\n",
      "Iter 9: f = 1368.73388562\n",
      "Iter 10: f = 1368.73388562\n",
      "Iter 11: f = 1368.73388562\n",
      "Iter 12: f = 1368.73388562\n",
      "Iter 13: f = 1368.73388562\n",
      "Iter 14: f = 1368.73388562\n",
      "Iter 15: f = 1368.73388562\n",
      "Iter 16: f = 1368.73388562\n",
      "Iter 17: f = 1368.73388562\n",
      "Iter 18: f = 1368.73388562\n",
      "Iter 19: f = 1368.73388562\n",
      "Warning: A bad approximation caused failure to predict improvement.\n",
      "         Current function value: 1368.733886\n",
      "         Iterations: 18\n",
      "         Function evaluations: 20\n",
      "         Gradient evaluations: 8\n",
      "         Hessian evaluations: 0\n",
      "Iter 0: x_diff = 13.496547807066289, f_diff = 0.39799040441107536, grad_l1 = 2.096073991972811e-06\n",
      "\n",
      " running preconditioned newton; iter =  1\n",
      "computing preconditioner \n",
      "preconditioning time: 14.21\n",
      "running newton steps\n",
      "Iter 0: f = 1368.73388562\n",
      "Iter 1: f = 1368.73388562\n",
      "Warning: A bad approximation caused failure to predict improvement.\n",
      "         Current function value: 1368.733886\n",
      "         Iterations: 0\n",
      "         Function evaluations: 2\n",
      "         Gradient evaluations: 1\n",
      "         Hessian evaluations: 0\n",
      "Iter 1: x_diff = 3.702600726018801e-12, f_diff = 2.2737367544323206e-13, grad_l1 = 2.0960738234991283e-06\n",
      "done. \n"
     ]
    }
   ],
   "source": [
    "vb_opt_free_params = opt_lib.optimize_full(get_free_vb_params_loss_cached, init_vb_free_params,\n",
    "                    bfgs_max_iter = 50, netwon_max_iter = 50,\n",
    "                    max_precondition_iter = 10,\n",
    "                    gtol=1e-8, ftol=1e-8, xtol=1e-8)"
   ]
  },
  {
   "cell_type": "code",
   "execution_count": 17,
   "metadata": {
    "collapsed": true
   },
   "outputs": [],
   "source": [
    "vb_opt_dict = vb_params_paragami.fold(vb_opt_free_params, free=True)"
   ]
  },
  {
   "cell_type": "code",
   "execution_count": 18,
   "metadata": {
    "collapsed": true
   },
   "outputs": [],
   "source": [
    "ind_mix_stick_propn_mean = vb_opt_dict['ind_mix_stick_propn_mean']\n",
    "ind_mix_stick_propn_info = vb_opt_dict['ind_mix_stick_propn_info']\n",
    "pop_freq_beta_params = vb_opt_dict['pop_freq_beta_params']"
   ]
  },
  {
   "cell_type": "code",
   "execution_count": 19,
   "metadata": {
    "collapsed": true
   },
   "outputs": [],
   "source": [
    "e_pop_allele_freq = pop_freq_beta_params[:, :, 0] / pop_freq_beta_params.sum(axis=2)"
   ]
  },
  {
   "cell_type": "code",
   "execution_count": 20,
   "metadata": {
    "collapsed": false
   },
   "outputs": [],
   "source": [
    "def find_min_perm(x, y, axis = 0):\n",
    "    # perumutes array x along axis to find closest \n",
    "    # match to y\n",
    "        \n",
    "    perms = list(permutations(np.arange(x.shape[axis])))\n",
    "\n",
    "    i = 0\n",
    "    diff_best = np.Inf\n",
    "    for perm in perms: \n",
    "\n",
    "        x_perm = x.take(perm, axis)\n",
    "        \n",
    "        diff = np.sum((x_perm - y)**2)\n",
    "        \n",
    "        if diff < diff_best: \n",
    "            diff_best = diff\n",
    "            i_best = i\n",
    "        \n",
    "        i += 1\n",
    "\n",
    "    return perms[i_best]"
   ]
  },
  {
   "cell_type": "code",
   "execution_count": 21,
   "metadata": {
    "collapsed": false
   },
   "outputs": [],
   "source": [
    "perm_best = find_min_perm(e_pop_allele_freq, true_pop_allele_freq, axis = 1)"
   ]
  },
  {
   "cell_type": "code",
   "execution_count": 22,
   "metadata": {
    "collapsed": false,
    "scrolled": true
   },
   "outputs": [
    {
     "data": {
      "text/plain": [
       "array([[0.92553933, 0.0110584 , 0.01560233, 0.01646585],\n",
       "       [0.00963405, 0.98609818, 0.01836387, 0.01945906],\n",
       "       [0.01089783, 0.01387308, 0.98260488, 0.02029114],\n",
       "       [0.01630353, 0.0152515 , 0.02121923, 0.98607813],\n",
       "       [0.0091834 , 0.02231597, 0.01778837, 0.03408285]])"
      ]
     },
     "execution_count": 22,
     "metadata": {},
     "output_type": "execute_result"
    }
   ],
   "source": [
    "e_pop_allele_freq[:, perm_best]"
   ]
  },
  {
   "cell_type": "code",
   "execution_count": 23,
   "metadata": {
    "collapsed": false
   },
   "outputs": [
    {
     "data": {
      "text/plain": [
       "array([[0.99, 0.01, 0.01, 0.01],\n",
       "       [0.01, 0.99, 0.01, 0.01],\n",
       "       [0.01, 0.01, 0.99, 0.01],\n",
       "       [0.01, 0.01, 0.01, 0.99],\n",
       "       [0.01, 0.01, 0.01, 0.01]])"
      ]
     },
     "execution_count": 23,
     "metadata": {},
     "output_type": "execute_result"
    }
   ],
   "source": [
    "true_pop_allele_freq"
   ]
  },
  {
   "cell_type": "code",
   "execution_count": 26,
   "metadata": {
    "collapsed": false
   },
   "outputs": [],
   "source": [
    "e_ind_admix = cluster_quantities_lib.get_e_cluster_probabilities(\n",
    "                        ind_mix_stick_propn_mean, ind_mix_stick_propn_info,\n",
    "                        gh_loc, gh_weights)[:, perm_best]"
   ]
  },
  {
   "cell_type": "code",
   "execution_count": 27,
   "metadata": {
    "collapsed": false,
    "scrolled": true
   },
   "outputs": [
    {
     "data": {
      "text/plain": [
       "array([0, 0, 2, 0, 1, 1, 0, 2, 2, 3, 1, 0, 2, 2, 3, 3, 3, 0, 1, 1, 2, 1,\n",
       "       0, 1, 3, 2, 0, 3, 1, 3, 2, 1, 1, 1, 3, 3, 1, 0, 0, 1, 3, 2, 3, 3,\n",
       "       1, 3, 3, 2, 2, 2, 3, 1, 3, 3, 0, 3, 1, 0, 3, 0, 0, 0, 1, 0, 1, 1,\n",
       "       2, 0, 1, 3, 3, 1, 3, 0, 2, 0, 0, 3, 0, 3, 3, 0, 0, 1, 2, 0, 2, 1,\n",
       "       3, 1, 1, 1, 3, 1, 0, 0, 3, 3, 3, 2, 2, 3, 0, 1, 2, 0, 2, 3, 1, 0,\n",
       "       2, 1, 2, 2, 0, 0, 0, 1, 2, 0, 2, 3, 1, 3, 0, 0, 0, 1, 3, 0, 0, 0,\n",
       "       0, 1, 0, 2, 1, 3, 2, 1, 2, 3, 2, 3, 1, 0, 2, 0, 2, 1, 1, 1, 2, 1,\n",
       "       2, 1, 0, 1, 1, 2])"
      ]
     },
     "execution_count": 27,
     "metadata": {},
     "output_type": "execute_result"
    }
   ],
   "source": [
    "e_ind_admix.argmax(axis=1)"
   ]
  },
  {
   "cell_type": "code",
   "execution_count": 28,
   "metadata": {
    "collapsed": false
   },
   "outputs": [
    {
     "data": {
      "text/plain": [
       "array([0, 0, 2, 0, 1, 1, 0, 2, 2, 3, 1, 0, 2, 2, 3, 3, 3, 0, 2, 1, 2, 1,\n",
       "       0, 1, 3, 2, 0, 3, 1, 3, 2, 1, 1, 1, 3, 3, 1, 0, 0, 1, 3, 2, 3, 3,\n",
       "       1, 3, 3, 2, 2, 2, 3, 1, 3, 3, 3, 3, 1, 0, 3, 0, 0, 0, 1, 0, 1, 1,\n",
       "       2, 0, 1, 3, 3, 1, 3, 0, 2, 0, 0, 3, 0, 3, 3, 0, 0, 1, 2, 0, 2, 1,\n",
       "       3, 1, 1, 1, 3, 1, 0, 0, 3, 3, 3, 2, 2, 3, 0, 1, 2, 0, 2, 3, 1, 0,\n",
       "       2, 1, 2, 2, 0, 3, 0, 1, 2, 0, 2, 3, 1, 3, 0, 0, 0, 1, 3, 0, 0, 0,\n",
       "       0, 1, 0, 2, 1, 3, 2, 1, 2, 3, 2, 3, 1, 0, 2, 0, 2, 1, 1, 1, 2, 1,\n",
       "       2, 1, 0, 1, 1, 2])"
      ]
     },
     "execution_count": 28,
     "metadata": {},
     "output_type": "execute_result"
    }
   ],
   "source": [
    "true_ind_admix_propn.argmax(axis=1)"
   ]
  },
  {
   "cell_type": "code",
   "execution_count": 29,
   "metadata": {
    "collapsed": false
   },
   "outputs": [
    {
     "data": {
      "text/plain": [
       "0.98125"
      ]
     },
     "execution_count": 29,
     "metadata": {},
     "output_type": "execute_result"
    }
   ],
   "source": [
    "np.mean(e_ind_admix.argmax(axis=1) == \\\n",
    "       true_ind_admix_propn.argmax(axis=1))"
   ]
  },
  {
   "cell_type": "code",
   "execution_count": null,
   "metadata": {
    "collapsed": true
   },
   "outputs": [],
   "source": []
  }
 ],
 "metadata": {
  "kernelspec": {
   "display_name": "Python 3",
   "language": "python",
   "name": "python3"
  },
  "language_info": {
   "codemirror_mode": {
    "name": "ipython",
    "version": 3
   },
   "file_extension": ".py",
   "mimetype": "text/x-python",
   "name": "python",
   "nbconvert_exporter": "python",
   "pygments_lexer": "ipython3",
   "version": "3.6.0"
  }
 },
 "nbformat": 4,
 "nbformat_minor": 2
}
