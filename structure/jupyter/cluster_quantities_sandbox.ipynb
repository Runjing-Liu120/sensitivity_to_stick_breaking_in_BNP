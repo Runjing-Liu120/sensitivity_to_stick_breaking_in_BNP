{
 "cells": [
  {
   "cell_type": "code",
   "execution_count": 1,
   "metadata": {
    "collapsed": false
   },
   "outputs": [],
   "source": [
    "import autograd \n",
    "\n",
    "import autograd.numpy as np\n",
    "import autograd.scipy as sp\n",
    "from numpy.polynomial.hermite import hermgauss\n",
    "\n",
    "import sys\n",
    "sys.path.insert(0, '../libraries/')\n",
    "sys.path.insert(0, '../../BNP_modeling/')\n",
    "\n",
    "import structure_model_lib\n",
    "import modeling_lib\n",
    "import data_utils\n",
    "import paragami\n",
    "import cluster_quantities_lib\n",
    "\n",
    "import optimization_lib as opt_lib\n",
    "\n",
    "from itertools import permutations\n",
    "\n",
    "import matplotlib.pyplot as plt\n",
    "%matplotlib inline  \n",
    "\n",
    "import vittles\n",
    "\n",
    "from copy import deepcopy"
   ]
  },
  {
   "cell_type": "code",
   "execution_count": 2,
   "metadata": {
    "collapsed": true
   },
   "outputs": [],
   "source": [
    "np.random.seed(53453)"
   ]
  },
  {
   "cell_type": "markdown",
   "metadata": {
    "collapsed": true
   },
   "source": [
    "# Draw data"
   ]
  },
  {
   "cell_type": "code",
   "execution_count": 3,
   "metadata": {
    "collapsed": false
   },
   "outputs": [],
   "source": [
    "n_obs = 50\n",
    "n_loci = 40\n",
    "n_pop = 4\n",
    "\n",
    "# population allele frequencies\n",
    "true_pop_allele_freq = np.random.random((n_loci, n_pop))\n",
    "\n",
    "# individual admixtures\n",
    "true_ind_admix_propn = np.random.dirichlet(np.ones(n_pop) / n_pop, size = (n_obs))"
   ]
  },
  {
   "cell_type": "code",
   "execution_count": 4,
   "metadata": {
    "collapsed": false,
    "scrolled": true
   },
   "outputs": [],
   "source": [
    "clustering_indx = data_utils.cluster_admix_get_indx(true_ind_admix_propn)\n",
    "true_ind_admix_propn = true_ind_admix_propn[clustering_indx, :]"
   ]
  },
  {
   "cell_type": "code",
   "execution_count": 5,
   "metadata": {
    "collapsed": false,
    "scrolled": true
   },
   "outputs": [
    {
     "data": {
      "text/plain": [
       "<matplotlib.image.AxesImage at 0x7f313cb24ac8>"
      ]
     },
     "execution_count": 5,
     "metadata": {},
     "output_type": "execute_result"
    },
    {
     "data": {
      "image/png": "[encoded data removed]",
      "text/plain": [
       "<matplotlib.figure.Figure at 0x7f3178138a20>"
      ]
     },
     "metadata": {},
     "output_type": "display_data"
    }
   ],
   "source": [
    "plt.matshow(true_ind_admix_propn.T)"
   ]
  },
  {
   "cell_type": "code",
   "execution_count": 6,
   "metadata": {
    "collapsed": false
   },
   "outputs": [],
   "source": [
    "g_obs = data_utils.draw_data(true_pop_allele_freq, true_ind_admix_propn)"
   ]
  },
  {
   "cell_type": "markdown",
   "metadata": {},
   "source": [
    "# Get prior"
   ]
  },
  {
   "cell_type": "code",
   "execution_count": 7,
   "metadata": {
    "collapsed": false
   },
   "outputs": [
    {
     "name": "stdout",
     "output_type": "stream",
     "text": [
      "OrderedDict:\n",
      "\t[dp_prior_alpha] = NumericArrayPattern (1,) (lb=0.0, ub=inf)\n",
      "\t[allele_prior_alpha] = NumericArrayPattern (1,) (lb=0.0, ub=inf)\n",
      "\t[allele_prior_beta] = NumericArrayPattern (1,) (lb=0.0, ub=inf)\n"
     ]
    }
   ],
   "source": [
    "prior_params_dict, prior_params_paragami = \\\n",
    "    structure_model_lib.get_default_prior_params()\n",
    "\n",
    "print(prior_params_paragami)"
   ]
  },
  {
   "cell_type": "markdown",
   "metadata": {},
   "source": [
    "# Get VB params "
   ]
  },
  {
   "cell_type": "code",
   "execution_count": 8,
   "metadata": {
    "collapsed": true
   },
   "outputs": [],
   "source": [
    "k_approx = 4"
   ]
  },
  {
   "cell_type": "code",
   "execution_count": 9,
   "metadata": {
    "collapsed": true
   },
   "outputs": [],
   "source": [
    "gh_deg = 8\n",
    "gh_loc, gh_weights = hermgauss(8)"
   ]
  },
  {
   "cell_type": "code",
   "execution_count": 10,
   "metadata": {
    "collapsed": false,
    "scrolled": true
   },
   "outputs": [
    {
     "name": "stdout",
     "output_type": "stream",
     "text": [
      "OrderedDict:\n",
      "\t[pop_freq_beta_params] = NumericArrayPattern (40, 4, 2) (lb=0.0, ub=inf)\n",
      "\t[ind_mix_stick_propn_mean] = NumericArrayPattern (50, 3) (lb=-inf, ub=inf)\n",
      "\t[ind_mix_stick_propn_info] = NumericArrayPattern (50, 3) (lb=0.0001, ub=inf)\n"
     ]
    }
   ],
   "source": [
    "vb_params_dict, vb_params_paragami = \\\n",
    "    structure_model_lib.get_vb_params_paragami_object(n_obs, n_loci, k_approx)\n",
    "    \n",
    "print(vb_params_paragami)"
   ]
  },
  {
   "cell_type": "markdown",
   "metadata": {},
   "source": [
    "## Initialize "
   ]
  },
  {
   "cell_type": "code",
   "execution_count": 11,
   "metadata": {
    "collapsed": false
   },
   "outputs": [],
   "source": [
    "vb_params_dict = structure_model_lib.set_init_vb_params(g_obs, k_approx, vb_params_dict)"
   ]
  },
  {
   "cell_type": "code",
   "execution_count": 12,
   "metadata": {
    "collapsed": false,
    "scrolled": true
   },
   "outputs": [],
   "source": [
    "# take a look at init \n",
    "e_ind_admix = cluster_quantities_lib.get_e_cluster_probabilities(\n",
    "                    vb_params_dict['ind_mix_stick_propn_mean'], \n",
    "                    vb_params_dict['ind_mix_stick_propn_info'],\n",
    "                    gh_loc, gh_weights)\n",
    "\n",
    "e_pop_freq = modeling_lib.get_e_beta(vb_params_dict['pop_freq_beta_params'])"
   ]
  },
  {
   "cell_type": "code",
   "execution_count": 13,
   "metadata": {
    "collapsed": true
   },
   "outputs": [],
   "source": [
    "if k_approx < 6: \n",
    "    # find minimizing permutation \n",
    "    # only feasible if k_approx is small, \n",
    "    # else my computer freezes\n",
    "    perm = data_utils.find_min_perm(e_pop_freq, true_pop_allele_freq, axis = 1)\n",
    "else: \n",
    "    perm = np.arange(k_approx)\n",
    "    \n",
    "e_pop_freq = e_pop_freq[:, perm]\n",
    "e_ind_admix = e_ind_admix[:, perm]"
   ]
  },
  {
   "cell_type": "code",
   "execution_count": 14,
   "metadata": {
    "collapsed": false
   },
   "outputs": [
    {
     "data": {
      "image/png": "[encoded data removed]",
      "text/plain": [
       "<matplotlib.figure.Figure at 0x7f313cb1c2e8>"
      ]
     },
     "metadata": {},
     "output_type": "display_data"
    },
    {
     "data": {
      "image/png": "[encoded data removed]",
      "text/plain": [
       "<matplotlib.figure.Figure at 0x7f313cb1c5f8>"
      ]
     },
     "metadata": {},
     "output_type": "display_data"
    }
   ],
   "source": [
    "plt.matshow(e_ind_admix.T); \n",
    "plt.matshow(true_ind_admix_propn.T);"
   ]
  },
  {
   "cell_type": "code",
   "execution_count": 15,
   "metadata": {
    "collapsed": true
   },
   "outputs": [],
   "source": [
    "import cluster_quantities_lib"
   ]
  },
  {
   "cell_type": "code",
   "execution_count": 16,
   "metadata": {
    "collapsed": false
   },
   "outputs": [
    {
     "data": {
      "text/plain": [
       "array([3.62333809, 3.54028172, 3.5224796 , 3.2578637 , 3.71903746,\n",
       "       3.31655249, 3.55057307, 3.45892392, 3.58331606, 3.59944438,\n",
       "       3.71984958, 3.72059919, 3.91893109, 3.70089045, 3.63339965,\n",
       "       3.68335809, 3.59512928, 3.59753001, 3.55079031, 3.6220242 ,\n",
       "       3.92076894, 3.59483898, 3.78094093, 3.73793847, 3.51388141,\n",
       "       3.56567772, 3.84419121, 3.73341856, 3.79973979, 3.74847666,\n",
       "       3.73896677, 3.84560873, 3.85319891, 3.61853716, 3.79373653,\n",
       "       3.68303417, 3.68941156, 3.68337999, 3.68506418, 3.6233115 ,\n",
       "       3.52805724, 3.6856181 , 3.49971203, 3.76532869, 3.83892425,\n",
       "       3.74601283, 3.73577982, 3.69240769, 3.69739366, 3.61125491])"
      ]
     },
     "execution_count": 16,
     "metadata": {},
     "output_type": "execute_result"
    }
   ],
   "source": [
    "cluster_quantities_lib.get_e_number_clusters_from_logit_sticks(vb_params_dict['ind_mix_stick_propn_mean'], \n",
    "                                        vb_params_dict['ind_mix_stick_propn_info'],\n",
    "                                            n_obs, threshold = 0,\n",
    "                                            n_samples = 1000,\n",
    "                                            unv_norm_samples = None)"
   ]
  },
  {
   "cell_type": "code",
   "execution_count": 17,
   "metadata": {
    "collapsed": false
   },
   "outputs": [],
   "source": [
    "e_z = np.random.random((n_obs, n_pop))"
   ]
  },
  {
   "cell_type": "code",
   "execution_count": 19,
   "metadata": {
    "collapsed": false
   },
   "outputs": [
    {
     "data": {
      "text/plain": [
       "(3.7, 0.21000000000000002)"
      ]
     },
     "execution_count": 19,
     "metadata": {},
     "output_type": "execute_result"
    }
   ],
   "source": [
    "cluster_quantities_lib.get_e_num_large_clusters_from_ez(e_z, n_samples = 20)"
   ]
  },
  {
   "cell_type": "code",
   "execution_count": null,
   "metadata": {
    "collapsed": true
   },
   "outputs": [],
   "source": []
  },
  {
   "cell_type": "code",
   "execution_count": null,
   "metadata": {
    "collapsed": true
   },
   "outputs": [],
   "source": []
  },
  {
   "cell_type": "code",
   "execution_count": null,
   "metadata": {
    "collapsed": true
   },
   "outputs": [],
   "source": [
    "get_e_num_large_clusters_from_ez"
   ]
  },
  {
   "cell_type": "code",
   "execution_count": 27,
   "metadata": {
    "collapsed": false
   },
   "outputs": [],
   "source": [
    "a = np.random.random((3, 2))"
   ]
  },
  {
   "cell_type": "code",
   "execution_count": 28,
   "metadata": {
    "collapsed": false
   },
   "outputs": [
    {
     "data": {
      "text/plain": [
       "array([0.85133414, 0.69441709, 0.74635605])"
      ]
     },
     "execution_count": 28,
     "metadata": {},
     "output_type": "execute_result"
    }
   ],
   "source": [
    "a.sum(axis = -1)"
   ]
  },
  {
   "cell_type": "code",
   "execution_count": 30,
   "metadata": {
    "collapsed": false
   },
   "outputs": [
    {
     "data": {
      "text/plain": [
       "array([[[0.28119555, 0.57013859]],\n",
       "\n",
       "       [[0.31159807, 0.38281902]],\n",
       "\n",
       "       [[0.3741415 , 0.37221454]]])"
      ]
     },
     "execution_count": 30,
     "metadata": {},
     "output_type": "execute_result"
    }
   ],
   "source": [
    "np.expand_dims(a, 1)"
   ]
  },
  {
   "cell_type": "code",
   "execution_count": null,
   "metadata": {
    "collapsed": true
   },
   "outputs": [],
   "source": []
  },
  {
   "cell_type": "code",
   "execution_count": null,
   "metadata": {
    "collapsed": true
   },
   "outputs": [],
   "source": []
  },
  {
   "cell_type": "markdown",
   "metadata": {},
   "source": [
    "# Set up model"
   ]
  },
  {
   "cell_type": "code",
   "execution_count": 15,
   "metadata": {
    "collapsed": false
   },
   "outputs": [],
   "source": [
    "# get loss as a function of vb parameters\n",
    "get_free_vb_params_loss = paragami.FlattenFunctionInput(\n",
    "                                original_fun=structure_model_lib.get_kl, \n",
    "                                patterns = vb_params_paragami,\n",
    "                                free = True,\n",
    "                                argnums = 1)\n",
    "\n",
    "get_free_vb_params_loss_cached = \\\n",
    "    lambda x : get_free_vb_params_loss(g_obs, x, prior_params_dict, gh_loc, gh_weights, \n",
    "                                      true_pop_allele_freq = None, \n",
    "                                      true_ind_admix_propn = None)"
   ]
  },
  {
   "cell_type": "code",
   "execution_count": 16,
   "metadata": {
    "collapsed": true
   },
   "outputs": [],
   "source": [
    "init_vb_free_params = vb_params_paragami.flatten(vb_params_dict, free = True)"
   ]
  },
  {
   "cell_type": "code",
   "execution_count": 17,
   "metadata": {
    "collapsed": false
   },
   "outputs": [
    {
     "data": {
      "text/plain": [
       "13347.90064635658"
      ]
     },
     "execution_count": 17,
     "metadata": {},
     "output_type": "execute_result"
    }
   ],
   "source": [
    "structure_model_lib.get_kl(g_obs, vb_params_dict,\n",
    "                   prior_params_dict, gh_loc, gh_weights)"
   ]
  },
  {
   "cell_type": "code",
   "execution_count": 18,
   "metadata": {
    "collapsed": false
   },
   "outputs": [
    {
     "data": {
      "text/plain": [
       "13347.90064635658"
      ]
     },
     "execution_count": 18,
     "metadata": {},
     "output_type": "execute_result"
    }
   ],
   "source": [
    "get_free_vb_params_loss_cached(init_vb_free_params)"
   ]
  },
  {
   "cell_type": "code",
   "execution_count": 19,
   "metadata": {
    "collapsed": false,
    "scrolled": true
   },
   "outputs": [
    {
     "name": "stdout",
     "output_type": "stream",
     "text": [
      "running bfgs ... \n",
      "Iter 0: f = 13347.90064636\n",
      "Iter 1: f = 12891.93705316\n",
      "Iter 2: f = 11323.28236337\n",
      "Iter 3: f = 8688.78059108\n",
      "Iter 4: f = 14964.93915191\n",
      "Iter 5: f = 7845.93705309\n",
      "Iter 6: f = 7139.71185471\n",
      "Iter 7: f = 6361.61396465\n",
      "Iter 8: f = 5557.58458921\n",
      "Iter 9: f = 4970.08449813\n",
      "Iter 10: f = 4770.77805639\n",
      "Iter 11: f = 4520.97689700\n",
      "Iter 12: f = 4339.32169662\n",
      "Iter 13: f = 4242.56022741\n",
      "Iter 14: f = 4159.58825531\n",
      "Iter 15: f = 4106.20203607\n",
      "Iter 16: f = 4059.46383041\n",
      "Iter 17: f = 4027.58956023\n",
      "Iter 18: f = 4003.85982227\n",
      "Iter 19: f = 3980.00870806\n",
      "Iter 20: f = 3960.22578959\n",
      "Iter 21: f = 3946.12757522\n",
      "Iter 22: f = 3929.40060697\n",
      "Iter 23: f = 3917.81688800\n",
      "Iter 24: f = 3909.76363935\n",
      "Iter 25: f = 3899.39040574\n",
      "Iter 26: f = 3892.52356488\n",
      "Iter 27: f = 3884.62562023\n",
      "Iter 28: f = 3875.93863872\n",
      "Iter 29: f = 3868.03658530\n",
      "Iter 30: f = 3859.14007183\n",
      "Iter 31: f = 3849.44640725\n",
      "Iter 32: f = 3839.22008108\n",
      "Iter 33: f = 3827.16999604\n",
      "Iter 34: f = 3814.57147708\n",
      "Iter 35: f = 3798.77255138\n",
      "Iter 36: f = 3784.19648821\n",
      "Iter 37: f = 3774.82514632\n",
      "Iter 38: f = 3763.88279699\n",
      "Iter 39: f = 3751.50701165\n",
      "Iter 40: f = 3737.01156261\n",
      "Iter 41: f = 3727.08429622\n",
      "Iter 42: f = 3718.11834393\n",
      "Iter 43: f = 3709.51819179\n",
      "Iter 44: f = 3700.70943016\n",
      "Iter 45: f = 3697.91824201\n",
      "Iter 46: f = 3693.55638678\n",
      "Iter 47: f = 3688.18200663\n",
      "Iter 48: f = 3684.30863142\n",
      "Iter 49: f = 3682.34841344\n",
      "Iter 50: f = 3680.22989891\n",
      "Iter 51: f = 3678.97715292\n",
      "Iter 52: f = 3677.91556741\n",
      "Warning: Maximum number of iterations has been exceeded.\n",
      "         Current function value: 3677.915567\n",
      "         Iterations: 50\n",
      "         Function evaluations: 53\n",
      "         Gradient evaluations: 53\n",
      "\n",
      " running preconditioned newton; iter =  0\n",
      "computing preconditioner \n",
      "preconditioning time: 84.49\n",
      "running newton steps\n",
      "Iter 0: f = 3677.91556741\n",
      "Iter 1: f = 3801.91024410\n",
      "Iter 2: f = 3676.28629204\n",
      "Iter 3: f = 3683.34693282\n",
      "Iter 4: f = 3675.61991665\n",
      "Iter 5: f = 3675.34936786\n",
      "Iter 6: f = 3674.82521792\n",
      "Iter 7: f = 3674.08190324\n",
      "Iter 8: f = 3673.37180216\n",
      "Iter 9: f = 3673.13143465\n",
      "Iter 10: f = 3672.03501473\n",
      "Iter 11: f = 3671.64238702\n",
      "Iter 12: f = 3671.55598869\n",
      "Iter 13: f = 3671.45800195\n",
      "Iter 14: f = 3671.44320479\n",
      "Iter 15: f = 3671.43692333\n",
      "Iter 16: f = 3671.43566235\n",
      "Iter 17: f = 3671.43564636\n",
      "Iter 18: f = 3671.43564612\n",
      "Iter 19: f = 3671.43564612\n",
      "Iter 20: f = 3671.43564612\n",
      "Warning: A bad approximation caused failure to predict improvement.\n",
      "         Current function value: 3671.435646\n",
      "         Iterations: 19\n",
      "         Function evaluations: 21\n",
      "         Gradient evaluations: 18\n",
      "         Hessian evaluations: 0\n",
      "Iter 0: x_diff = 151.43707695968163, f_diff = 6.479921290931543, grad_l1 = 4.903073414676351e-07\n",
      "\n",
      " running preconditioned newton; iter =  1\n",
      "computing preconditioner \n",
      "preconditioning time: 85.65\n",
      "running newton steps\n",
      "Iter 0: f = 3671.43564612\n",
      "Iter 1: f = 3671.43564612\n",
      "Warning: A bad approximation caused failure to predict improvement.\n",
      "         Current function value: 3671.435646\n",
      "         Iterations: 0\n",
      "         Function evaluations: 2\n",
      "         Gradient evaluations: 1\n",
      "         Hessian evaluations: 0\n",
      "Iter 1: x_diff = 1.4150262667329827e-11, f_diff = 4.547473508864641e-13, grad_l1 = 4.903071578699751e-07\n",
      "done. \n"
     ]
    }
   ],
   "source": [
    "vb_opt_free_params = opt_lib.optimize_full(get_free_vb_params_loss_cached, init_vb_free_params,\n",
    "                    bfgs_max_iter = 50, netwon_max_iter = 50,\n",
    "                    max_precondition_iter = 10,\n",
    "                    gtol=1e-8, ftol=1e-8, xtol=1e-8)"
   ]
  },
  {
   "cell_type": "code",
   "execution_count": 20,
   "metadata": {
    "collapsed": true
   },
   "outputs": [],
   "source": [
    "vb_opt_dict = vb_params_paragami.fold(vb_opt_free_params, free=True)"
   ]
  },
  {
   "cell_type": "code",
   "execution_count": 21,
   "metadata": {
    "collapsed": true
   },
   "outputs": [],
   "source": [
    "ind_mix_stick_propn_mean = vb_opt_dict['ind_mix_stick_propn_mean']\n",
    "ind_mix_stick_propn_info = vb_opt_dict['ind_mix_stick_propn_info']\n",
    "pop_freq_beta_params = vb_opt_dict['pop_freq_beta_params']"
   ]
  },
  {
   "cell_type": "code",
   "execution_count": 22,
   "metadata": {
    "collapsed": true
   },
   "outputs": [],
   "source": [
    "e_pop_allele_freq = pop_freq_beta_params[:, :, 0] / pop_freq_beta_params.sum(axis=2)"
   ]
  },
  {
   "cell_type": "code",
   "execution_count": 23,
   "metadata": {
    "collapsed": false
   },
   "outputs": [],
   "source": [
    "if k_approx < 6: \n",
    "    perm_best = data_utils.find_min_perm(e_pop_allele_freq, true_pop_allele_freq, axis = 1)\n",
    "else: \n",
    "    perm_best = perm"
   ]
  },
  {
   "cell_type": "code",
   "execution_count": 24,
   "metadata": {
    "collapsed": false
   },
   "outputs": [
    {
     "data": {
      "text/plain": [
       "([array([3., 6., 3., 3., 1., 7., 3., 2., 5., 7.]),\n",
       "  array([3., 3., 5., 4., 5., 2., 4., 4., 6., 4.]),\n",
       "  array([6., 4., 4., 4., 5., 4., 1., 1., 5., 6.]),\n",
       "  array([4., 7., 2., 5., 5., 2., 2., 2., 2., 9.]),\n",
       "  array([ 0.,  0.,  0.,  0., 20., 20.,  0.,  0.,  0.,  0.]),\n",
       "  array([ 0.,  0.,  0.,  0., 20., 20.,  0.,  0.,  0.,  0.]),\n",
       "  array([ 0.,  0.,  0.,  0., 23., 17.,  0.,  0.,  0.,  0.]),\n",
       "  array([ 0.,  0.,  0.,  0., 24., 16.,  0.,  0.,  0.,  0.]),\n",
       "  array([ 0.,  0.,  0.,  0., 26., 14.,  0.,  0.,  0.,  0.]),\n",
       "  array([ 0.,  0.,  0.,  0., 27., 13.,  0.,  0.,  0.,  0.]),\n",
       "  array([ 0.,  0.,  0.,  0., 28., 12.,  0.,  0.,  0.,  0.]),\n",
       "  array([ 0.,  0.,  0.,  0., 24., 16.,  0.,  0.,  0.,  0.])],\n",
       " array([0.0409279 , 0.1329199 , 0.2249119 , 0.31690389, 0.40889589,\n",
       "        0.50088788, 0.59287988, 0.68487188, 0.77686387, 0.86885587,\n",
       "        0.96084786]),\n",
       " <a list of 12 Lists of Patches objects>)"
      ]
     },
     "execution_count": 24,
     "metadata": {},
     "output_type": "execute_result"
    },
    {
     "data": {
      "image/png": "[encoded data removed]",
      "text/plain": [
       "<matplotlib.figure.Figure at 0x7f4e90ad6470>"
      ]
     },
     "metadata": {},
     "output_type": "display_data"
    }
   ],
   "source": [
    "plt.hist(e_pop_allele_freq)"
   ]
  },
  {
   "cell_type": "code",
   "execution_count": 25,
   "metadata": {
    "collapsed": false,
    "scrolled": false
   },
   "outputs": [
    {
     "data": {
      "text/plain": [
       "<matplotlib.image.AxesImage at 0x7f4e90845a90>"
      ]
     },
     "execution_count": 25,
     "metadata": {},
     "output_type": "execute_result"
    },
    {
     "data": {
      "image/png": "[encoded data removed]",
      "text/plain": [
       "<matplotlib.figure.Figure at 0x7f4e90a9b3c8>"
      ]
     },
     "metadata": {},
     "output_type": "display_data"
    }
   ],
   "source": [
    "plt.matshow(e_pop_allele_freq[:, perm_best].T)"
   ]
  },
  {
   "cell_type": "code",
   "execution_count": 26,
   "metadata": {
    "collapsed": false,
    "scrolled": true
   },
   "outputs": [
    {
     "data": {
      "text/plain": [
       "<matplotlib.image.AxesImage at 0x7f4e907cf9b0>"
      ]
     },
     "execution_count": 26,
     "metadata": {},
     "output_type": "execute_result"
    },
    {
     "data": {
      "image/png": "[encoded data removed]",
      "text/plain": [
       "<matplotlib.figure.Figure at 0x7f4e90854e48>"
      ]
     },
     "metadata": {},
     "output_type": "display_data"
    }
   ],
   "source": [
    "plt.matshow(true_pop_allele_freq.T)"
   ]
  },
  {
   "cell_type": "code",
   "execution_count": 27,
   "metadata": {
    "collapsed": false
   },
   "outputs": [],
   "source": [
    "e_ind_admix = dp_modeling_lib.get_e_cluster_probabilities(\n",
    "                        ind_mix_stick_propn_mean, ind_mix_stick_propn_info,\n",
    "                        gh_loc, gh_weights)[:, perm_best]"
   ]
  },
  {
   "cell_type": "code",
   "execution_count": 28,
   "metadata": {
    "collapsed": false
   },
   "outputs": [
    {
     "data": {
      "text/plain": [
       "array([2, 2, 2, 2, 2, 2, 2, 2, 2, 2, 0, 2, 0, 2, 0, 0, 0, 0, 0, 0, 0, 0,\n",
       "       0, 2, 3, 3, 3, 3, 0, 1, 3, 1, 1, 1, 1, 1, 1, 1, 1, 1, 1, 1, 1, 1,\n",
       "       1, 0, 1, 1, 0, 0])"
      ]
     },
     "execution_count": 28,
     "metadata": {},
     "output_type": "execute_result"
    }
   ],
   "source": [
    "e_ind_admix.argmax(axis=1)"
   ]
  },
  {
   "cell_type": "code",
   "execution_count": 29,
   "metadata": {
    "collapsed": false
   },
   "outputs": [
    {
     "data": {
      "text/plain": [
       "array([2, 2, 2, 2, 2, 2, 2, 2, 2, 0, 2, 2, 2, 2, 0, 0, 0, 0, 0, 0, 0, 0,\n",
       "       0, 1, 1, 1, 1, 1, 1, 1, 1, 1, 2, 3, 3, 3, 3, 3, 3, 3, 3, 3, 3, 3,\n",
       "       0, 0, 3, 3, 0, 0])"
      ]
     },
     "execution_count": 29,
     "metadata": {},
     "output_type": "execute_result"
    }
   ],
   "source": [
    "true_ind_admix_propn.argmax(axis=1)"
   ]
  },
  {
   "cell_type": "code",
   "execution_count": 30,
   "metadata": {
    "collapsed": false
   },
   "outputs": [
    {
     "data": {
      "text/plain": [
       "0.5"
      ]
     },
     "execution_count": 30,
     "metadata": {},
     "output_type": "execute_result"
    }
   ],
   "source": [
    "np.mean(e_ind_admix.argmax(axis=1) == \\\n",
    "       true_ind_admix_propn.argmax(axis=1))"
   ]
  },
  {
   "cell_type": "code",
   "execution_count": 31,
   "metadata": {
    "collapsed": false
   },
   "outputs": [
    {
     "data": {
      "text/plain": [
       "<matplotlib.image.AxesImage at 0x7f4e9075edd8>"
      ]
     },
     "execution_count": 31,
     "metadata": {},
     "output_type": "execute_result"
    },
    {
     "data": {
      "image/png": "[encoded data removed]",
      "text/plain": [
       "<matplotlib.figure.Figure at 0x7f4e907e1550>"
      ]
     },
     "metadata": {},
     "output_type": "display_data"
    }
   ],
   "source": [
    "plt.matshow(true_ind_admix_propn.T)"
   ]
  },
  {
   "cell_type": "code",
   "execution_count": 32,
   "metadata": {
    "collapsed": false
   },
   "outputs": [
    {
     "data": {
      "text/plain": [
       "<matplotlib.image.AxesImage at 0x7f4e906e6668>"
      ]
     },
     "execution_count": 32,
     "metadata": {},
     "output_type": "execute_result"
    },
    {
     "data": {
      "image/png": "[encoded data removed]",
      "text/plain": [
       "<matplotlib.figure.Figure at 0x7f4e907af438>"
      ]
     },
     "metadata": {},
     "output_type": "display_data"
    }
   ],
   "source": [
    "plt.matshow(e_ind_admix.T)"
   ]
  },
  {
   "cell_type": "code",
   "execution_count": null,
   "metadata": {
    "collapsed": true
   },
   "outputs": [],
   "source": []
  },
  {
   "cell_type": "markdown",
   "metadata": {},
   "source": [
    "# Parametric sensitivity"
   ]
  },
  {
   "cell_type": "markdown",
   "metadata": {},
   "source": [
    "## Get linear sensitivity object"
   ]
  },
  {
   "cell_type": "code",
   "execution_count": 34,
   "metadata": {
    "collapsed": false
   },
   "outputs": [],
   "source": [
    "get_kl_from_vb_free_prior_free = paragami.FlattenFunctionInput(original_fun=structure_model_lib.get_kl, \n",
    "                                    patterns = [vb_params_paragami, prior_params_paragami],\n",
    "                                    free = True,\n",
    "                                    argnums = [1, 2])"
   ]
  },
  {
   "cell_type": "code",
   "execution_count": 35,
   "metadata": {
    "collapsed": false
   },
   "outputs": [],
   "source": [
    "vb_sens = \\\n",
    "    vittles.HyperparameterSensitivityLinearApproximation(\n",
    "        objective_fun = lambda x, y: get_kl_from_vb_free_prior_free(g_obs, x, y, gh_loc, gh_weights),\n",
    "        opt_par_value = vb_opt_free_params, \n",
    "        hyper_par_value = prior_params_paragami.flatten(prior_params_dict, free=True),\n",
    "        validate_optimum=False,\n",
    "        hessian_at_opt=None,\n",
    "        cross_hess_at_opt=None,\n",
    "        factorize_hessian=True,\n",
    "        hyper_par_objective_fun=None,\n",
    "        grad_tol=1e-8)"
   ]
  },
  {
   "cell_type": "code",
   "execution_count": 36,
   "metadata": {
    "collapsed": false
   },
   "outputs": [],
   "source": [
    "hessian_at_opt = vb_sens.get_hessian_at_opt()"
   ]
  },
  {
   "cell_type": "markdown",
   "metadata": {},
   "source": [
    "## Perturb and re-optimize"
   ]
  },
  {
   "cell_type": "code",
   "execution_count": 37,
   "metadata": {
    "collapsed": false
   },
   "outputs": [],
   "source": [
    "prior_perturbed_dict = deepcopy(prior_params_dict)"
   ]
  },
  {
   "cell_type": "code",
   "execution_count": 38,
   "metadata": {
    "collapsed": false
   },
   "outputs": [],
   "source": [
    "prior_perturbed_dict['dp_prior_alpha'] = 8"
   ]
  },
  {
   "cell_type": "code",
   "execution_count": 39,
   "metadata": {
    "collapsed": true
   },
   "outputs": [],
   "source": [
    "perturbed_objective = \\\n",
    "    lambda x : get_free_vb_params_loss(g_obs, x, \n",
    "                                       prior_perturbed_dict, gh_loc, gh_weights, \n",
    "                                      true_pop_allele_freq = None, \n",
    "                                      true_ind_admix_propn = None)"
   ]
  },
  {
   "cell_type": "code",
   "execution_count": 40,
   "metadata": {
    "collapsed": false,
    "scrolled": true
   },
   "outputs": [
    {
     "name": "stdout",
     "output_type": "stream",
     "text": [
      "\n",
      " running preconditioned newton; iter =  0\n",
      "setting preconditioner with hessian: \n",
      "running newton steps\n",
      "Iter 0: f = 5059.54186781\n",
      "Iter 1: f = 5017.91325591\n",
      "Iter 2: f = 4940.72680969\n",
      "Iter 3: f = 4809.44569034\n",
      "Iter 4: f = 4629.60373099\n",
      "Iter 5: f = 4515.77186577\n",
      "Iter 6: f = 4478.82086900\n",
      "Iter 7: f = 4482.46609133\n",
      "Iter 8: f = 4470.99841710\n",
      "Iter 9: f = 4466.02362573\n",
      "Iter 10: f = 4463.45951637\n",
      "Iter 11: f = 4463.60839770\n",
      "Iter 12: f = 4462.81572068\n",
      "Iter 13: f = 4462.24967124\n",
      "Iter 14: f = 4461.91612000\n",
      "Iter 15: f = 4461.60091417\n",
      "Iter 16: f = 4461.48212929\n",
      "Iter 17: f = 4462.60442229\n",
      "Iter 18: f = 4461.37768221\n",
      "Iter 19: f = 4461.31165687\n",
      "Iter 20: f = 4461.15418163\n",
      "Iter 21: f = 4461.11247379\n",
      "Iter 22: f = 4461.11157005\n",
      "Iter 23: f = 4461.09507905\n",
      "Iter 24: f = 4461.08237523\n",
      "Iter 25: f = 4461.08181775\n",
      "Iter 26: f = 4461.08172933\n",
      "Iter 27: f = 4461.08172917\n",
      "Iter 28: f = 4461.08172917\n",
      "Iter 29: f = 4461.08172917\n",
      "Warning: A bad approximation caused failure to predict improvement.\n",
      "         Current function value: 4461.081729\n",
      "         Iterations: 28\n",
      "         Function evaluations: 30\n",
      "         Gradient evaluations: 25\n",
      "         Hessian evaluations: 0\n",
      "Iter 0: x_diff = 1751.8093271905127, f_diff = 598.4601386462427, grad_l1 = 5.789893254351105e-07\n",
      "\n",
      " running preconditioned newton; iter =  1\n",
      "setting preconditioner with hessian: \n",
      "running newton steps\n",
      "Iter 0: f = 4461.08172917\n",
      "Iter 1: f = 4461.08172917\n",
      "Warning: A bad approximation caused failure to predict improvement.\n",
      "         Current function value: 4461.081729\n",
      "         Iterations: 0\n",
      "         Function evaluations: 2\n",
      "         Gradient evaluations: 1\n",
      "         Hessian evaluations: 0\n",
      "Iter 1: x_diff = 1.752881780697768e-11, f_diff = 0.0, grad_l1 = 5.789894149185636e-07\n",
      "done. \n"
     ]
    }
   ],
   "source": [
    "pert_vb_free_params = \\\n",
    "    opt_lib.optimize_full(perturbed_objective, \n",
    "                    deepcopy(vb_opt_free_params),\n",
    "                    bfgs_max_iter = 0, \n",
    "                    netwon_max_iter = 50,\n",
    "                    max_precondition_iter = 10,\n",
    "                    gtol=1e-8, ftol=1e-8, xtol=1e-8, \n",
    "                    init_hessian = deepcopy(hessian_at_opt))"
   ]
  },
  {
   "cell_type": "code",
   "execution_count": 41,
   "metadata": {
    "collapsed": false
   },
   "outputs": [
    {
     "data": {
      "text/plain": [
       "4.2457385064678625"
      ]
     },
     "execution_count": 41,
     "metadata": {},
     "output_type": "execute_result"
    }
   ],
   "source": [
    "# non-zero if optimization went somewhere\n",
    "np.max(np.abs(pert_vb_free_params - vb_opt_free_params))"
   ]
  },
  {
   "cell_type": "markdown",
   "metadata": {},
   "source": [
    "### linear response"
   ]
  },
  {
   "cell_type": "code",
   "execution_count": 42,
   "metadata": {
    "collapsed": false
   },
   "outputs": [],
   "source": [
    "lr_vb_free_params = \\\n",
    "    vb_sens.predict_opt_par_from_hyper_par(\n",
    "        prior_params_paragami.flatten(prior_perturbed_dict, free = True))"
   ]
  },
  {
   "cell_type": "code",
   "execution_count": 43,
   "metadata": {
    "collapsed": false
   },
   "outputs": [
    {
     "data": {
      "text/plain": [
       "<matplotlib.text.Text at 0x7f4e9064e940>"
      ]
     },
     "execution_count": 43,
     "metadata": {},
     "output_type": "execute_result"
    },
    {
     "data": {
      "image/png": "[encoded data removed]",
      "text/plain": [
       "<matplotlib.figure.Figure at 0x7f4e907a9048>"
      ]
     },
     "metadata": {},
     "output_type": "display_data"
    }
   ],
   "source": [
    "plt.plot(lr_vb_free_params - vb_opt_free_params, \n",
    "         pert_vb_free_params - vb_opt_free_params, '+')\n",
    "\n",
    "plt.plot(lr_vb_free_params - vb_opt_free_params, \n",
    "        lr_vb_free_params - vb_opt_free_params, '-')\n",
    "\n",
    "plt.ylabel('re-optimized free parameters')\n",
    "plt.xlabel('linear response free parameters')"
   ]
  },
  {
   "cell_type": "markdown",
   "metadata": {},
   "source": [
    "# Perturb for a range of alphas"
   ]
  },
  {
   "cell_type": "code",
   "execution_count": 44,
   "metadata": {
    "collapsed": true
   },
   "outputs": [],
   "source": [
    "alpha_vec = np.arange(1, 12)"
   ]
  },
  {
   "cell_type": "code",
   "execution_count": 25,
   "metadata": {
    "collapsed": false
   },
   "outputs": [
    {
     "ename": "NameError",
     "evalue": "name 'alpha_vec' is not defined",
     "output_type": "error",
     "traceback": [
      "\u001b[0;31m---------------------------------------------------------------------------\u001b[0m",
      "\u001b[0;31mNameError\u001b[0m                                 Traceback (most recent call last)",
      "\u001b[0;32m<ipython-input-25-76206d3b9ee7>\u001b[0m in \u001b[0;36m<module>\u001b[0;34m()\u001b[0m\n\u001b[0;32m----> 1\u001b[0;31m \u001b[0mpert_vb_free_params_array\u001b[0m \u001b[0;34m=\u001b[0m \u001b[0mnp\u001b[0m\u001b[0;34m.\u001b[0m\u001b[0mzeros\u001b[0m\u001b[0;34m(\u001b[0m\u001b[0;34m(\u001b[0m\u001b[0mlen\u001b[0m\u001b[0;34m(\u001b[0m\u001b[0malpha_vec\u001b[0m\u001b[0;34m)\u001b[0m\u001b[0;34m,\u001b[0m \u001b[0mlen\u001b[0m\u001b[0;34m(\u001b[0m\u001b[0mvb_opt_free_params\u001b[0m\u001b[0;34m)\u001b[0m\u001b[0;34m)\u001b[0m\u001b[0;34m)\u001b[0m\u001b[0;34m\u001b[0m\u001b[0m\n\u001b[0m\u001b[1;32m      2\u001b[0m \u001b[0mlr_vb_free_params_array\u001b[0m \u001b[0;34m=\u001b[0m \u001b[0mnp\u001b[0m\u001b[0;34m.\u001b[0m\u001b[0mzeros\u001b[0m\u001b[0;34m(\u001b[0m\u001b[0;34m(\u001b[0m\u001b[0mlen\u001b[0m\u001b[0;34m(\u001b[0m\u001b[0malpha_vec\u001b[0m\u001b[0;34m)\u001b[0m\u001b[0;34m,\u001b[0m \u001b[0mlen\u001b[0m\u001b[0;34m(\u001b[0m\u001b[0mvb_opt_free_params\u001b[0m\u001b[0;34m)\u001b[0m\u001b[0;34m)\u001b[0m\u001b[0;34m)\u001b[0m\u001b[0;34m\u001b[0m\u001b[0m\n\u001b[1;32m      3\u001b[0m \u001b[0;34m\u001b[0m\u001b[0m\n\u001b[1;32m      4\u001b[0m \u001b[0;32mfor\u001b[0m \u001b[0mi\u001b[0m \u001b[0;32min\u001b[0m \u001b[0mrange\u001b[0m\u001b[0;34m(\u001b[0m\u001b[0mlen\u001b[0m\u001b[0;34m(\u001b[0m\u001b[0malpha_vec\u001b[0m\u001b[0;34m)\u001b[0m\u001b[0;34m)\u001b[0m\u001b[0;34m:\u001b[0m\u001b[0;34m\u001b[0m\u001b[0m\n\u001b[1;32m      5\u001b[0m     \u001b[0mprint\u001b[0m\u001b[0;34m(\u001b[0m\u001b[0;34m'###########################\\n'\u001b[0m\u001b[0;34m)\u001b[0m\u001b[0;34m\u001b[0m\u001b[0m\n",
      "\u001b[0;31mNameError\u001b[0m: name 'alpha_vec' is not defined"
     ]
    }
   ],
   "source": [
    "pert_vb_free_params_array = np.zeros((len(alpha_vec), len(vb_opt_free_params)))\n",
    "lr_vb_free_params_array = np.zeros((len(alpha_vec), len(vb_opt_free_params)))\n",
    "\n",
    "for i in range(len(alpha_vec)): \n",
    "    print('###########################\\n')\n",
    "    print('optimizing alpha = {}\\n'.format(alpha_vec[i]))\n",
    "    print('###########################\\n')\n",
    "    # get prior perturbation \n",
    "    prior_perturbed_dict = deepcopy(prior_params_dict)\n",
    "    prior_perturbed_dict['dp_prior_alpha'] = alpha_vec[i]\n",
    "    \n",
    "    # get perturbed objective \n",
    "    perturbed_objective = \\\n",
    "        lambda x : get_free_vb_params_loss(g_obs, x, \n",
    "                                           prior_perturbed_dict, gh_loc, gh_weights, \n",
    "                                          true_pop_allele_freq = None, \n",
    "                                          true_ind_admix_propn = None)\n",
    "    # optimize \n",
    "    pert_vb_free_params = \\\n",
    "        opt_lib.optimize_full(perturbed_objective, \n",
    "                        deepcopy(vb_opt_free_params),\n",
    "                        bfgs_max_iter = 0, \n",
    "                        netwon_max_iter = 50,\n",
    "                        max_precondition_iter = 10,\n",
    "                        gtol=1e-8, ftol=1e-8, xtol=1e-8, \n",
    "                        init_hessian = deepcopy(hessian_at_opt))\n",
    "    \n",
    "    # get linear response\n",
    "    lr_vb_free_params = \\\n",
    "        vb_sens.predict_opt_par_from_hyper_par(\n",
    "            prior_params_paragami.flatten(prior_perturbed_dict, free = True))\n",
    "    \n",
    "    pert_vb_free_params_array[i, :] = pert_vb_free_params\n",
    "    lr_vb_free_params_array[i, :] = lr_vb_free_params\n",
    "    "
   ]
  },
  {
   "cell_type": "code",
   "execution_count": null,
   "metadata": {
    "collapsed": false,
    "scrolled": true
   },
   "outputs": [],
   "source": [
    "# check results:\n",
    "for i in range(len(alpha_vec)): \n",
    "    plt.figure()\n",
    "    plt.plot(lr_vb_free_params_array[i, :] - vb_opt_free_params, \n",
    "            pert_vb_free_params_array[i, :] - vb_opt_free_params, '+')\n",
    "    plt.plot(lr_vb_free_params_array[i, :] - vb_opt_free_params, \n",
    "            lr_vb_free_params_array[i, :] - vb_opt_free_params, '-')\n",
    "    \n",
    "    plt.title('free params at alpha = {}'.format(alpha_vec[i]))\n",
    "    plt.xlabel('lr')\n",
    "    plt.ylabel('re-optimized')"
   ]
  },
  {
   "cell_type": "markdown",
   "metadata": {},
   "source": [
    "# check how vb expectations change"
   ]
  },
  {
   "cell_type": "code",
   "execution_count": null,
   "metadata": {
    "collapsed": true
   },
   "outputs": [],
   "source": [
    "def get_vb_expectations(vb_free_params, vb_params_paragami, true_pop_allele_freq): \n",
    "    # get vb dict \n",
    "    vb_params_dict = vb_params_paragami.fold(vb_free_params, free=True)\n",
    "    \n",
    "    # get popoulation frequencies\n",
    "    e_pop_allele_freq = dp_modeling_lib.get_e_beta(vb_params_dict['pop_freq_beta_params'])\n",
    "    \n",
    "    # find minimizing permutation \n",
    "    if true_pop_allele_freq.shape[1] < 6: \n",
    "        perm = data_utils.find_min_perm(e_pop_allele_freq, true_pop_allele_freq, axis = 1)\n",
    "    else: \n",
    "        perm = np.arange(true_pop_allele_freq.shape[1])\n",
    "    \n",
    "    # get individual admixutures\n",
    "    e_ind_admix = dp_modeling_lib.get_e_cluster_probabilities(\n",
    "                        vb_params_dict['ind_mix_stick_propn_mean'], \n",
    "                        vb_params_dict['ind_mix_stick_propn_info'],\n",
    "                        gh_loc, gh_weights)[:, perm]\n",
    "    \n",
    "    return e_ind_admix, e_pop_allele_freq[:, perm]"
   ]
  },
  {
   "cell_type": "code",
   "execution_count": null,
   "metadata": {
    "collapsed": false
   },
   "outputs": [],
   "source": [
    "opt_e_ind_admix, opt_e_pop_allele_freq = get_vb_expectations(vb_opt_free_params, \n",
    "                                                                vb_params_paragami, \n",
    "                                                                true_pop_allele_freq)\n",
    "\n",
    "pert_e_ind_admix_array = np.zeros((len(alpha_vec), len(opt_e_ind_admix.flatten())))\n",
    "lr_e_ind_admix_array = np.zeros((len(alpha_vec), len(opt_e_ind_admix.flatten())))\n",
    "\n",
    "pert_e_pop_allele_freq_array = np.zeros((len(alpha_vec), len(opt_e_pop_allele_freq.flatten())))\n",
    "lr_e_pop_allele_freq_array = np.zeros((len(alpha_vec), len(opt_e_pop_allele_freq.flatten())))\n",
    "\n",
    "for i in range(len(alpha_vec)): \n",
    "    pert_e_ind_admix, pert_e_pop_allele_freq = \\\n",
    "                    get_vb_expectations(pert_vb_free_params_array[i, :], \n",
    "                                                vb_params_paragami, \n",
    "                                                true_pop_allele_freq)\n",
    "    \n",
    "    lr_e_ind_admix, lr_e_pop_allele_freq = \\\n",
    "                    get_vb_expectations(lr_vb_free_params_array[i, :], \n",
    "                                                vb_params_paragami, \n",
    "                                                true_pop_allele_freq)\n",
    "    \n",
    "    _, axarr = plt.subplots(1, 2, figsize = (15, 15))\n",
    "    axarr[0].matshow(pert_e_ind_admix.T)\n",
    "    axarr[1].matshow(lr_e_ind_admix.T)\n",
    "    axarr[0].set_title('alpha = {}\\n'.format(alpha_vec[i]))\n",
    "    axarr[1].set_title('alpha = {}\\n'.format(alpha_vec[i]))\n",
    "    \n",
    "    plt.tight_layout()\n",
    "    \n",
    "    pert_e_ind_admix_array[i, :] = pert_e_ind_admix.flatten()\n",
    "    lr_e_ind_admix_array[i, :] = lr_e_ind_admix.flatten()\n",
    "    \n",
    "    pert_e_pop_allele_freq_array[i, :] = pert_e_pop_allele_freq.flatten()\n",
    "    lr_e_pop_allele_freq_array[i, :] = lr_e_pop_allele_freq.flatten()"
   ]
  },
  {
   "cell_type": "code",
   "execution_count": null,
   "metadata": {
    "collapsed": false
   },
   "outputs": [],
   "source": [
    "for i in range(len(alpha_vec)): \n",
    "    plt.figure()\n",
    "    plt.plot(lr_e_ind_admix_array[i, :] - opt_e_ind_admix.flatten(), \n",
    "            pert_e_ind_admix_array[i, :] - opt_e_ind_admix.flatten(), '+')\n",
    "    plt.plot(pert_e_ind_admix_array[i, :] - opt_e_ind_admix.flatten(), \n",
    "            pert_e_ind_admix_array[i, :] - opt_e_ind_admix.flatten(), '-')\n",
    "    plt.title('individual admixtures, alpha = {}'.format(alpha_vec[i]))\n",
    "    \n",
    "    plt.xlabel('lr')\n",
    "    plt.ylabel('re-opt')"
   ]
  },
  {
   "cell_type": "code",
   "execution_count": null,
   "metadata": {
    "collapsed": false
   },
   "outputs": [],
   "source": [
    "for i in range(len(alpha_vec)): \n",
    "    plt.figure()\n",
    "    plt.plot(lr_e_pop_allele_freq_array[i, :] - opt_e_pop_allele_freq.flatten(), \n",
    "            pert_e_pop_allele_freq_array[i, :] - opt_e_pop_allele_freq.flatten(), '+')\n",
    "    plt.plot(pert_e_pop_allele_freq_array[i, :] - opt_e_pop_allele_freq.flatten(), \n",
    "            pert_e_pop_allele_freq_array[i, :] - opt_e_pop_allele_freq.flatten(), '-')\n",
    "    plt.title('population frequencies, alpha = {}'.format(alpha_vec[i]))\n",
    "    plt.xlabel('lr')\n",
    "    plt.ylabel('re-opt')"
   ]
  },
  {
   "cell_type": "code",
   "execution_count": null,
   "metadata": {
    "collapsed": true
   },
   "outputs": [],
   "source": []
  },
  {
   "cell_type": "code",
   "execution_count": null,
   "metadata": {
    "collapsed": true
   },
   "outputs": [],
   "source": []
  }
 ],
 "metadata": {
  "kernelspec": {
   "display_name": "Python 3",
   "language": "python",
   "name": "python3"
  },
  "language_info": {
   "codemirror_mode": {
    "name": "ipython",
    "version": 3
   },
   "file_extension": ".py",
   "mimetype": "text/x-python",
   "name": "python",
   "nbconvert_exporter": "python",
   "pygments_lexer": "ipython3",
   "version": "3.6.0"
  }
 },
 "nbformat": 4,
 "nbformat_minor": 2
}
